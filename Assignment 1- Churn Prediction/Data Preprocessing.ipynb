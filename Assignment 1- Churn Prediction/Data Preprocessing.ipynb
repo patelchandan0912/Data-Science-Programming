{
 "cells": [
  {
   "cell_type": "markdown",
   "id": "f32a7868-b45c-4cd9-b028-782a197151e0",
   "metadata": {},
   "source": [
    "# Customer Churn Detection of Ecommerce Business"
   ]
  },
  {
   "cell_type": "markdown",
   "id": "35abbddf-260e-4f6e-a156-7dd7d03c7fd0",
   "metadata": {},
   "source": [
    "### Business Sense of the churn detection and its usage\n",
    "\n",
    "Suppose an e-commerce business has 100,000 customers and has developed a churn detection model using machine learning techniques to identify customers who are at risk of churning. The company uses a recall score to evaluate the performance of the model and aims to achieve a recall score of 0.8 or higher.\n",
    "\n",
    "Suppose that the company collects data on customer behavior, such as purchase history, time since last purchase, and frequency of purchases. The company uses this data to train a logistic regression model for churn detection and evaluates its performance using cross-validation. The final model achieves a recall score of 0.85 on a held-out test set.\n",
    "\n",
    "The goal of the assignment is to evaluate the model's performance on the dataset and predict the cost of churn customers in the end."
   ]
  },
  {
   "cell_type": "markdown",
   "id": "acfd2882",
   "metadata": {},
   "source": [
    "## Data Description\n",
    "\n",
    "1) CustomerID: Unique customer ID <br>\n",
    "2) Churn: Churn Flag <br>\n",
    "3) Tenure: Tenure of customer in organization <br>\n",
    "4) PreferredLoginDevice: Preferred login device of customer <br>\n",
    "5) CityTier: City tier<br>\n",
    "6) WarehouseToHome: Distance in between warehouse to home of customer<br>\n",
    "7) PreferredPaymentMode: Preferred payment method of customer<br>\n",
    "8) Gender: Gender of customer<br>\n",
    "9) HourSpendOnApp: Number of hours spend on mobile application or website<br>\n",
    "10) NumberOfDeviceRegistered: Total number of deceives is registered on particular customer<br>\n",
    "11) PreferedOrderCat: Preferred order category of customer in last month<br>\n",
    "12) SatisfactionScore: Satisfactory score of customer on service<br>\n",
    "13) MaritalStatus: Marital status of customer<br>\n",
    "14) NumberOfAddress: Total number of added added on particular customer<br>\n",
    "15) Complain: Any complaint has been raised in last month<br>\n",
    "16) OrderAmountHikeFromlastYear: Percentage increases in order from last year<br>\n",
    "17) CouponUsed: Total number of coupon has been used in last month<br>\n",
    "18) OrderCount: Total number of orders has been places in last month<br>\n",
    "19) DaySinceLastOrder: Day Since last order by customer<br>\n",
    "20) CashbackAmount: Average cashback in last month<br>"
   ]
  },
  {
   "cell_type": "markdown",
   "id": "a4b202b8-e51d-442b-bd24-c8164b320539",
   "metadata": {},
   "source": [
    "## 1.0 Import and install python libraries\n"
   ]
  },
  {
   "cell_type": "code",
   "execution_count": 1,
   "id": "bdc76eea-5003-4068-8012-4abfa03af550",
   "metadata": {
    "tags": []
   },
   "outputs": [],
   "source": [
    "# import numpy and pandas libraries\n",
    "import numpy as np\n",
    "import pandas as pd\n",
    "from sklearn.preprocessing import LabelEncoder\n",
    "from sklearn.model_selection import train_test_split\n",
    "from sklearn import preprocessing\n",
    "from sklearn.impute import SimpleImputer\n",
    "import seaborn as sns\n",
    "import matplotlib.pyplot as plt"
   ]
  },
  {
   "cell_type": "code",
   "execution_count": 2,
   "id": "c06fc14c-da4f-4d9e-9012-6d676be316d2",
   "metadata": {},
   "outputs": [],
   "source": [
    "## 2.0 Set Random Seed"
   ]
  },
  {
   "cell_type": "code",
   "execution_count": 3,
   "id": "d46bfdd1-c7c0-46ad-9c36-ca43700e07d7",
   "metadata": {},
   "outputs": [],
   "source": [
    "# set random seed to ensure that results are repeatable\n",
    "np.random.seed(1)"
   ]
  },
  {
   "cell_type": "markdown",
   "id": "d5585bf4-5437-436a-ae97-82236ece8fa4",
   "metadata": {},
   "source": [
    "## 3.0 Load data "
   ]
  },
  {
   "cell_type": "code",
   "execution_count": 4,
   "id": "010c2e01-87ec-47e7-a7a1-01c46a3ecf5a",
   "metadata": {},
   "outputs": [],
   "source": [
    "# load data\n",
    "ecomm = pd.read_excel(\"ecommerce.xlsx\", sheet_name='E Comm')"
   ]
  },
  {
   "cell_type": "markdown",
   "id": "02e567a6-21d7-427a-b49d-a33aad616795",
   "metadata": {},
   "source": [
    "## 4.0 Initial exploration of the data"
   ]
  },
  {
   "cell_type": "markdown",
   "id": "7e61d549-5bbd-4998-97ae-ba4723615796",
   "metadata": {},
   "source": [
    "We have a number of input variables and one target variable.\n",
    "\n",
    "Will address these tasks in data exploration\n",
    "1. How many rows and columns\n",
    "2. How much of a problem do we have with na's?\n",
    "3. What types of data are there?\n",
    "4. What types of data are stored in columns\n",
    "    1. identify which variables are numeric and may need to be standardized later\n",
    "    2. identify which variables are categorical and may need to be transformed using and encoders such as one-hot-encoder.\n",
    "5. Identify errors in the data - "
   ]
  },
  {
   "cell_type": "code",
   "execution_count": 5,
   "id": "72b07674",
   "metadata": {},
   "outputs": [],
   "source": [
    "#Let's look at the shape of the data frame. "
   ]
  },
  {
   "cell_type": "code",
   "execution_count": 6,
   "id": "5dbcaab1",
   "metadata": {},
   "outputs": [
    {
     "data": {
      "text/plain": [
       "(5630, 20)"
      ]
     },
     "execution_count": 6,
     "metadata": {},
     "output_type": "execute_result"
    }
   ],
   "source": [
    "ecomm.shape"
   ]
  },
  {
   "cell_type": "code",
   "execution_count": 7,
   "id": "8cf4521f-eaa1-4880-b7a5-90588fb65144",
   "metadata": {
    "tags": []
   },
   "outputs": [
    {
     "data": {
      "text/html": [
       "<div>\n",
       "<style scoped>\n",
       "    .dataframe tbody tr th:only-of-type {\n",
       "        vertical-align: middle;\n",
       "    }\n",
       "\n",
       "    .dataframe tbody tr th {\n",
       "        vertical-align: top;\n",
       "    }\n",
       "\n",
       "    .dataframe thead th {\n",
       "        text-align: right;\n",
       "    }\n",
       "</style>\n",
       "<table border=\"1\" class=\"dataframe\">\n",
       "  <thead>\n",
       "    <tr style=\"text-align: right;\">\n",
       "      <th></th>\n",
       "      <th>CustomerID</th>\n",
       "      <th>Churn</th>\n",
       "      <th>Tenure</th>\n",
       "      <th>PreferredLoginDevice</th>\n",
       "      <th>CityTier</th>\n",
       "      <th>WarehouseToHome</th>\n",
       "      <th>PreferredPaymentMode</th>\n",
       "      <th>Gender</th>\n",
       "      <th>HourSpendOnApp</th>\n",
       "      <th>NumberOfDeviceRegistered</th>\n",
       "      <th>PreferedOrderCat</th>\n",
       "      <th>SatisfactionScore</th>\n",
       "      <th>MaritalStatus</th>\n",
       "      <th>NumberOfAddress</th>\n",
       "      <th>Complain</th>\n",
       "      <th>OrderAmountHikeFromlastYear</th>\n",
       "      <th>CouponUsed</th>\n",
       "      <th>OrderCount</th>\n",
       "      <th>DaySinceLastOrder</th>\n",
       "      <th>CashbackAmount</th>\n",
       "    </tr>\n",
       "  </thead>\n",
       "  <tbody>\n",
       "    <tr>\n",
       "      <th>0</th>\n",
       "      <td>50001</td>\n",
       "      <td>1</td>\n",
       "      <td>4.0</td>\n",
       "      <td>Mobile Phone</td>\n",
       "      <td>3</td>\n",
       "      <td>6.0</td>\n",
       "      <td>Debit Card</td>\n",
       "      <td>Female</td>\n",
       "      <td>3.0</td>\n",
       "      <td>3</td>\n",
       "      <td>Laptop &amp; Accessory</td>\n",
       "      <td>2</td>\n",
       "      <td>Single</td>\n",
       "      <td>9</td>\n",
       "      <td>1</td>\n",
       "      <td>11.0</td>\n",
       "      <td>1.0</td>\n",
       "      <td>1.0</td>\n",
       "      <td>5.0</td>\n",
       "      <td>159.93</td>\n",
       "    </tr>\n",
       "    <tr>\n",
       "      <th>1</th>\n",
       "      <td>50002</td>\n",
       "      <td>1</td>\n",
       "      <td>NaN</td>\n",
       "      <td>Phone</td>\n",
       "      <td>1</td>\n",
       "      <td>8.0</td>\n",
       "      <td>UPI</td>\n",
       "      <td>Male</td>\n",
       "      <td>3.0</td>\n",
       "      <td>4</td>\n",
       "      <td>Mobile</td>\n",
       "      <td>3</td>\n",
       "      <td>Single</td>\n",
       "      <td>7</td>\n",
       "      <td>1</td>\n",
       "      <td>15.0</td>\n",
       "      <td>0.0</td>\n",
       "      <td>1.0</td>\n",
       "      <td>0.0</td>\n",
       "      <td>120.90</td>\n",
       "    </tr>\n",
       "    <tr>\n",
       "      <th>2</th>\n",
       "      <td>50003</td>\n",
       "      <td>1</td>\n",
       "      <td>NaN</td>\n",
       "      <td>Phone</td>\n",
       "      <td>1</td>\n",
       "      <td>30.0</td>\n",
       "      <td>Debit Card</td>\n",
       "      <td>Male</td>\n",
       "      <td>2.0</td>\n",
       "      <td>4</td>\n",
       "      <td>Mobile</td>\n",
       "      <td>3</td>\n",
       "      <td>Single</td>\n",
       "      <td>6</td>\n",
       "      <td>1</td>\n",
       "      <td>14.0</td>\n",
       "      <td>0.0</td>\n",
       "      <td>1.0</td>\n",
       "      <td>3.0</td>\n",
       "      <td>120.28</td>\n",
       "    </tr>\n",
       "    <tr>\n",
       "      <th>3</th>\n",
       "      <td>50004</td>\n",
       "      <td>1</td>\n",
       "      <td>0.0</td>\n",
       "      <td>Phone</td>\n",
       "      <td>3</td>\n",
       "      <td>15.0</td>\n",
       "      <td>Debit Card</td>\n",
       "      <td>Male</td>\n",
       "      <td>2.0</td>\n",
       "      <td>4</td>\n",
       "      <td>Laptop &amp; Accessory</td>\n",
       "      <td>5</td>\n",
       "      <td>Single</td>\n",
       "      <td>8</td>\n",
       "      <td>0</td>\n",
       "      <td>23.0</td>\n",
       "      <td>0.0</td>\n",
       "      <td>1.0</td>\n",
       "      <td>3.0</td>\n",
       "      <td>134.07</td>\n",
       "    </tr>\n",
       "    <tr>\n",
       "      <th>4</th>\n",
       "      <td>50005</td>\n",
       "      <td>1</td>\n",
       "      <td>0.0</td>\n",
       "      <td>Phone</td>\n",
       "      <td>1</td>\n",
       "      <td>12.0</td>\n",
       "      <td>CC</td>\n",
       "      <td>Male</td>\n",
       "      <td>NaN</td>\n",
       "      <td>3</td>\n",
       "      <td>Mobile</td>\n",
       "      <td>5</td>\n",
       "      <td>Single</td>\n",
       "      <td>3</td>\n",
       "      <td>0</td>\n",
       "      <td>11.0</td>\n",
       "      <td>1.0</td>\n",
       "      <td>1.0</td>\n",
       "      <td>3.0</td>\n",
       "      <td>129.60</td>\n",
       "    </tr>\n",
       "  </tbody>\n",
       "</table>\n",
       "</div>"
      ],
      "text/plain": [
       "   CustomerID  Churn  Tenure PreferredLoginDevice  CityTier  WarehouseToHome  \\\n",
       "0       50001      1     4.0         Mobile Phone         3              6.0   \n",
       "1       50002      1     NaN                Phone         1              8.0   \n",
       "2       50003      1     NaN                Phone         1             30.0   \n",
       "3       50004      1     0.0                Phone         3             15.0   \n",
       "4       50005      1     0.0                Phone         1             12.0   \n",
       "\n",
       "  PreferredPaymentMode  Gender  HourSpendOnApp  NumberOfDeviceRegistered  \\\n",
       "0           Debit Card  Female             3.0                         3   \n",
       "1                  UPI    Male             3.0                         4   \n",
       "2           Debit Card    Male             2.0                         4   \n",
       "3           Debit Card    Male             2.0                         4   \n",
       "4                   CC    Male             NaN                         3   \n",
       "\n",
       "     PreferedOrderCat  SatisfactionScore MaritalStatus  NumberOfAddress  \\\n",
       "0  Laptop & Accessory                  2        Single                9   \n",
       "1              Mobile                  3        Single                7   \n",
       "2              Mobile                  3        Single                6   \n",
       "3  Laptop & Accessory                  5        Single                8   \n",
       "4              Mobile                  5        Single                3   \n",
       "\n",
       "   Complain  OrderAmountHikeFromlastYear  CouponUsed  OrderCount  \\\n",
       "0         1                         11.0         1.0         1.0   \n",
       "1         1                         15.0         0.0         1.0   \n",
       "2         1                         14.0         0.0         1.0   \n",
       "3         0                         23.0         0.0         1.0   \n",
       "4         0                         11.0         1.0         1.0   \n",
       "\n",
       "   DaySinceLastOrder  CashbackAmount  \n",
       "0                5.0          159.93  \n",
       "1                0.0          120.90  \n",
       "2                3.0          120.28  \n",
       "3                3.0          134.07  \n",
       "4                3.0          129.60  "
      ]
     },
     "execution_count": 7,
     "metadata": {},
     "output_type": "execute_result"
    }
   ],
   "source": [
    "# look at the data\n",
    "ecomm.head(5) "
   ]
  },
  {
   "cell_type": "code",
   "execution_count": 8,
   "id": "8bd56aa2-d3c8-497e-ba9e-0ba19ea8ba13",
   "metadata": {},
   "outputs": [
    {
     "name": "stdout",
     "output_type": "stream",
     "text": [
      "<class 'pandas.core.frame.DataFrame'>\n",
      "RangeIndex: 5630 entries, 0 to 5629\n",
      "Data columns (total 20 columns):\n",
      " #   Column                       Non-Null Count  Dtype  \n",
      "---  ------                       --------------  -----  \n",
      " 0   CustomerID                   5630 non-null   int64  \n",
      " 1   Churn                        5630 non-null   int64  \n",
      " 2   Tenure                       5366 non-null   float64\n",
      " 3   PreferredLoginDevice         5630 non-null   object \n",
      " 4   CityTier                     5630 non-null   int64  \n",
      " 5   WarehouseToHome              5379 non-null   float64\n",
      " 6   PreferredPaymentMode         5630 non-null   object \n",
      " 7   Gender                       5630 non-null   object \n",
      " 8   HourSpendOnApp               5375 non-null   float64\n",
      " 9   NumberOfDeviceRegistered     5630 non-null   int64  \n",
      " 10  PreferedOrderCat             5630 non-null   object \n",
      " 11  SatisfactionScore            5630 non-null   int64  \n",
      " 12  MaritalStatus                5630 non-null   object \n",
      " 13  NumberOfAddress              5630 non-null   int64  \n",
      " 14  Complain                     5630 non-null   int64  \n",
      " 15  OrderAmountHikeFromlastYear  5365 non-null   float64\n",
      " 16  CouponUsed                   5374 non-null   float64\n",
      " 17  OrderCount                   5372 non-null   float64\n",
      " 18  DaySinceLastOrder            5323 non-null   float64\n",
      " 19  CashbackAmount               5630 non-null   float64\n",
      "dtypes: float64(8), int64(7), object(5)\n",
      "memory usage: 879.8+ KB\n"
     ]
    }
   ],
   "source": [
    "# generate a basic summary of the data\n",
    "ecomm.info()"
   ]
  },
  {
   "cell_type": "code",
   "execution_count": 9,
   "id": "e903cbc5",
   "metadata": {},
   "outputs": [],
   "source": [
    "# from the abovewe can say that there are missing values"
   ]
  },
  {
   "cell_type": "code",
   "execution_count": 10,
   "id": "91c364aa-be28-4b66-a33c-d444dd1c6bc7",
   "metadata": {},
   "outputs": [
    {
     "data": {
      "text/html": [
       "<div>\n",
       "<style scoped>\n",
       "    .dataframe tbody tr th:only-of-type {\n",
       "        vertical-align: middle;\n",
       "    }\n",
       "\n",
       "    .dataframe tbody tr th {\n",
       "        vertical-align: top;\n",
       "    }\n",
       "\n",
       "    .dataframe thead th {\n",
       "        text-align: right;\n",
       "    }\n",
       "</style>\n",
       "<table border=\"1\" class=\"dataframe\">\n",
       "  <thead>\n",
       "    <tr style=\"text-align: right;\">\n",
       "      <th></th>\n",
       "      <th>CustomerID</th>\n",
       "      <th>Churn</th>\n",
       "      <th>Tenure</th>\n",
       "      <th>CityTier</th>\n",
       "      <th>WarehouseToHome</th>\n",
       "      <th>HourSpendOnApp</th>\n",
       "      <th>NumberOfDeviceRegistered</th>\n",
       "      <th>SatisfactionScore</th>\n",
       "      <th>NumberOfAddress</th>\n",
       "      <th>Complain</th>\n",
       "      <th>OrderAmountHikeFromlastYear</th>\n",
       "      <th>CouponUsed</th>\n",
       "      <th>OrderCount</th>\n",
       "      <th>DaySinceLastOrder</th>\n",
       "      <th>CashbackAmount</th>\n",
       "    </tr>\n",
       "  </thead>\n",
       "  <tbody>\n",
       "    <tr>\n",
       "      <th>count</th>\n",
       "      <td>5630.000000</td>\n",
       "      <td>5630.000000</td>\n",
       "      <td>5366.000000</td>\n",
       "      <td>5630.000000</td>\n",
       "      <td>5379.000000</td>\n",
       "      <td>5375.000000</td>\n",
       "      <td>5630.000000</td>\n",
       "      <td>5630.000000</td>\n",
       "      <td>5630.000000</td>\n",
       "      <td>5630.000000</td>\n",
       "      <td>5365.000000</td>\n",
       "      <td>5374.000000</td>\n",
       "      <td>5372.000000</td>\n",
       "      <td>5323.000000</td>\n",
       "      <td>5630.000000</td>\n",
       "    </tr>\n",
       "    <tr>\n",
       "      <th>mean</th>\n",
       "      <td>52815.500000</td>\n",
       "      <td>0.168384</td>\n",
       "      <td>10.189899</td>\n",
       "      <td>1.654707</td>\n",
       "      <td>15.639896</td>\n",
       "      <td>2.931535</td>\n",
       "      <td>3.688988</td>\n",
       "      <td>3.066785</td>\n",
       "      <td>4.214032</td>\n",
       "      <td>0.284902</td>\n",
       "      <td>15.707922</td>\n",
       "      <td>1.751023</td>\n",
       "      <td>3.008004</td>\n",
       "      <td>4.543491</td>\n",
       "      <td>177.223030</td>\n",
       "    </tr>\n",
       "    <tr>\n",
       "      <th>std</th>\n",
       "      <td>1625.385339</td>\n",
       "      <td>0.374240</td>\n",
       "      <td>8.557241</td>\n",
       "      <td>0.915389</td>\n",
       "      <td>8.531475</td>\n",
       "      <td>0.721926</td>\n",
       "      <td>1.023999</td>\n",
       "      <td>1.380194</td>\n",
       "      <td>2.583586</td>\n",
       "      <td>0.451408</td>\n",
       "      <td>3.675485</td>\n",
       "      <td>1.894621</td>\n",
       "      <td>2.939680</td>\n",
       "      <td>3.654433</td>\n",
       "      <td>49.207036</td>\n",
       "    </tr>\n",
       "    <tr>\n",
       "      <th>min</th>\n",
       "      <td>50001.000000</td>\n",
       "      <td>0.000000</td>\n",
       "      <td>0.000000</td>\n",
       "      <td>1.000000</td>\n",
       "      <td>5.000000</td>\n",
       "      <td>0.000000</td>\n",
       "      <td>1.000000</td>\n",
       "      <td>1.000000</td>\n",
       "      <td>1.000000</td>\n",
       "      <td>0.000000</td>\n",
       "      <td>11.000000</td>\n",
       "      <td>0.000000</td>\n",
       "      <td>1.000000</td>\n",
       "      <td>0.000000</td>\n",
       "      <td>0.000000</td>\n",
       "    </tr>\n",
       "    <tr>\n",
       "      <th>25%</th>\n",
       "      <td>51408.250000</td>\n",
       "      <td>0.000000</td>\n",
       "      <td>2.000000</td>\n",
       "      <td>1.000000</td>\n",
       "      <td>9.000000</td>\n",
       "      <td>2.000000</td>\n",
       "      <td>3.000000</td>\n",
       "      <td>2.000000</td>\n",
       "      <td>2.000000</td>\n",
       "      <td>0.000000</td>\n",
       "      <td>13.000000</td>\n",
       "      <td>1.000000</td>\n",
       "      <td>1.000000</td>\n",
       "      <td>2.000000</td>\n",
       "      <td>145.770000</td>\n",
       "    </tr>\n",
       "    <tr>\n",
       "      <th>50%</th>\n",
       "      <td>52815.500000</td>\n",
       "      <td>0.000000</td>\n",
       "      <td>9.000000</td>\n",
       "      <td>1.000000</td>\n",
       "      <td>14.000000</td>\n",
       "      <td>3.000000</td>\n",
       "      <td>4.000000</td>\n",
       "      <td>3.000000</td>\n",
       "      <td>3.000000</td>\n",
       "      <td>0.000000</td>\n",
       "      <td>15.000000</td>\n",
       "      <td>1.000000</td>\n",
       "      <td>2.000000</td>\n",
       "      <td>3.000000</td>\n",
       "      <td>163.280000</td>\n",
       "    </tr>\n",
       "    <tr>\n",
       "      <th>75%</th>\n",
       "      <td>54222.750000</td>\n",
       "      <td>0.000000</td>\n",
       "      <td>16.000000</td>\n",
       "      <td>3.000000</td>\n",
       "      <td>20.000000</td>\n",
       "      <td>3.000000</td>\n",
       "      <td>4.000000</td>\n",
       "      <td>4.000000</td>\n",
       "      <td>6.000000</td>\n",
       "      <td>1.000000</td>\n",
       "      <td>18.000000</td>\n",
       "      <td>2.000000</td>\n",
       "      <td>3.000000</td>\n",
       "      <td>7.000000</td>\n",
       "      <td>196.392500</td>\n",
       "    </tr>\n",
       "    <tr>\n",
       "      <th>max</th>\n",
       "      <td>55630.000000</td>\n",
       "      <td>1.000000</td>\n",
       "      <td>61.000000</td>\n",
       "      <td>3.000000</td>\n",
       "      <td>127.000000</td>\n",
       "      <td>5.000000</td>\n",
       "      <td>6.000000</td>\n",
       "      <td>5.000000</td>\n",
       "      <td>22.000000</td>\n",
       "      <td>1.000000</td>\n",
       "      <td>26.000000</td>\n",
       "      <td>16.000000</td>\n",
       "      <td>16.000000</td>\n",
       "      <td>46.000000</td>\n",
       "      <td>324.990000</td>\n",
       "    </tr>\n",
       "  </tbody>\n",
       "</table>\n",
       "</div>"
      ],
      "text/plain": [
       "         CustomerID        Churn       Tenure     CityTier  WarehouseToHome  \\\n",
       "count   5630.000000  5630.000000  5366.000000  5630.000000      5379.000000   \n",
       "mean   52815.500000     0.168384    10.189899     1.654707        15.639896   \n",
       "std     1625.385339     0.374240     8.557241     0.915389         8.531475   \n",
       "min    50001.000000     0.000000     0.000000     1.000000         5.000000   \n",
       "25%    51408.250000     0.000000     2.000000     1.000000         9.000000   \n",
       "50%    52815.500000     0.000000     9.000000     1.000000        14.000000   \n",
       "75%    54222.750000     0.000000    16.000000     3.000000        20.000000   \n",
       "max    55630.000000     1.000000    61.000000     3.000000       127.000000   \n",
       "\n",
       "       HourSpendOnApp  NumberOfDeviceRegistered  SatisfactionScore  \\\n",
       "count     5375.000000               5630.000000        5630.000000   \n",
       "mean         2.931535                  3.688988           3.066785   \n",
       "std          0.721926                  1.023999           1.380194   \n",
       "min          0.000000                  1.000000           1.000000   \n",
       "25%          2.000000                  3.000000           2.000000   \n",
       "50%          3.000000                  4.000000           3.000000   \n",
       "75%          3.000000                  4.000000           4.000000   \n",
       "max          5.000000                  6.000000           5.000000   \n",
       "\n",
       "       NumberOfAddress     Complain  OrderAmountHikeFromlastYear   CouponUsed  \\\n",
       "count      5630.000000  5630.000000                  5365.000000  5374.000000   \n",
       "mean          4.214032     0.284902                    15.707922     1.751023   \n",
       "std           2.583586     0.451408                     3.675485     1.894621   \n",
       "min           1.000000     0.000000                    11.000000     0.000000   \n",
       "25%           2.000000     0.000000                    13.000000     1.000000   \n",
       "50%           3.000000     0.000000                    15.000000     1.000000   \n",
       "75%           6.000000     1.000000                    18.000000     2.000000   \n",
       "max          22.000000     1.000000                    26.000000    16.000000   \n",
       "\n",
       "        OrderCount  DaySinceLastOrder  CashbackAmount  \n",
       "count  5372.000000        5323.000000     5630.000000  \n",
       "mean      3.008004           4.543491      177.223030  \n",
       "std       2.939680           3.654433       49.207036  \n",
       "min       1.000000           0.000000        0.000000  \n",
       "25%       1.000000           2.000000      145.770000  \n",
       "50%       2.000000           3.000000      163.280000  \n",
       "75%       3.000000           7.000000      196.392500  \n",
       "max      16.000000          46.000000      324.990000  "
      ]
     },
     "execution_count": 10,
     "metadata": {},
     "output_type": "execute_result"
    }
   ],
   "source": [
    "# generate a statistical summary of the numeric value in the data\n",
    "ecomm.describe()"
   ]
  },
  {
   "cell_type": "code",
   "execution_count": 11,
   "id": "db209173-815a-4b4c-aff4-2322d539c720",
   "metadata": {},
   "outputs": [
    {
     "data": {
      "text/plain": [
       "CustomerID                       0\n",
       "Churn                            0\n",
       "Tenure                         264\n",
       "PreferredLoginDevice             0\n",
       "CityTier                         0\n",
       "WarehouseToHome                251\n",
       "PreferredPaymentMode             0\n",
       "Gender                           0\n",
       "HourSpendOnApp                 255\n",
       "NumberOfDeviceRegistered         0\n",
       "PreferedOrderCat                 0\n",
       "SatisfactionScore                0\n",
       "MaritalStatus                    0\n",
       "NumberOfAddress                  0\n",
       "Complain                         0\n",
       "OrderAmountHikeFromlastYear    265\n",
       "CouponUsed                     256\n",
       "OrderCount                     258\n",
       "DaySinceLastOrder              307\n",
       "CashbackAmount                   0\n",
       "dtype: int64"
      ]
     },
     "execution_count": 11,
     "metadata": {},
     "output_type": "execute_result"
    }
   ],
   "source": [
    "# Check the missing values by summing the total na's for each variable\n",
    "ecomm.isna().sum()"
   ]
  },
  {
   "cell_type": "code",
   "execution_count": 12,
   "id": "79f2207b",
   "metadata": {},
   "outputs": [
    {
     "data": {
      "text/html": [
       "<div>\n",
       "<style scoped>\n",
       "    .dataframe tbody tr th:only-of-type {\n",
       "        vertical-align: middle;\n",
       "    }\n",
       "\n",
       "    .dataframe tbody tr th {\n",
       "        vertical-align: top;\n",
       "    }\n",
       "\n",
       "    .dataframe thead th {\n",
       "        text-align: right;\n",
       "    }\n",
       "</style>\n",
       "<table border=\"1\" class=\"dataframe\">\n",
       "  <thead>\n",
       "    <tr style=\"text-align: right;\">\n",
       "      <th></th>\n",
       "      <th>PreferredLoginDevice</th>\n",
       "      <th>PreferredPaymentMode</th>\n",
       "      <th>Gender</th>\n",
       "      <th>PreferedOrderCat</th>\n",
       "      <th>MaritalStatus</th>\n",
       "    </tr>\n",
       "  </thead>\n",
       "  <tbody>\n",
       "    <tr>\n",
       "      <th>count</th>\n",
       "      <td>5630</td>\n",
       "      <td>5630</td>\n",
       "      <td>5630</td>\n",
       "      <td>5630</td>\n",
       "      <td>5630</td>\n",
       "    </tr>\n",
       "    <tr>\n",
       "      <th>unique</th>\n",
       "      <td>3</td>\n",
       "      <td>7</td>\n",
       "      <td>2</td>\n",
       "      <td>6</td>\n",
       "      <td>3</td>\n",
       "    </tr>\n",
       "    <tr>\n",
       "      <th>top</th>\n",
       "      <td>Mobile Phone</td>\n",
       "      <td>Debit Card</td>\n",
       "      <td>Male</td>\n",
       "      <td>Laptop &amp; Accessory</td>\n",
       "      <td>Married</td>\n",
       "    </tr>\n",
       "    <tr>\n",
       "      <th>freq</th>\n",
       "      <td>2765</td>\n",
       "      <td>2314</td>\n",
       "      <td>3384</td>\n",
       "      <td>2050</td>\n",
       "      <td>2986</td>\n",
       "    </tr>\n",
       "  </tbody>\n",
       "</table>\n",
       "</div>"
      ],
      "text/plain": [
       "       PreferredLoginDevice PreferredPaymentMode Gender    PreferedOrderCat  \\\n",
       "count                  5630                 5630   5630                5630   \n",
       "unique                    3                    7      2                   6   \n",
       "top            Mobile Phone           Debit Card   Male  Laptop & Accessory   \n",
       "freq                   2765                 2314   3384                2050   \n",
       "\n",
       "       MaritalStatus  \n",
       "count           5630  \n",
       "unique             3  \n",
       "top          Married  \n",
       "freq            2986  "
      ]
     },
     "execution_count": 12,
     "metadata": {},
     "output_type": "execute_result"
    }
   ],
   "source": [
    "ecomm.describe(include='O')  ## all categorical variables (object type)  and its stats"
   ]
  },
  {
   "cell_type": "code",
   "execution_count": 13,
   "id": "655dddbe",
   "metadata": {},
   "outputs": [
    {
     "name": "stdout",
     "output_type": "stream",
     "text": [
      "categorical variables =  ['PreferredLoginDevice', 'PreferredPaymentMode', 'Gender', 'PreferedOrderCat', 'MaritalStatus']\n",
      "Numrical Variable =  ['CustomerID', 'Churn', 'Tenure', 'CityTier', 'WarehouseToHome', 'HourSpendOnApp', 'NumberOfDeviceRegistered', 'SatisfactionScore', 'NumberOfAddress', 'Complain', 'OrderAmountHikeFromlastYear', 'CouponUsed', 'OrderCount', 'DaySinceLastOrder', 'CashbackAmount']\n"
     ]
    }
   ],
   "source": [
    "category_var_list=[]\n",
    "num_var=[]\n",
    "for i in ecomm.columns:\n",
    "  if ecomm[i].dtype=='object':\n",
    "    category_var_list.append(i)\n",
    "  else:\n",
    "    num_var.append(i)\n",
    "print('categorical variables = ',category_var_list)\n",
    "print('Numrical Variable = ',num_var)"
   ]
  },
  {
   "cell_type": "code",
   "execution_count": 14,
   "id": "651dd604-7e66-404e-b27a-3fde8a702cea",
   "metadata": {},
   "outputs": [
    {
     "data": {
      "text/plain": [
       "['PreferredLoginDevice',\n",
       " 'PreferredPaymentMode',\n",
       " 'Gender',\n",
       " 'PreferedOrderCat',\n",
       " 'MaritalStatus']"
      ]
     },
     "execution_count": 14,
     "metadata": {},
     "output_type": "execute_result"
    }
   ],
   "source": [
    "# list of these catagorical variables\n",
    "category_var_list"
   ]
  },
  {
   "cell_type": "markdown",
   "id": "dc9835de",
   "metadata": {},
   "source": [
    "## 5. Exploratory Data Analysis"
   ]
  },
  {
   "cell_type": "code",
   "execution_count": 15,
   "id": "b41a6e5f",
   "metadata": {},
   "outputs": [
    {
     "data": {
      "image/png": "[encoded data removed]",
      "text/plain": [
       "<Figure size 432x288 with 1 Axes>"
      ]
     },
     "metadata": {
      "needs_background": "light"
     },
     "output_type": "display_data"
    }
   ],
   "source": [
    "sns.countplot(x=\"Churn\",data=ecomm)  ## target variable is imbalanced and it is addressed using undersampling technique on the training set\n",
    "plt.show()\n"
   ]
  },
  {
   "cell_type": "code",
   "execution_count": 16,
   "id": "1add0c48",
   "metadata": {},
   "outputs": [],
   "source": [
    "## Check the distribution of the numerical columns"
   ]
  },
  {
   "cell_type": "code",
   "execution_count": 17,
   "id": "96b73d12",
   "metadata": {},
   "outputs": [
    {
     "data": {
      "text/plain": [
       "array([[<AxesSubplot:title={'center':'CustomerID'}>,\n",
       "        <AxesSubplot:title={'center':'Churn'}>,\n",
       "        <AxesSubplot:title={'center':'Tenure'}>,\n",
       "        <AxesSubplot:title={'center':'CityTier'}>],\n",
       "       [<AxesSubplot:title={'center':'WarehouseToHome'}>,\n",
       "        <AxesSubplot:title={'center':'HourSpendOnApp'}>,\n",
       "        <AxesSubplot:title={'center':'NumberOfDeviceRegistered'}>,\n",
       "        <AxesSubplot:title={'center':'SatisfactionScore'}>],\n",
       "       [<AxesSubplot:title={'center':'NumberOfAddress'}>,\n",
       "        <AxesSubplot:title={'center':'Complain'}>,\n",
       "        <AxesSubplot:title={'center':'OrderAmountHikeFromlastYear'}>,\n",
       "        <AxesSubplot:title={'center':'CouponUsed'}>],\n",
       "       [<AxesSubplot:title={'center':'OrderCount'}>,\n",
       "        <AxesSubplot:title={'center':'DaySinceLastOrder'}>,\n",
       "        <AxesSubplot:title={'center':'CashbackAmount'}>, <AxesSubplot:>]],\n",
       "      dtype=object)"
      ]
     },
     "execution_count": 17,
     "metadata": {},
     "output_type": "execute_result"
    },
    {
     "data": {
      "image/png": "[encoded data removed]",
      "text/plain": [
       "<Figure size 2880x2880 with 16 Axes>"
      ]
     },
     "metadata": {
      "needs_background": "light"
     },
     "output_type": "display_data"
    }
   ],
   "source": [
    "ecomm[num_var].hist(figsize=(40,40))"
   ]
  },
  {
   "cell_type": "code",
   "execution_count": 18,
   "id": "7c56b518",
   "metadata": {},
   "outputs": [],
   "source": [
    "## Correlation check using corrplot"
   ]
  },
  {
   "cell_type": "code",
   "execution_count": 19,
   "id": "ca0bbf40",
   "metadata": {},
   "outputs": [
    {
     "name": "stderr",
     "output_type": "stream",
     "text": [
      "C:\\Users\\CHANDAN PATEL\\AppData\\Local\\Temp\\ipykernel_13112\\3952160370.py:3: FutureWarning: The default value of numeric_only in DataFrame.corr is deprecated. In a future version, it will default to False. Select only valid columns or specify the value of numeric_only to silence this warning.\n",
      "  ecomm.corr()\n"
     ]
    },
    {
     "data": {
      "image/png": "[encoded data removed]",
      "text/plain": [
       "<Figure size 1296x936 with 2 Axes>"
      ]
     },
     "metadata": {
      "needs_background": "light"
     },
     "output_type": "display_data"
    }
   ],
   "source": [
    "ecomm[num_var].corr()\n",
    "\n",
    "ecomm.corr()\n",
    "\n",
    "# Correlation Matrix\n",
    "f, ax = plt.subplots(figsize=[18, 13])\n",
    "sns.heatmap(ecomm[num_var].corr(), annot=True, fmt=\".2f\", ax=ax, cmap=\"coolwarm\")\n",
    "ax.set_title(\"Correlation Matrix\", fontsize=20)\n",
    "plt.show()"
   ]
  },
  {
   "cell_type": "markdown",
   "id": "2f50c0e6-9beb-4327-b8bc-3b5259a45be4",
   "metadata": {},
   "source": [
    "### Summary the findings from our initial evaluation of the data\n",
    "\n",
    "* We have 5 categorical variables\n",
    "* We have 7 variables that have missing values\n",
    "* There doesn't seem to be a problem with the catogorical class names."
   ]
  },
  {
   "cell_type": "markdown",
   "id": "ccddbe72-92ee-4ac3-8ea6-2e148459a7c6",
   "metadata": {
    "tags": []
   },
   "source": [
    "## 5.0 Process the data\n",
    "\n"
   ]
  },
  {
   "cell_type": "markdown",
   "id": "15b0d1c7-463d-427a-88c6-92f4a2a8f7b4",
   "metadata": {},
   "source": [
    "### 5.1  Data prepartion work done before split\n",
    "\n",
    "Tasks at this stage include:\n",
    "1. Drop any columns/features \n",
    "2. Drop any observations (rows) due to missing na's (if applicable).\n",
    "3. Conduct proper encoding of categorical variables"
   ]
  },
  {
   "cell_type": "markdown",
   "id": "393d9418-dfa1-49f0-aa95-750b8849cf2f",
   "metadata": {},
   "source": [
    "#### Drop any columns/variables we will not be using"
   ]
  },
  {
   "cell_type": "code",
   "execution_count": 20,
   "id": "069e3b43-df09-406b-9082-cdd3c6b69b6e",
   "metadata": {},
   "outputs": [],
   "source": [
    "## Drop variables which are not relevant to churn predictions like;\n",
    "# CustomerID\n",
    "# PreferredLoginDevice\n",
    "# WarehouseToHome\n",
    "# PreferredPaymentMode\n",
    "# NumberOfAddress\n",
    "ecomm.drop(['CustomerID', 'PreferredPaymentMode', 'WarehouseToHome', 'PreferredLoginDevice','NumberOfAddress'], axis=1, inplace = True)"
   ]
  },
  {
   "cell_type": "markdown",
   "id": "581119d9-55e6-44e5-88ac-345858c003dc",
   "metadata": {},
   "source": [
    "#### Drop observations with too many NA's"
   ]
  },
  {
   "cell_type": "markdown",
   "id": "3be61c79-5b7c-4f8c-8d66-27d68582bfe5",
   "metadata": {
    "tags": []
   },
   "source": [
    "Now, let's remove any rows that have more than one missing value. "
   ]
  },
  {
   "cell_type": "code",
   "execution_count": 21,
   "id": "572f87bb-67fa-4021-bab4-e05e0de7c01c",
   "metadata": {},
   "outputs": [
    {
     "data": {
      "text/html": [
       "<div>\n",
       "<style scoped>\n",
       "    .dataframe tbody tr th:only-of-type {\n",
       "        vertical-align: middle;\n",
       "    }\n",
       "\n",
       "    .dataframe tbody tr th {\n",
       "        vertical-align: top;\n",
       "    }\n",
       "\n",
       "    .dataframe thead th {\n",
       "        text-align: right;\n",
       "    }\n",
       "</style>\n",
       "<table border=\"1\" class=\"dataframe\">\n",
       "  <thead>\n",
       "    <tr style=\"text-align: right;\">\n",
       "      <th></th>\n",
       "      <th>Churn</th>\n",
       "      <th>Tenure</th>\n",
       "      <th>CityTier</th>\n",
       "      <th>Gender</th>\n",
       "      <th>HourSpendOnApp</th>\n",
       "      <th>NumberOfDeviceRegistered</th>\n",
       "      <th>PreferedOrderCat</th>\n",
       "      <th>SatisfactionScore</th>\n",
       "      <th>MaritalStatus</th>\n",
       "      <th>Complain</th>\n",
       "      <th>OrderAmountHikeFromlastYear</th>\n",
       "      <th>CouponUsed</th>\n",
       "      <th>OrderCount</th>\n",
       "      <th>DaySinceLastOrder</th>\n",
       "      <th>CashbackAmount</th>\n",
       "    </tr>\n",
       "  </thead>\n",
       "  <tbody>\n",
       "    <tr>\n",
       "      <th>0</th>\n",
       "      <td>1</td>\n",
       "      <td>4.0</td>\n",
       "      <td>3</td>\n",
       "      <td>Female</td>\n",
       "      <td>3.0</td>\n",
       "      <td>3</td>\n",
       "      <td>Laptop &amp; Accessory</td>\n",
       "      <td>2</td>\n",
       "      <td>Single</td>\n",
       "      <td>1</td>\n",
       "      <td>11.0</td>\n",
       "      <td>1.0</td>\n",
       "      <td>1.0</td>\n",
       "      <td>5.0</td>\n",
       "      <td>159.93</td>\n",
       "    </tr>\n",
       "    <tr>\n",
       "      <th>1</th>\n",
       "      <td>1</td>\n",
       "      <td>NaN</td>\n",
       "      <td>1</td>\n",
       "      <td>Male</td>\n",
       "      <td>3.0</td>\n",
       "      <td>4</td>\n",
       "      <td>Mobile</td>\n",
       "      <td>3</td>\n",
       "      <td>Single</td>\n",
       "      <td>1</td>\n",
       "      <td>15.0</td>\n",
       "      <td>0.0</td>\n",
       "      <td>1.0</td>\n",
       "      <td>0.0</td>\n",
       "      <td>120.90</td>\n",
       "    </tr>\n",
       "    <tr>\n",
       "      <th>2</th>\n",
       "      <td>1</td>\n",
       "      <td>NaN</td>\n",
       "      <td>1</td>\n",
       "      <td>Male</td>\n",
       "      <td>2.0</td>\n",
       "      <td>4</td>\n",
       "      <td>Mobile</td>\n",
       "      <td>3</td>\n",
       "      <td>Single</td>\n",
       "      <td>1</td>\n",
       "      <td>14.0</td>\n",
       "      <td>0.0</td>\n",
       "      <td>1.0</td>\n",
       "      <td>3.0</td>\n",
       "      <td>120.28</td>\n",
       "    </tr>\n",
       "    <tr>\n",
       "      <th>3</th>\n",
       "      <td>1</td>\n",
       "      <td>0.0</td>\n",
       "      <td>3</td>\n",
       "      <td>Male</td>\n",
       "      <td>2.0</td>\n",
       "      <td>4</td>\n",
       "      <td>Laptop &amp; Accessory</td>\n",
       "      <td>5</td>\n",
       "      <td>Single</td>\n",
       "      <td>0</td>\n",
       "      <td>23.0</td>\n",
       "      <td>0.0</td>\n",
       "      <td>1.0</td>\n",
       "      <td>3.0</td>\n",
       "      <td>134.07</td>\n",
       "    </tr>\n",
       "    <tr>\n",
       "      <th>4</th>\n",
       "      <td>1</td>\n",
       "      <td>0.0</td>\n",
       "      <td>1</td>\n",
       "      <td>Male</td>\n",
       "      <td>NaN</td>\n",
       "      <td>3</td>\n",
       "      <td>Mobile</td>\n",
       "      <td>5</td>\n",
       "      <td>Single</td>\n",
       "      <td>0</td>\n",
       "      <td>11.0</td>\n",
       "      <td>1.0</td>\n",
       "      <td>1.0</td>\n",
       "      <td>3.0</td>\n",
       "      <td>129.60</td>\n",
       "    </tr>\n",
       "    <tr>\n",
       "      <th>...</th>\n",
       "      <td>...</td>\n",
       "      <td>...</td>\n",
       "      <td>...</td>\n",
       "      <td>...</td>\n",
       "      <td>...</td>\n",
       "      <td>...</td>\n",
       "      <td>...</td>\n",
       "      <td>...</td>\n",
       "      <td>...</td>\n",
       "      <td>...</td>\n",
       "      <td>...</td>\n",
       "      <td>...</td>\n",
       "      <td>...</td>\n",
       "      <td>...</td>\n",
       "      <td>...</td>\n",
       "    </tr>\n",
       "    <tr>\n",
       "      <th>5625</th>\n",
       "      <td>0</td>\n",
       "      <td>10.0</td>\n",
       "      <td>1</td>\n",
       "      <td>Male</td>\n",
       "      <td>3.0</td>\n",
       "      <td>2</td>\n",
       "      <td>Laptop &amp; Accessory</td>\n",
       "      <td>1</td>\n",
       "      <td>Married</td>\n",
       "      <td>0</td>\n",
       "      <td>18.0</td>\n",
       "      <td>1.0</td>\n",
       "      <td>2.0</td>\n",
       "      <td>4.0</td>\n",
       "      <td>150.71</td>\n",
       "    </tr>\n",
       "    <tr>\n",
       "      <th>5626</th>\n",
       "      <td>0</td>\n",
       "      <td>13.0</td>\n",
       "      <td>1</td>\n",
       "      <td>Male</td>\n",
       "      <td>3.0</td>\n",
       "      <td>5</td>\n",
       "      <td>Fashion</td>\n",
       "      <td>5</td>\n",
       "      <td>Married</td>\n",
       "      <td>0</td>\n",
       "      <td>16.0</td>\n",
       "      <td>1.0</td>\n",
       "      <td>2.0</td>\n",
       "      <td>NaN</td>\n",
       "      <td>224.91</td>\n",
       "    </tr>\n",
       "    <tr>\n",
       "      <th>5627</th>\n",
       "      <td>0</td>\n",
       "      <td>1.0</td>\n",
       "      <td>1</td>\n",
       "      <td>Male</td>\n",
       "      <td>3.0</td>\n",
       "      <td>2</td>\n",
       "      <td>Laptop &amp; Accessory</td>\n",
       "      <td>4</td>\n",
       "      <td>Married</td>\n",
       "      <td>1</td>\n",
       "      <td>21.0</td>\n",
       "      <td>1.0</td>\n",
       "      <td>2.0</td>\n",
       "      <td>4.0</td>\n",
       "      <td>186.42</td>\n",
       "    </tr>\n",
       "    <tr>\n",
       "      <th>5628</th>\n",
       "      <td>0</td>\n",
       "      <td>23.0</td>\n",
       "      <td>3</td>\n",
       "      <td>Male</td>\n",
       "      <td>4.0</td>\n",
       "      <td>5</td>\n",
       "      <td>Laptop &amp; Accessory</td>\n",
       "      <td>4</td>\n",
       "      <td>Married</td>\n",
       "      <td>0</td>\n",
       "      <td>15.0</td>\n",
       "      <td>2.0</td>\n",
       "      <td>2.0</td>\n",
       "      <td>9.0</td>\n",
       "      <td>178.90</td>\n",
       "    </tr>\n",
       "    <tr>\n",
       "      <th>5629</th>\n",
       "      <td>0</td>\n",
       "      <td>8.0</td>\n",
       "      <td>1</td>\n",
       "      <td>Male</td>\n",
       "      <td>3.0</td>\n",
       "      <td>2</td>\n",
       "      <td>Laptop &amp; Accessory</td>\n",
       "      <td>3</td>\n",
       "      <td>Married</td>\n",
       "      <td>0</td>\n",
       "      <td>13.0</td>\n",
       "      <td>2.0</td>\n",
       "      <td>2.0</td>\n",
       "      <td>3.0</td>\n",
       "      <td>169.04</td>\n",
       "    </tr>\n",
       "  </tbody>\n",
       "</table>\n",
       "<p>5630 rows × 15 columns</p>\n",
       "</div>"
      ],
      "text/plain": [
       "      Churn  Tenure  CityTier  Gender  HourSpendOnApp  \\\n",
       "0         1     4.0         3  Female             3.0   \n",
       "1         1     NaN         1    Male             3.0   \n",
       "2         1     NaN         1    Male             2.0   \n",
       "3         1     0.0         3    Male             2.0   \n",
       "4         1     0.0         1    Male             NaN   \n",
       "...     ...     ...       ...     ...             ...   \n",
       "5625      0    10.0         1    Male             3.0   \n",
       "5626      0    13.0         1    Male             3.0   \n",
       "5627      0     1.0         1    Male             3.0   \n",
       "5628      0    23.0         3    Male             4.0   \n",
       "5629      0     8.0         1    Male             3.0   \n",
       "\n",
       "      NumberOfDeviceRegistered    PreferedOrderCat  SatisfactionScore  \\\n",
       "0                            3  Laptop & Accessory                  2   \n",
       "1                            4              Mobile                  3   \n",
       "2                            4              Mobile                  3   \n",
       "3                            4  Laptop & Accessory                  5   \n",
       "4                            3              Mobile                  5   \n",
       "...                        ...                 ...                ...   \n",
       "5625                         2  Laptop & Accessory                  1   \n",
       "5626                         5             Fashion                  5   \n",
       "5627                         2  Laptop & Accessory                  4   \n",
       "5628                         5  Laptop & Accessory                  4   \n",
       "5629                         2  Laptop & Accessory                  3   \n",
       "\n",
       "     MaritalStatus  Complain  OrderAmountHikeFromlastYear  CouponUsed  \\\n",
       "0           Single         1                         11.0         1.0   \n",
       "1           Single         1                         15.0         0.0   \n",
       "2           Single         1                         14.0         0.0   \n",
       "3           Single         0                         23.0         0.0   \n",
       "4           Single         0                         11.0         1.0   \n",
       "...            ...       ...                          ...         ...   \n",
       "5625       Married         0                         18.0         1.0   \n",
       "5626       Married         0                         16.0         1.0   \n",
       "5627       Married         1                         21.0         1.0   \n",
       "5628       Married         0                         15.0         2.0   \n",
       "5629       Married         0                         13.0         2.0   \n",
       "\n",
       "      OrderCount  DaySinceLastOrder  CashbackAmount  \n",
       "0            1.0                5.0          159.93  \n",
       "1            1.0                0.0          120.90  \n",
       "2            1.0                3.0          120.28  \n",
       "3            1.0                3.0          134.07  \n",
       "4            1.0                3.0          129.60  \n",
       "...          ...                ...             ...  \n",
       "5625         2.0                4.0          150.71  \n",
       "5626         2.0                NaN          224.91  \n",
       "5627         2.0                4.0          186.42  \n",
       "5628         2.0                9.0          178.90  \n",
       "5629         2.0                3.0          169.04  \n",
       "\n",
       "[5630 rows x 15 columns]"
      ]
     },
     "execution_count": 21,
     "metadata": {},
     "output_type": "execute_result"
    }
   ],
   "source": [
    "ecomm = ecomm[ecomm.isnull().sum(axis=1) < 3]\n",
    "ecomm"
   ]
  },
  {
   "cell_type": "code",
   "execution_count": 22,
   "id": "911cf66e-326e-4aca-8a57-96c6ef8992d6",
   "metadata": {},
   "outputs": [
    {
     "data": {
      "text/plain": [
       "Churn                          0.000000\n",
       "Tenure                         4.689165\n",
       "CityTier                       0.000000\n",
       "Gender                         0.000000\n",
       "HourSpendOnApp                 4.529307\n",
       "NumberOfDeviceRegistered       0.000000\n",
       "PreferedOrderCat               0.000000\n",
       "SatisfactionScore              0.000000\n",
       "MaritalStatus                  0.000000\n",
       "Complain                       0.000000\n",
       "OrderAmountHikeFromlastYear    4.706927\n",
       "CouponUsed                     4.547069\n",
       "OrderCount                     4.582593\n",
       "DaySinceLastOrder              5.452931\n",
       "CashbackAmount                 0.000000\n",
       "dtype: float64"
      ]
     },
     "execution_count": 22,
     "metadata": {},
     "output_type": "execute_result"
    }
   ],
   "source": [
    "# finding the percentage of missing values after removing the rows if missing values are more than 1\n",
    "ecomm.isnull().mean() * 100"
   ]
  },
  {
   "cell_type": "code",
   "execution_count": 23,
   "id": "d6bf2d9c",
   "metadata": {},
   "outputs": [],
   "source": [
    "# We will impute the missing values with median. "
   ]
  },
  {
   "cell_type": "code",
   "execution_count": 24,
   "id": "95c5ae32-88bc-4ded-abff-25134cc927f6",
   "metadata": {},
   "outputs": [
    {
     "data": {
      "text/plain": [
       "(5630, 15)"
      ]
     },
     "execution_count": 24,
     "metadata": {},
     "output_type": "execute_result"
    }
   ],
   "source": [
    "# investigage how many rows remain \n",
    "ecomm.shape"
   ]
  },
  {
   "cell_type": "code",
   "execution_count": 25,
   "id": "10f68804",
   "metadata": {},
   "outputs": [
    {
     "name": "stdout",
     "output_type": "stream",
     "text": [
      "categorical variables =  ['Gender', 'PreferedOrderCat', 'MaritalStatus']\n",
      "Numrical Variables =  ['Churn', 'Tenure', 'CityTier', 'HourSpendOnApp', 'NumberOfDeviceRegistered', 'SatisfactionScore', 'Complain', 'OrderAmountHikeFromlastYear', 'CouponUsed', 'OrderCount', 'DaySinceLastOrder', 'CashbackAmount']\n"
     ]
    }
   ],
   "source": [
    "category_var_list=[]\n",
    "num_var=[]\n",
    "for i in ecomm.columns:\n",
    "  if ecomm[i].dtype=='object':\n",
    "    category_var_list.append(i)\n",
    "  else:\n",
    "    num_var.append(i)\n",
    "print('categorical variables = ',category_var_list)\n",
    "print('Numrical Variables = ',num_var)"
   ]
  },
  {
   "cell_type": "markdown",
   "id": "a589f8d6-2d3b-45e0-a818-e0f4802080cc",
   "metadata": {},
   "source": [
    "#### Encode our categorical variables"
   ]
  },
  {
   "cell_type": "markdown",
   "id": "f28f7d6f-a2d7-4b8b-9958-8e0a421a5efa",
   "metadata": {},
   "source": [
    "from above we learnt that there are no missing values in the categorical variables"
   ]
  },
  {
   "cell_type": "code",
   "execution_count": 26,
   "id": "4908e3ad",
   "metadata": {
    "tags": []
   },
   "outputs": [
    {
     "name": "stdout",
     "output_type": "stream",
     "text": [
      "Category: Gender Values: ['Female' 'Male']\n",
      "Category: PreferedOrderCat Values: ['Laptop & Accessory' 'Mobile' 'Mobile Phone' 'Others' 'Fashion' 'Grocery']\n",
      "Category: MaritalStatus Values: ['Single' 'Divorced' 'Married']\n"
     ]
    }
   ],
   "source": [
    "# explore the categorical variable values \n",
    "for cat in category_var_list:\n",
    "    print(f\"Category: {cat} Values: {ecomm[cat].unique()}\")"
   ]
  },
  {
   "cell_type": "code",
   "execution_count": 27,
   "id": "5a7145a6",
   "metadata": {},
   "outputs": [],
   "source": [
    "ecomm = ecomm.join(pd.get_dummies(ecomm['Gender'], prefix='Gender', drop_first=True))\n",
    "ecomm.drop('Gender', axis=1, inplace = True)"
   ]
  },
  {
   "cell_type": "code",
   "execution_count": 28,
   "id": "d808fd7f-b5ca-4394-8301-c70417e22c0d",
   "metadata": {},
   "outputs": [],
   "source": [
    "ecomm = ecomm.join(pd.get_dummies(ecomm['MaritalStatus'], prefix='MaritalStatus', drop_first=True))\n",
    "ecomm.drop('MaritalStatus', axis=1, inplace = True)"
   ]
  },
  {
   "cell_type": "code",
   "execution_count": 29,
   "id": "50dd1a1c-b03a-474f-bbc9-f52c0ce7f8c2",
   "metadata": {},
   "outputs": [],
   "source": [
    "labelencoder = LabelEncoder()\n",
    "ecomm['PreferedOrderCat'] = labelencoder.fit_transform(ecomm['PreferedOrderCat'])"
   ]
  },
  {
   "cell_type": "code",
   "execution_count": 30,
   "id": "efd62783-96ab-459d-b5c2-e7ce3c0cbe28",
   "metadata": {},
   "outputs": [
    {
     "name": "stdout",
     "output_type": "stream",
     "text": [
      "<class 'pandas.core.frame.DataFrame'>\n",
      "Int64Index: 5630 entries, 0 to 5629\n",
      "Data columns (total 16 columns):\n",
      " #   Column                       Non-Null Count  Dtype  \n",
      "---  ------                       --------------  -----  \n",
      " 0   Churn                        5630 non-null   int64  \n",
      " 1   Tenure                       5366 non-null   float64\n",
      " 2   CityTier                     5630 non-null   int64  \n",
      " 3   HourSpendOnApp               5375 non-null   float64\n",
      " 4   NumberOfDeviceRegistered     5630 non-null   int64  \n",
      " 5   PreferedOrderCat             5630 non-null   int32  \n",
      " 6   SatisfactionScore            5630 non-null   int64  \n",
      " 7   Complain                     5630 non-null   int64  \n",
      " 8   OrderAmountHikeFromlastYear  5365 non-null   float64\n",
      " 9   CouponUsed                   5374 non-null   float64\n",
      " 10  OrderCount                   5372 non-null   float64\n",
      " 11  DaySinceLastOrder            5323 non-null   float64\n",
      " 12  CashbackAmount               5630 non-null   float64\n",
      " 13  Gender_Male                  5630 non-null   uint8  \n",
      " 14  MaritalStatus_Married        5630 non-null   uint8  \n",
      " 15  MaritalStatus_Single         5630 non-null   uint8  \n",
      "dtypes: float64(7), int32(1), int64(5), uint8(3)\n",
      "memory usage: 739.3 KB\n"
     ]
    }
   ],
   "source": [
    "# explore the dataframe columns to verify encoding and dropped columns\n",
    "ecomm.info()"
   ]
  },
  {
   "cell_type": "markdown",
   "id": "aa599c98-ba9f-4d25-87a1-bcd07338e859",
   "metadata": {},
   "source": [
    "### 5.2 Split data (train/test)"
   ]
  },
  {
   "cell_type": "code",
   "execution_count": 31,
   "id": "71decde0-5a47-454e-b219-e44dbc374a78",
   "metadata": {},
   "outputs": [],
   "source": [
    "# split 70:30\n",
    "train_df, test_df = train_test_split(ecomm, test_size=0.3)\n",
    "\n",
    "# to reduce repetition in later code, create variables to represent the columns\n",
    "# that are our predictors and target\n",
    "target = 'Churn'\n",
    "predictors = list(ecomm.columns)\n",
    "predictors.remove(target)"
   ]
  },
  {
   "cell_type": "markdown",
   "id": "19b8511c-9476-4cb2-af29-d55ec1a69276",
   "metadata": {},
   "source": [
    "### 5.3  Data prepartion after the data split\n",
    "\n",
    "performed the following:\n",
    "1) impute any missing numeric values using the mean of the variable\n",
    "2) remove differences of scale by standardizing the numerica variables"
   ]
  },
  {
   "cell_type": "markdown",
   "id": "5b4eb7c6-c257-4fb9-acb2-fdcd2505a473",
   "metadata": {},
   "source": [
    "#### Impute missing values"
   ]
  },
  {
   "cell_type": "code",
   "execution_count": 32,
   "id": "eb5895a6-e2a1-4067-b943-ed15e80d2672",
   "metadata": {
    "tags": []
   },
   "outputs": [
    {
     "data": {
      "text/plain": [
       "Tenure                         181\n",
       "HourSpendOnApp                 175\n",
       "OrderAmountHikeFromlastYear    192\n",
       "CouponUsed                     187\n",
       "OrderCount                     181\n",
       "DaySinceLastOrder              222\n",
       "dtype: int64"
      ]
     },
     "execution_count": 32,
     "metadata": {},
     "output_type": "execute_result"
    }
   ],
   "source": [
    "check1=train_df.isna().sum()[train_df.isna().sum() > 0];check1  ## this is one series that's why below code used .index"
   ]
  },
  {
   "cell_type": "code",
   "execution_count": 33,
   "id": "c2c3ee3f-7868-4f33-b937-73b167666cdc",
   "metadata": {},
   "outputs": [
    {
     "data": {
      "text/plain": [
       "['Tenure',\n",
       " 'HourSpendOnApp',\n",
       " 'OrderAmountHikeFromlastYear',\n",
       " 'CouponUsed',\n",
       " 'OrderCount',\n",
       " 'DaySinceLastOrder']"
      ]
     },
     "execution_count": 33,
     "metadata": {},
     "output_type": "execute_result"
    }
   ],
   "source": [
    "numeric_cols_with_nas = list(train_df.isna().sum()[train_df.isna().sum() > 0].index)\n",
    "numeric_cols_with_nas"
   ]
  },
  {
   "cell_type": "markdown",
   "id": "140fba24-3cf6-4269-9074-f6d71b3f8712",
   "metadata": {},
   "source": [
    "We can see from the code above that there are 4 variables (columns) that contain missing numeric values (we've already taken care of any missing values in the catagorical variables earlier)."
   ]
  },
  {
   "cell_type": "code",
   "execution_count": 34,
   "id": "bb12451a-525a-473e-815e-51fc1c156a47",
   "metadata": {},
   "outputs": [],
   "source": [
    "imputer = SimpleImputer(strategy=\"median\")\n",
    "\n",
    "train_df[numeric_cols_with_nas] = imputer.fit_transform(train_df[numeric_cols_with_nas])\n",
    "test_df[numeric_cols_with_nas] = imputer.transform(test_df[numeric_cols_with_nas])"
   ]
  },
  {
   "cell_type": "markdown",
   "id": "69e7eaa8-94b2-496d-aec7-96e5619c0d68",
   "metadata": {
    "tags": []
   },
   "source": [
    "#### Standardize numeric values"
   ]
  },
  {
   "cell_type": "markdown",
   "id": "01f642e7-1f8a-4455-a14a-a87ceb8a273e",
   "metadata": {},
   "source": [
    "Now, let's create a common scale between the numberic columns by standardizing each numeric column"
   ]
  },
  {
   "cell_type": "code",
   "execution_count": 35,
   "id": "0e9c955e",
   "metadata": {},
   "outputs": [
    {
     "data": {
      "text/plain": [
       "['Churn',\n",
       " 'Tenure',\n",
       " 'CityTier',\n",
       " 'HourSpendOnApp',\n",
       " 'NumberOfDeviceRegistered',\n",
       " 'SatisfactionScore',\n",
       " 'Complain',\n",
       " 'OrderAmountHikeFromlastYear',\n",
       " 'CouponUsed',\n",
       " 'OrderCount',\n",
       " 'DaySinceLastOrder',\n",
       " 'CashbackAmount']"
      ]
     },
     "execution_count": 35,
     "metadata": {},
     "output_type": "execute_result"
    }
   ],
   "source": [
    "num_var ## Numberic Columns to standardize except the "
   ]
  },
  {
   "cell_type": "code",
   "execution_count": 36,
   "id": "fd064858-bd92-416c-a85c-1870fc5754ec",
   "metadata": {},
   "outputs": [],
   "source": [
    "# create a standard scaler and fit it to the training set of predictors\n",
    "scaler = preprocessing.StandardScaler()\n",
    "cols_to_stdize = ['Tenure','CityTier','HourSpendOnApp','NumberOfDeviceRegistered',\n",
    "                  'SatisfactionScore','Complain','OrderAmountHikeFromlastYear',\n",
    "                  'CouponUsed','OrderCount','DaySinceLastOrder','CashbackAmount']                \n",
    "               \n",
    "# Transform the predictors of training and validation sets\n",
    "train_df[cols_to_stdize] = scaler.fit_transform(train_df[cols_to_stdize]) # train_predictors is not a numpy array\n",
    "\n",
    "\n",
    "test_df[cols_to_stdize] = scaler.transform(test_df[cols_to_stdize]) # validation_target is now a series object\n"
   ]
  },
  {
   "cell_type": "markdown",
   "id": "27644038-c065-4bc8-a992-af6e3660d289",
   "metadata": {},
   "source": [
    "## 6.0 Save the data"
   ]
  },
  {
   "cell_type": "code",
   "execution_count": 37,
   "id": "da8fd610-1d22-418c-9d32-44c8f152ee6e",
   "metadata": {},
   "outputs": [],
   "source": [
    "train_X = train_df[predictors]\n",
    "train_y = train_df[target] # train_target is now a series objecttrain_df.to_csv('airbnb_train_df.csv', index=False)\n",
    "test_X = test_df[predictors]\n",
    "test_y = test_df[target] # validation_target is now a series object\n",
    "\n",
    "train_df.to_csv('ecomm_train_df.csv', index=False)\n",
    "train_X.to_csv('ecomm_train_X.csv', index=False)\n",
    "train_y.to_csv('ecomm_train_y.csv', index=False)\n",
    "test_df.to_csv('ecomm_test_df.csv', index=False)\n",
    "test_X.to_csv('ecomm_test_X.csv', index=False)\n",
    "test_y.to_csv('ecomm_test_y.csv', index=False)"
   ]
  },
  {
   "cell_type": "code",
   "execution_count": null,
   "id": "5875f82a-0881-45a6-be1c-929ba83c7395",
   "metadata": {},
   "outputs": [],
   "source": []
  }
 ],
 "metadata": {
  "kernelspec": {
   "display_name": "Python 3 (ipykernel)",
   "language": "python",
   "name": "python3"
  },
  "language_info": {
   "codemirror_mode": {
    "name": "ipython",
    "version": 3
   },
   "file_extension": ".py",
   "mimetype": "text/x-python",
   "name": "python",
   "nbconvert_exporter": "python",
   "pygments_lexer": "ipython3",
   "version": "3.9.12"
  }
 },
 "nbformat": 4,
 "nbformat_minor": 5
}
