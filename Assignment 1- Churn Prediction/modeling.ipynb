{
 "cells": [
  {
   "cell_type": "markdown",
   "id": "cdebae9f-5256-4a16-94c4-47f2667bad7e",
   "metadata": {
    "tags": []
   },
   "source": [
    "## 1. Setup\n",
    "Import modules\n"
   ]
  },
  {
   "cell_type": "code",
   "execution_count": 1,
   "id": "22ee50c1-585b-4cae-b067-b8de2e18a0cd",
   "metadata": {
    "tags": []
   },
   "outputs": [],
   "source": [
    "import numpy as np\n",
    "import pandas as pd\n",
    "from sklearn import preprocessing\n",
    "import matplotlib.pyplot as plt\n",
    "from sklearn.metrics import confusion_matrix\n",
    "from sklearn.model_selection import GridSearchCV, RandomizedSearchCV\n",
    "from sklearn.tree import DecisionTreeClassifier \n",
    "from sklearn.svm import SVC\n",
    "from sklearn.linear_model import LogisticRegression\n",
    "from sklearn.datasets import make_classification\n",
    "from collections import Counter\n",
    "import warnings\n",
    "warnings.filterwarnings('ignore')\n",
    "random_seed = 1\n",
    "np.random.seed(random_seed)"
   ]
  },
  {
   "cell_type": "markdown",
   "id": "249f6bad-cc1d-4a2f-ba9c-9e7b1711b245",
   "metadata": {},
   "source": [
    "## 2. Load data\n",
    "Load data (it's already cleaned and preprocessed)\n"
   ]
  },
  {
   "cell_type": "code",
   "execution_count": 2,
   "id": "62b0f06e-ec13-4988-b1cc-b95bbebe41ca",
   "metadata": {
    "tags": []
   },
   "outputs": [],
   "source": [
    "X_train = pd.read_csv('./ecomm_train_X.csv') \n",
    "y_train = pd.read_csv('./ecomm_train_y.csv') \n",
    "X_test = pd.read_csv('./ecomm_test_X.csv') \n",
    "y_test = pd.read_csv('./ecomm_test_y.csv') "
   ]
  },
  {
   "cell_type": "markdown",
   "id": "eb0ec079-2306-4d60-be59-950346d4b99f",
   "metadata": {},
   "source": [
    "### 2.1 Addressing the Imbalance issue  by undersampling technique"
   ]
  },
  {
   "cell_type": "code",
   "execution_count": 3,
   "id": "cfc5f40a-72fc-4b23-b3e6-a3f4de39a2ff",
   "metadata": {},
   "outputs": [
    {
     "name": "stdout",
     "output_type": "stream",
     "text": [
      "Counter({'Churn': 1})\n"
     ]
    }
   ],
   "source": [
    "from imblearn.under_sampling import RandomUnderSampler\n",
    "undersample = RandomUnderSampler(sampling_strategy='majority')\n",
    "\n",
    "X_train, y_train = undersample.fit_resample(X_train, y_train)\n",
    "\n",
    "print(Counter(y_train))"
   ]
  },
  {
   "cell_type": "code",
   "execution_count": 4,
   "id": "b384a1de",
   "metadata": {},
   "outputs": [
    {
     "data": {
      "text/plain": [
       "<AxesSubplot:xlabel='Churn'>"
      ]
     },
     "execution_count": 4,
     "metadata": {},
     "output_type": "execute_result"
    },
    {
     "data": {
      "image/png": "[encoded data removed]",
      "text/plain": [
       "<Figure size 432x288 with 1 Axes>"
      ]
     },
     "metadata": {
      "needs_background": "light"
     },
     "output_type": "display_data"
    }
   ],
   "source": [
    "y_train.value_counts().plot(kind=\"bar\")"
   ]
  },
  {
   "cell_type": "markdown",
   "id": "8af9f6f5-939f-45df-95c0-9017bd679aec",
   "metadata": {},
   "source": [
    "## 3. Model the data\n",
    "First, let's create a dataframe to load the model performance metrics into.\n"
   ]
  },
  {
   "cell_type": "code",
   "execution_count": 5,
   "id": "faa86b1e-a011-4d86-b217-f61eeff1376d",
   "metadata": {
    "tags": []
   },
   "outputs": [],
   "source": [
    "performance = pd.DataFrame({\"model\": [], \"Accuracy\": [], \"Precision\": [], \"Recall\": [], \"F1\": []})"
   ]
  },
  {
   "cell_type": "markdown",
   "id": "0aedddb4-603f-4c8e-863d-7ebaa626dd3e",
   "metadata": {},
   "source": [
    "Conduct an initial random search across a wide range of possible parameters."
   ]
  },
  {
   "cell_type": "markdown",
   "id": "7e7f90aa-d7e5-444e-af1a-1ed7487e1c84",
   "metadata": {
    "tags": []
   },
   "source": [
    "### 3.1 Decision Tree \n",
    "### Random Search Hyperparameter Tunning"
   ]
  },
  {
   "cell_type": "markdown",
   "id": "345080f0-2c1a-4558-938c-784c1c745b63",
   "metadata": {},
   "source": [
    "## Metric Selection = Recall\n",
    "Recall is a commonly used evaluation metric in churn prediction models, and it is often considered to be a more important metric than accuracy or precision for churn detection.\n",
    "\n",
    "Recall, also known as sensitivity or true positive rate, measures the proportion of actual churners that are correctly identified as churners by the model. In other words, it measures the ability of the model to correctly identify all positive cases (i.e., customers who churned) out of the total number of positive cases. In the context of churn prediction, recall can be interpreted as the proportion of customers who are likely to churn that are correctly identified as such by the model. This is particularly important because identifying customers who are at risk of churning is critical for retaining them and minimizing customer churn.\n",
    "\n",
    "In contrast, accuracy measures the proportion of all cases that are correctly identified by the model, regardless of whether they are positive or negative cases. Precision measures the proportion of predicted positive cases that are actually positive, and it is particularly useful in situations where the cost of false positives is high. However, in the context of churn prediction, the cost of false negatives (i.e., failing to identify customers who are likely to churn) is typically higher than the cost of false positives, making recall a more important metric for model evaluation.\n",
    "\n",
    "Overall, while accuracy and precision are important metrics for evaluating the performance of churn prediction models, recall is often considered to be the most important metric for churn detection, as it directly measures the ability of the model to identify customers who are likely to churn.\n"
   ]
  },
  {
   "cell_type": "code",
   "execution_count": 6,
   "id": "5bc22972-d1b1-4a6c-9864-829465125e81",
   "metadata": {},
   "outputs": [
    {
     "name": "stdout",
     "output_type": "stream",
     "text": [
      "Fitting 15 folds for each of 500 candidates, totalling 7500 fits\n"
     ]
    }
   ],
   "source": [
    "score_measure = \"recall\"\n",
    "kfolds = 15\n",
    "\n",
    "criterion = ['gini', 'entropy']\n",
    "\n",
    "max_depth = [int(x) for x in np.linspace(1, 4000, 10)]\n",
    "min_samples_split = [int(x) for x in np.linspace(2, 5000, 10)]\n",
    "min_samples_leaf = [int(x) for x in np.linspace(1, 10000, 10)]\n",
    "max_leaf_nodes = [int(x) for x in np.linspace(2, len(y_test), 50)]\n",
    "min_impurity_decrease = [x for x in np.arange(0.0, 0.01, 0.0001).round(5)]\n",
    "\n",
    "\n",
    "param_grid = {\n",
    "    'min_samples_split': min_samples_split,  \n",
    "    'min_samples_leaf': min_samples_leaf,\n",
    "    'min_impurity_decrease': min_impurity_decrease,\n",
    "    'max_leaf_nodes': max_leaf_nodes, \n",
    "    'max_depth': max_depth, \n",
    "    'criterion': criterion,\n",
    "}\n",
    "\n",
    "dtree = DecisionTreeClassifier(random_state=random_seed)\n",
    "best_random_search_model = RandomizedSearchCV(estimator = dtree, param_distributions=param_grid, cv=kfolds, n_iter=500,\n",
    "                           scoring=score_measure, verbose=1, n_jobs=-1,  # n_jobs=-1 will utilize all available CPUs \n",
    "                           return_train_score=True)\n",
    "\n",
    "_ = best_random_search_model.fit(X_train, y_train)"
   ]
  },
  {
   "cell_type": "code",
   "execution_count": 7,
   "id": "aaee4871-282d-402b-a710-f9afa3edf942",
   "metadata": {
    "tags": []
   },
   "outputs": [
    {
     "name": "stdout",
     "output_type": "stream",
     "text": [
      "Best parameters found:  {'min_samples_split': 2, 'min_samples_leaf': 1, 'min_impurity_decrease': 0.0012, 'max_leaf_nodes': 1585, 'max_depth': 2222, 'criterion': 'gini'}\n"
     ]
    }
   ],
   "source": [
    "random_search_best_params = best_random_search_model.best_params_\n",
    "print('Best parameters found: ', random_search_best_params)"
   ]
  },
  {
   "cell_type": "markdown",
   "id": "d692eb64-40b5-4260-9b9d-687042728737",
   "metadata": {
    "tags": []
   },
   "source": [
    "### 3.2 Decision Tree Grid Search Hyperparameter tunning (Close to Random Search Value)"
   ]
  },
  {
   "cell_type": "code",
   "execution_count": 8,
   "id": "a87c2f98-3c9e-4da3-ac93-2a04ac717935",
   "metadata": {},
   "outputs": [
    {
     "name": "stdout",
     "output_type": "stream",
     "text": [
      "Fitting 5 folds for each of 1280 candidates, totalling 6400 fits\n",
      "The best recall score is 0.8587285793255942\n",
      "... with parameters: {'criterion': 'gini', 'max_depth': 2218, 'max_leaf_nodes': 1581, 'min_impurity_decrease': 0.0004, 'min_samples_leaf': 1, 'min_samples_split': 2}\n"
     ]
    }
   ],
   "source": [
    "score_measure = \"recall\"\n",
    "kfolds = 5\n",
    "\n",
    "plus_minus = 4\n",
    "increment = 2\n",
    "\n",
    "param_grid = { 'min_samples_split': [x for x in range(random_search_best_params['min_samples_split']-plus_minus, random_search_best_params['min_samples_split']+plus_minus,2) if x >= 2],       \n",
    "              'min_samples_leaf': [x for x in range(random_search_best_params['min_samples_leaf']-plus_minus , random_search_best_params['min_samples_leaf']+plus_minus,2) if x > 0],\n",
    "              'min_impurity_decrease': [x for x in np.arange(random_search_best_params['min_impurity_decrease']-0.001, random_search_best_params['min_impurity_decrease']+0.001,.0001).round(5) if x >= 0.000],\n",
    "              'max_leaf_nodes':[x for x in range(random_search_best_params['max_leaf_nodes']-plus_minus , random_search_best_params['max_leaf_nodes']+plus_minus, 2) if x > 1],  \n",
    "              'max_depth': [x for x in range(random_search_best_params['max_depth']-plus_minus , random_search_best_params['max_depth']+plus_minus, 2) if x > 1],\n",
    "              'criterion': [random_search_best_params['criterion']]\n",
    "             }\n",
    "\n",
    "dtree = DecisionTreeClassifier(random_state=random_seed)\n",
    "grid_search = GridSearchCV(estimator = dtree, param_grid=param_grid, cv=kfolds, \n",
    "                           scoring=score_measure, verbose=1, n_jobs=-1,  # n_jobs=-1 will utilize all available CPUs \n",
    "                           return_train_score=True)\n",
    "\n",
    "_ = grid_search.fit(X_train, y_train)\n",
    "\n",
    "print(f\"The best {score_measure} score is {grid_search.best_score_}\")\n",
    "print(f\"... with parameters: {grid_search.best_params_}\")"
   ]
  },
  {
   "cell_type": "code",
   "execution_count": 9,
   "id": "5e9edbdf-5b11-4223-99f4-bfc96ac6a5d6",
   "metadata": {},
   "outputs": [],
   "source": [
    "c_matrix = confusion_matrix(y_test, grid_search.predict(X_test))\n",
    "TP = c_matrix[1][1]\n",
    "TN = c_matrix[0][0]\n",
    "FP = c_matrix[0][1]\n",
    "FN = c_matrix[1][0]\n",
    "performance = pd.concat([performance, pd.DataFrame({'model':\"Decision Tree Grid_Search\", \n",
    "                                                    'Accuracy': [(TP+TN)/(TP+TN+FP+FN)], \n",
    "                                                    'Precision': [TP/(TP+FP)], \n",
    "                                                    'Recall': [TP/(TP+FN)], \n",
    "                                                    'F1': [2*TP/(2*TP+FP+FN)]\n",
    "                                                     }, index=[0])])"
   ]
  },
  {
   "cell_type": "markdown",
   "id": "a8080f38-7112-4064-aa8f-cdba35fd9cbe",
   "metadata": {},
   "source": [
    "# 4.0 SVM Classification"
   ]
  },
  {
   "cell_type": "markdown",
   "id": "6922bffe-11cd-41ba-ad4c-031c38dd161b",
   "metadata": {},
   "source": [
    "### 4.1 SVM Random Search Hyperparameter tunning "
   ]
  },
  {
   "cell_type": "code",
   "execution_count": 10,
   "id": "68547b77-7717-4c80-88f0-307cc1381299",
   "metadata": {
    "tags": []
   },
   "outputs": [
    {
     "name": "stdout",
     "output_type": "stream",
     "text": [
      "Fitting 5 folds for each of 10 candidates, totalling 50 fits\n"
     ]
    }
   ],
   "source": [
    "score_measure = \"recall\"\n",
    "kfolds = 5\n",
    "\n",
    "# defining parameter range\n",
    "param_grid_svm = {\n",
    "    'C': np.arange(1,25),\n",
    "    'gamma': [1, 0.1, 0.01, 0.001, 0.0001],\n",
    "    'kernel': ['linear', 'rbf','poly'],\n",
    "} \n",
    "\n",
    "\n",
    "best_random_search_model = RandomizedSearchCV(SVC(), param_distributions=param_grid_svm, cv=kfolds, \n",
    "                           scoring=score_measure, verbose=1, n_jobs=-1, \n",
    "                           return_train_score=True)\n",
    "\n",
    "_ = best_random_search_model.fit(X_train, np.ravel(y_train))\n"
   ]
  },
  {
   "cell_type": "code",
   "execution_count": 11,
   "id": "7be5b44e-a043-4450-9d25-d28d0c4b37aa",
   "metadata": {
    "tags": []
   },
   "outputs": [
    {
     "name": "stdout",
     "output_type": "stream",
     "text": [
      "Best parameters found:  {'kernel': 'rbf', 'gamma': 0.1, 'C': 9}\n"
     ]
    }
   ],
   "source": [
    "random_search_best_params = best_random_search_model.best_params_\n",
    "print('Best parameters found: ', random_search_best_params)"
   ]
  },
  {
   "cell_type": "markdown",
   "id": "48a3582c-a156-4dad-accd-6ec5aa2c1fa4",
   "metadata": {},
   "source": [
    "### 4.2 SVM Grid Search Hyperparameter tunning (Close to Randome Search Value)"
   ]
  },
  {
   "cell_type": "code",
   "execution_count": 12,
   "id": "b7bf6075-c481-4307-8696-30e42a088e28",
   "metadata": {
    "tags": []
   },
   "outputs": [
    {
     "name": "stdout",
     "output_type": "stream",
     "text": [
      "Fitting 5 folds for each of 16 candidates, totalling 80 fits\n",
      "The best recall score is 0.885428413488115\n",
      "... with parameters: {'C': 7, 'gamma': 0.08, 'kernel': 'rbf'}\n"
     ]
    }
   ],
   "source": [
    "score_measure = \"recall\"\n",
    "kfolds = 5\n",
    "\n",
    "# defining parameter range\n",
    "param_grid_svm = {\n",
    "    'C': np.arange(7,11,1),\n",
    "    'gamma': np.arange(0.080,0.12,0.01),\n",
    "    'kernel': ['rbf']\n",
    "} \n",
    "\n",
    "grid_search_svm = GridSearchCV(SVC(), param_grid=param_grid_svm, cv=kfolds, \n",
    "                           scoring=score_measure, verbose=1, n_jobs=-1, \n",
    "                           return_train_score=True)\n",
    "\n",
    "_ = grid_search_svm.fit(X_train, np.ravel(y_train))\n",
    "\n",
    "print(f\"The best {score_measure} score is {grid_search_svm.best_score_}\")\n",
    "print(f\"... with parameters: {grid_search_svm.best_params_}\")"
   ]
  },
  {
   "cell_type": "code",
   "execution_count": 13,
   "id": "d86ee56b-7ed4-40fc-a51d-6f64f3847049",
   "metadata": {
    "tags": []
   },
   "outputs": [],
   "source": [
    "c_matrix_svm = confusion_matrix(y_test, grid_search_svm.predict(X_test))\n",
    "TP = c_matrix_svm[1][1]\n",
    "TN = c_matrix_svm[0][0]\n",
    "FP = c_matrix_svm[0][1]\n",
    "FN = c_matrix_svm[1][0]\n",
    "performance = pd.concat([performance, pd.DataFrame({'model':\"SVM Grid_Search\", \n",
    "                                                    'Accuracy': [(TP+TN)/(TP+TN+FP+FN)], \n",
    "                                                    'Precision': [TP/(TP+FP)], \n",
    "                                                    'Recall': [TP/(TP+FN)], \n",
    "                                                    'F1': [2*TP/(2*TP+FP+FN)]\n",
    "                                                     }, index=[0])])"
   ]
  },
  {
   "cell_type": "markdown",
   "id": "e4ae7f18-3183-4292-b108-fc448206f537",
   "metadata": {},
   "source": [
    "# 5.0 Logistic Regression"
   ]
  },
  {
   "cell_type": "markdown",
   "id": "86f52cfa-16dd-4113-bef6-ff5f5cd7dd3f",
   "metadata": {},
   "source": [
    "### 5.1 Logistic Regression Random Search Hyperparameter Tunning"
   ]
  },
  {
   "cell_type": "code",
   "execution_count": 14,
   "id": "a165a8bf-3b6d-4c12-b960-57617ea9e5de",
   "metadata": {
    "tags": []
   },
   "outputs": [
    {
     "name": "stdout",
     "output_type": "stream",
     "text": [
      "Fitting 5 folds for each of 10 candidates, totalling 50 fits\n",
      "The best recall score is 0.802089552238806\n",
      "... with parameters: {'solver': 'liblinear', 'penalty': 'l1', 'C': 4.281332398719396}\n"
     ]
    }
   ],
   "source": [
    "score_measure = \"recall\"\n",
    "kfolds = 5\n",
    "\n",
    "# defining parameter range\n",
    "param_grid_log = {\n",
    "    'penalty' : ['none', 'l1', 'l2', 'elasticnet'],\n",
    "    'C' : np.logspace(-4, 4, 20),\n",
    "    'solver' : ['newton-cg', 'lbfgs', 'liblinear']\n",
    "} \n",
    "\n",
    "random_search_log = RandomizedSearchCV(LogisticRegression(), param_distributions=param_grid_log, cv=kfolds, \n",
    "                           scoring=score_measure, verbose=1, n_jobs=-1, \n",
    "                           return_train_score=True)\n",
    "\n",
    "_ = random_search_log.fit(X_train, np.ravel(y_train))\n",
    "\n",
    "print(f\"The best {score_measure} score is {random_search_log.best_score_}\")\n",
    "print(f\"... with parameters: {random_search_log.best_params_}\")"
   ]
  },
  {
   "cell_type": "markdown",
   "id": "9f50abf1-d6ff-4e9e-98c6-c4c1fa246b23",
   "metadata": {},
   "source": [
    "### 5.2 Logistic Regression Grid Search Hyperparameter Tunning (Very Close to Random search Values)"
   ]
  },
  {
   "cell_type": "code",
   "execution_count": 1,
   "id": "daa99918-3914-4551-acc0-eb81cfe62c39",
   "metadata": {
    "tags": []
   },
   "outputs": [
    {
     "ename": "NameError",
     "evalue": "name 'np' is not defined",
     "output_type": "error",
     "traceback": [
      "\u001b[1;31m---------------------------------------------------------------------------\u001b[0m",
      "\u001b[1;31mNameError\u001b[0m                                 Traceback (most recent call last)",
      "Cell \u001b[1;32mIn[1], line 7\u001b[0m\n\u001b[0;32m      2\u001b[0m kfolds \u001b[38;5;241m=\u001b[39m \u001b[38;5;241m5\u001b[39m\n\u001b[0;32m      4\u001b[0m \u001b[38;5;66;03m# defining parameter range\u001b[39;00m\n\u001b[0;32m      5\u001b[0m param_grid_log \u001b[38;5;241m=\u001b[39m {\n\u001b[0;32m      6\u001b[0m     \u001b[38;5;124m'\u001b[39m\u001b[38;5;124mpenalty\u001b[39m\u001b[38;5;124m'\u001b[39m : [\u001b[38;5;124m'\u001b[39m\u001b[38;5;124ml1\u001b[39m\u001b[38;5;124m'\u001b[39m],\n\u001b[1;32m----> 7\u001b[0m     \u001b[38;5;124m'\u001b[39m\u001b[38;5;124mC\u001b[39m\u001b[38;5;124m'\u001b[39m : \u001b[43mnp\u001b[49m\u001b[38;5;241m.\u001b[39marange(\u001b[38;5;241m2\u001b[39m,\u001b[38;5;241m7\u001b[39m,\u001b[38;5;241m1\u001b[39m),\n\u001b[0;32m      8\u001b[0m     \u001b[38;5;124m'\u001b[39m\u001b[38;5;124msolver\u001b[39m\u001b[38;5;124m'\u001b[39m : [\u001b[38;5;124m'\u001b[39m\u001b[38;5;124mliblinear\u001b[39m\u001b[38;5;124m'\u001b[39m]\n\u001b[0;32m      9\u001b[0m } \n\u001b[0;32m     11\u001b[0m grid_search_log \u001b[38;5;241m=\u001b[39m GridSearchCV(LogisticRegression(), param_grid\u001b[38;5;241m=\u001b[39mparam_grid_log, cv\u001b[38;5;241m=\u001b[39mkfolds, \n\u001b[0;32m     12\u001b[0m                            scoring\u001b[38;5;241m=\u001b[39mscore_measure, verbose\u001b[38;5;241m=\u001b[39m\u001b[38;5;241m1\u001b[39m, n_jobs\u001b[38;5;241m=\u001b[39m\u001b[38;5;241m-\u001b[39m\u001b[38;5;241m1\u001b[39m, \n\u001b[0;32m     13\u001b[0m                            return_train_score\u001b[38;5;241m=\u001b[39m\u001b[38;5;28;01mTrue\u001b[39;00m)\n\u001b[0;32m     15\u001b[0m _ \u001b[38;5;241m=\u001b[39m grid_search_log\u001b[38;5;241m.\u001b[39mfit(X_train, np\u001b[38;5;241m.\u001b[39mravel(y_train))\n",
      "\u001b[1;31mNameError\u001b[0m: name 'np' is not defined"
     ]
    }
   ],
   "source": [
    "score_measure = \"recall\"\n",
    "kfolds = 5\n",
    "\n",
    "# defining parameter range\n",
    "param_grid_log = {\n",
    "    'penalty' : ['l1'],\n",
    "    'C' : np.arange(2,7,1),\n",
    "    'solver' : ['liblinear']\n",
    "} \n",
    "\n",
    "grid_search_log = GridSearchCV(LogisticRegression(), param_grid=param_grid_log, cv=kfolds, \n",
    "                           scoring=score_measure, verbose=1, n_jobs=-1, \n",
    "                           return_train_score=True)\n",
    "\n",
    "_ = grid_search_log.fit(X_train, np.ravel(y_train))\n",
    "\n",
    "print(f\"The best {score_measure} score is {grid_search_log.best_score_}\")\n",
    "print(f\"... with parameters: {grid_search_log.best_params_}\")"
   ]
  },
  {
   "cell_type": "code",
   "execution_count": 16,
   "id": "582ae80e-d712-479f-9bac-3f8161c68387",
   "metadata": {},
   "outputs": [],
   "source": [
    "c_matrix_log = confusion_matrix(y_test, grid_search_log.predict(X_test))\n",
    "TP = c_matrix_log[1][1]\n",
    "TN = c_matrix_log[0][0]\n",
    "FP = c_matrix_log[0][1]\n",
    "FN = c_matrix_log[1][0]\n",
    "performance = pd.concat([performance, pd.DataFrame({'model':\"Logistic Grid_Search\", \n",
    "                                                    'Accuracy': [(TP+TN)/(TP+TN+FP+FN)], \n",
    "                                                    'Precision': [TP/(TP+FP)], \n",
    "                                                    'Recall': [TP/(TP+FN)], \n",
    "                                                    'F1': [2*TP/(2*TP+FP+FN)]\n",
    "                                                     }, index=[0])])"
   ]
  },
  {
   "cell_type": "markdown",
   "id": "dd262e71-f304-493f-bfdb-08f456c26b7f",
   "metadata": {},
   "source": [
    "## 6.0 Performance Evaluation and Comparison of Models"
   ]
  },
  {
   "cell_type": "code",
   "execution_count": 17,
   "id": "b3900e3b-bb79-4241-916e-a54100a8c3a9",
   "metadata": {
    "tags": []
   },
   "outputs": [
    {
     "data": {
      "text/html": [
       "<div>\n",
       "<style scoped>\n",
       "    .dataframe tbody tr th:only-of-type {\n",
       "        vertical-align: middle;\n",
       "    }\n",
       "\n",
       "    .dataframe tbody tr th {\n",
       "        vertical-align: top;\n",
       "    }\n",
       "\n",
       "    .dataframe thead th {\n",
       "        text-align: right;\n",
       "    }\n",
       "</style>\n",
       "<table border=\"1\" class=\"dataframe\">\n",
       "  <thead>\n",
       "    <tr style=\"text-align: right;\">\n",
       "      <th></th>\n",
       "      <th>model</th>\n",
       "      <th>Accuracy</th>\n",
       "      <th>Precision</th>\n",
       "      <th>Recall</th>\n",
       "      <th>F1</th>\n",
       "    </tr>\n",
       "  </thead>\n",
       "  <tbody>\n",
       "    <tr>\n",
       "      <th>0</th>\n",
       "      <td>Decision Tree Grid_Search</td>\n",
       "      <td>0.827709</td>\n",
       "      <td>0.485207</td>\n",
       "      <td>0.891304</td>\n",
       "      <td>0.628352</td>\n",
       "    </tr>\n",
       "    <tr>\n",
       "      <th>0</th>\n",
       "      <td>SVM Grid_Search</td>\n",
       "      <td>0.839550</td>\n",
       "      <td>0.505071</td>\n",
       "      <td>0.902174</td>\n",
       "      <td>0.647594</td>\n",
       "    </tr>\n",
       "    <tr>\n",
       "      <th>0</th>\n",
       "      <td>Logistic Grid_Search</td>\n",
       "      <td>0.769686</td>\n",
       "      <td>0.397086</td>\n",
       "      <td>0.789855</td>\n",
       "      <td>0.528485</td>\n",
       "    </tr>\n",
       "  </tbody>\n",
       "</table>\n",
       "</div>"
      ],
      "text/plain": [
       "                       model  Accuracy  Precision    Recall        F1\n",
       "0  Decision Tree Grid_Search  0.827709   0.485207  0.891304  0.628352\n",
       "0            SVM Grid_Search  0.839550   0.505071  0.902174  0.647594\n",
       "0       Logistic Grid_Search  0.769686   0.397086  0.789855  0.528485"
      ]
     },
     "execution_count": 17,
     "metadata": {},
     "output_type": "execute_result"
    }
   ],
   "source": [
    "performance"
   ]
  },
  {
   "cell_type": "markdown",
   "id": "75231071-dc85-4cbb-994a-dcded328955e",
   "metadata": {},
   "source": [
    "## 7.0 Confusion Matrix for cost evaluation of best model (Decision Tree)"
   ]
  },
  {
   "cell_type": "code",
   "execution_count": 18,
   "id": "7fe64f94-736a-4301-bbd8-39abb11d3937",
   "metadata": {
    "tags": []
   },
   "outputs": [
    {
     "data": {
      "text/plain": [
       "array([[1152,  261],\n",
       "       [  30,  246]], dtype=int64)"
      ]
     },
     "execution_count": 18,
     "metadata": {},
     "output_type": "execute_result"
    }
   ],
   "source": [
    "c_matrix  ## Confusion matric of Decision tree model"
   ]
  },
  {
   "cell_type": "markdown",
   "id": "64a25032-4293-4d5f-abb3-4f21177f1bdb",
   "metadata": {},
   "source": [
    "The confusion matrix for the model reveals that there were 246 true positives (TP), 1152 true negatives (TN), 261 false positives (FP), and 30 false negatives (FN). The imbalanced target variable is a possible reason for such values.\n",
    "\n",
    "Let's now examine how this churn detection model can benefit the e-commerce business in financial terms. Let's assume that the business generates an average revenue of USD 100 per month per customer, with an average customer lifetime value of USD 1,000. If the churn detection model can accurately identify an additional 10 customers per month who are at risk of churning, and the business can retain these customers, it would result in an extra monthly revenue of USD 1,000 (USD 100 per customer * 10 customers) and an additional customer lifetime value of USD 10,000 (USD 1,000 per customer * 10 customers) over the lifetime of these customers.\n",
    "\n",
    "However, in our case from the confusion matrix there were 30 false negatives, meaning that the model predicted that these customers would not churn, whereas they actually churned. Based on the example values, the business would lose USD 3,000 per month (USD 100 per customer * 30 customers) and an additional customer lifetime value of USD 30,000 (USD 1,000 per customer * 30 customers) over the lifetime of these customers."
   ]
  },
  {
   "cell_type": "markdown",
   "id": "84b90341-2ab4-4291-8beb-4788af3f09ff",
   "metadata": {},
   "source": [
    "# Conclusion\n",
    "\n",
    "### Churn detection is a crucial aspect for e-commerce businesses as it can have a significant impact on various factors such as revenue, customer lifetime value, customer satisfaction, and competition. It helps identify customers who are likely to leave, enabling businesses to take proactive measures to retain them and prevent revenue loss. Out of the three evaluated models, the SVM model has the highest recall value of 90.21%, which is the most important metric for churn detection. Besides recall, accuracy is also crucial as it reduces the number of false negatives and focuses on true positive customers. With a recall score of 0.902, the model can correctly identify 90.2% of customers who are likely to churn, indicating its ability to identify a significant proportion of at-risk customers.\n",
    "\n"
   ]
  },
  {
   "cell_type": "code",
   "execution_count": null,
   "id": "ab3234d7",
   "metadata": {},
   "outputs": [],
   "source": []
  }
 ],
 "metadata": {
  "kernelspec": {
   "display_name": "Python 3 (ipykernel)",
   "language": "python",
   "name": "python3"
  },
  "language_info": {
   "codemirror_mode": {
    "name": "ipython",
    "version": 3
   },
   "file_extension": ".py",
   "mimetype": "text/x-python",
   "name": "python",
   "nbconvert_exporter": "python",
   "pygments_lexer": "ipython3",
   "version": "3.9.12"
  }
 },
 "nbformat": 4,
 "nbformat_minor": 5
}
