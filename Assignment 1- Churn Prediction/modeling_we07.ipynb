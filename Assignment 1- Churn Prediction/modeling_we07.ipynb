{
 "cells": [
  {
   "cell_type": "markdown",
   "id": "e4a35166-81b4-45eb-b6ee-80d199d9f09a",
   "metadata": {
    "tags": []
   },
   "source": [
    "## 1. Setup\n",
    "Import modules\n"
   ]
  },
  {
   "cell_type": "code",
   "execution_count": 1,
   "id": "6615c103-52f6-4889-9535-a0900c6da077",
   "metadata": {
    "tags": []
   },
   "outputs": [],
   "source": [
    "import numpy as np\n",
    "import pandas as pd\n",
    "from sklearn import preprocessing\n",
    "import matplotlib.pyplot as plt\n",
    "from sklearn.metrics import confusion_matrix\n",
    "from sklearn.model_selection import GridSearchCV, RandomizedSearchCV\n",
    "from sklearn.tree import DecisionTreeClassifier \n",
    "from sklearn.svm import SVC\n",
    "from sklearn.linear_model import LogisticRegression\n",
    "from sklearn.neural_network import MLPClassifier\n",
    "from sklearn.datasets import make_classification\n",
    "from collections import Counter\n",
    "import warnings\n",
    "warnings.filterwarnings('ignore')\n",
    "random_seed = 1\n",
    "np.random.seed(random_seed)"
   ]
  },
  {
   "cell_type": "markdown",
   "id": "31d9437e-7df5-4c13-bdc0-e7658fee9048",
   "metadata": {},
   "source": [
    "## 2. Load data\n",
    "Load data (it's already cleaned and preprocessed)\n"
   ]
  },
  {
   "cell_type": "code",
   "execution_count": 2,
   "id": "4cd8d4bc-3fe4-4265-b0eb-c1122fe71c61",
   "metadata": {
    "tags": []
   },
   "outputs": [],
   "source": [
    "X_train = pd.read_csv('./ecomm_train_X.csv') \n",
    "y_train = pd.read_csv('./ecomm_train_y.csv') \n",
    "X_test = pd.read_csv('./ecomm_test_X.csv') \n",
    "y_test = pd.read_csv('./ecomm_test_y.csv') "
   ]
  },
  {
   "cell_type": "markdown",
   "id": "22b824bd-b82d-4d82-845a-d2a5cd6e7317",
   "metadata": {},
   "source": [
    "### 2.1 Addressing the Imbalance issue  by undersampling technique"
   ]
  },
  {
   "cell_type": "code",
   "execution_count": 5,
   "id": "eb979a80-0988-455f-9a16-70a7d2a47dfa",
   "metadata": {
    "tags": []
   },
   "outputs": [
    {
     "name": "stdout",
     "output_type": "stream",
     "text": [
      "Counter({'Churn': 1})\n"
     ]
    }
   ],
   "source": [
    "from imblearn.under_sampling import RandomUnderSampler\n",
    "undersample = RandomUnderSampler(sampling_strategy='majority')\n",
    "\n",
    "X_train, y_train = undersample.fit_resample(X_train, y_train)\n",
    "\n",
    "print(Counter(y_train))"
   ]
  },
  {
   "cell_type": "code",
   "execution_count": 6,
   "id": "8b6ca8ab-a943-41bc-b87e-8baedcf662a4",
   "metadata": {
    "tags": []
   },
   "outputs": [
    {
     "data": {
      "text/plain": [
       "<AxesSubplot: xlabel='Churn'>"
      ]
     },
     "execution_count": 6,
     "metadata": {},
     "output_type": "execute_result"
    },
    {
     "data": {
      "image/png": "[encoded data removed]",
      "text/plain": [
       "<Figure size 640x480 with 1 Axes>"
      ]
     },
     "metadata": {},
     "output_type": "display_data"
    }
   ],
   "source": [
    "y_train.value_counts().plot(kind=\"bar\")"
   ]
  },
  {
   "cell_type": "markdown",
   "id": "22ad4ac7-5e74-451b-b226-121a2b05aaed",
   "metadata": {},
   "source": [
    "## 3. Model the data\n",
    "First, let's create a dataframe to load the model performance metrics into.\n"
   ]
  },
  {
   "cell_type": "code",
   "execution_count": 7,
   "id": "702dbe78-ba85-431a-a06e-15f06e247aea",
   "metadata": {
    "tags": []
   },
   "outputs": [],
   "source": [
    "performance = pd.DataFrame({\"model\": [], \"Accuracy\": [], \"Precision\": [], \"Recall\": [], \"F1\": []})"
   ]
  },
  {
   "cell_type": "markdown",
   "id": "02e77fbe-1f2c-43cc-b2d7-6d6ab7c34f2e",
   "metadata": {},
   "source": [
    "Conduct an initial random search across a wide range of possible parameters."
   ]
  },
  {
   "cell_type": "markdown",
   "id": "9dd7b60e-0ddb-4115-a5b8-985d4dc065dc",
   "metadata": {
    "tags": []
   },
   "source": [
    "### 3.1 Decision Tree \n",
    "### Random Search Hyperparameter Tunning"
   ]
  },
  {
   "cell_type": "markdown",
   "id": "f4a2ad82-c9b3-4843-9058-7450a3e734b2",
   "metadata": {},
   "source": [
    "## Metric Selection = Recall\n",
    "Recall is a commonly used evaluation metric in churn prediction models, and it is often considered to be a more important metric than accuracy or precision for churn detection.\n",
    "\n",
    "Recall, also known as sensitivity or true positive rate, measures the proportion of actual churners that are correctly identified as churners by the model. In other words, it measures the ability of the model to correctly identify all positive cases (i.e., customers who churned) out of the total number of positive cases. In the context of churn prediction, recall can be interpreted as the proportion of customers who are likely to churn that are correctly identified as such by the model. This is particularly important because identifying customers who are at risk of churning is critical for retaining them and minimizing customer churn.\n",
    "\n",
    "In contrast, accuracy measures the proportion of all cases that are correctly identified by the model, regardless of whether they are positive or negative cases. Precision measures the proportion of predicted positive cases that are actually positive, and it is particularly useful in situations where the cost of false positives is high. However, in the context of churn prediction, the cost of false negatives (i.e., failing to identify customers who are likely to churn) is typically higher than the cost of false positives, making recall a more important metric for model evaluation.\n",
    "\n",
    "Overall, while accuracy and precision are important metrics for evaluating the performance of churn prediction models, recall is often considered to be the most important metric for churn detection, as it directly measures the ability of the model to identify customers who are likely to churn.\n"
   ]
  },
  {
   "cell_type": "code",
   "execution_count": 8,
   "id": "85ee35de-b411-4d59-94f4-ffc341f40da3",
   "metadata": {
    "tags": []
   },
   "outputs": [
    {
     "name": "stdout",
     "output_type": "stream",
     "text": [
      "Fitting 15 folds for each of 500 candidates, totalling 7500 fits\n"
     ]
    }
   ],
   "source": [
    "score_measure = \"recall\"\n",
    "kfolds = 15\n",
    "\n",
    "criterion = ['gini', 'entropy']\n",
    "\n",
    "max_depth = [int(x) for x in np.linspace(1, 4000, 10)]\n",
    "min_samples_split = [int(x) for x in np.linspace(2, 5000, 10)]\n",
    "min_samples_leaf = [int(x) for x in np.linspace(1, 10000, 10)]\n",
    "max_leaf_nodes = [int(x) for x in np.linspace(2, len(y_test), 50)]\n",
    "min_impurity_decrease = [x for x in np.arange(0.0, 0.01, 0.0001).round(5)]\n",
    "\n",
    "\n",
    "param_grid = {\n",
    "    'min_samples_split': min_samples_split,  \n",
    "    'min_samples_leaf': min_samples_leaf,\n",
    "    'min_impurity_decrease': min_impurity_decrease,\n",
    "    'max_leaf_nodes': max_leaf_nodes, \n",
    "    'max_depth': max_depth, \n",
    "    'criterion': criterion,\n",
    "}\n",
    "\n",
    "dtree = DecisionTreeClassifier(random_state=random_seed)\n",
    "best_random_search_model = RandomizedSearchCV(estimator = dtree, param_distributions=param_grid, cv=kfolds, n_iter=500,\n",
    "                           scoring=score_measure, verbose=1, n_jobs=-1,  # n_jobs=-1 will utilize all available CPUs \n",
    "                           return_train_score=True)\n",
    "\n",
    "_ = best_random_search_model.fit(X_train, y_train)"
   ]
  },
  {
   "cell_type": "code",
   "execution_count": 9,
   "id": "752db94c-c7fd-4596-a765-a6415815a1e8",
   "metadata": {
    "tags": []
   },
   "outputs": [
    {
     "name": "stdout",
     "output_type": "stream",
     "text": [
      "Best parameters found:  {'min_samples_split': 2, 'min_samples_leaf': 1, 'min_impurity_decrease': 0.0012, 'max_leaf_nodes': 1585, 'max_depth': 2222, 'criterion': 'gini'}\n"
     ]
    }
   ],
   "source": [
    "random_search_best_params = best_random_search_model.best_params_\n",
    "print('Best parameters found: ', random_search_best_params)"
   ]
  },
  {
   "cell_type": "markdown",
   "id": "63ef9d8b-f9cb-48d9-b920-8cfbfe18e561",
   "metadata": {
    "tags": []
   },
   "source": [
    "### 3.2 Decision Tree Grid Search Hyperparameter tunning (Close to Random Search Value)"
   ]
  },
  {
   "cell_type": "code",
   "execution_count": 10,
   "id": "f431212e-3764-4563-a4f0-2bd3e2a49728",
   "metadata": {
    "tags": []
   },
   "outputs": [
    {
     "name": "stdout",
     "output_type": "stream",
     "text": [
      "Fitting 5 folds for each of 1280 candidates, totalling 6400 fits\n",
      "The best recall score is 0.8587285793255942\n",
      "... with parameters: {'criterion': 'gini', 'max_depth': 2218, 'max_leaf_nodes': 1581, 'min_impurity_decrease': 0.0004, 'min_samples_leaf': 1, 'min_samples_split': 2}\n"
     ]
    }
   ],
   "source": [
    "score_measure = \"recall\"\n",
    "kfolds = 5\n",
    "\n",
    "plus_minus = 4\n",
    "increment = 2\n",
    "\n",
    "param_grid = { 'min_samples_split': [x for x in range(random_search_best_params['min_samples_split']-plus_minus, random_search_best_params['min_samples_split']+plus_minus,2) if x >= 2],       \n",
    "              'min_samples_leaf': [x for x in range(random_search_best_params['min_samples_leaf']-plus_minus , random_search_best_params['min_samples_leaf']+plus_minus,2) if x > 0],\n",
    "              'min_impurity_decrease': [x for x in np.arange(random_search_best_params['min_impurity_decrease']-0.001, random_search_best_params['min_impurity_decrease']+0.001,.0001).round(5) if x >= 0.000],\n",
    "              'max_leaf_nodes':[x for x in range(random_search_best_params['max_leaf_nodes']-plus_minus , random_search_best_params['max_leaf_nodes']+plus_minus, 2) if x > 1],  \n",
    "              'max_depth': [x for x in range(random_search_best_params['max_depth']-plus_minus , random_search_best_params['max_depth']+plus_minus, 2) if x > 1],\n",
    "              'criterion': [random_search_best_params['criterion']]\n",
    "             }\n",
    "\n",
    "dtree = DecisionTreeClassifier(random_state=random_seed)\n",
    "grid_search = GridSearchCV(estimator = dtree, param_grid=param_grid, cv=kfolds, \n",
    "                           scoring=score_measure, verbose=1, n_jobs=-1,  # n_jobs=-1 will utilize all available CPUs \n",
    "                           return_train_score=True)\n",
    "\n",
    "_ = grid_search.fit(X_train, y_train)\n",
    "\n",
    "print(f\"The best {score_measure} score is {grid_search.best_score_}\")\n",
    "print(f\"... with parameters: {grid_search.best_params_}\")"
   ]
  },
  {
   "cell_type": "code",
   "execution_count": 11,
   "id": "2422ac0b-5ec7-4684-8cc7-9a5c68bb8ddb",
   "metadata": {
    "tags": []
   },
   "outputs": [],
   "source": [
    "c_matrix = confusion_matrix(y_test, grid_search.predict(X_test))\n",
    "TP = c_matrix[1][1]\n",
    "TN = c_matrix[0][0]\n",
    "FP = c_matrix[0][1]\n",
    "FN = c_matrix[1][0]\n",
    "performance = pd.concat([performance, pd.DataFrame({'model':\"Decision Tree Grid_Search\", \n",
    "                                                    'Accuracy': [(TP+TN)/(TP+TN+FP+FN)], \n",
    "                                                    'Precision': [TP/(TP+FP)], \n",
    "                                                    'Recall': [TP/(TP+FN)], \n",
    "                                                    'F1': [2*TP/(2*TP+FP+FN)]\n",
    "                                                     }, index=[0])])"
   ]
  },
  {
   "cell_type": "markdown",
   "id": "dcea78dd-0d18-444e-9148-4d30779e13c7",
   "metadata": {},
   "source": [
    "# 4.0 SVM Classification"
   ]
  },
  {
   "cell_type": "markdown",
   "id": "2b5b6b70-d470-44d7-921b-4b6a52b2ba29",
   "metadata": {},
   "source": [
    "### 4.1 SVM Random Search Hyperparameter tunning "
   ]
  },
  {
   "cell_type": "code",
   "execution_count": 12,
   "id": "3977ec12-4810-4df8-8b95-94d1a5316da7",
   "metadata": {
    "tags": []
   },
   "outputs": [
    {
     "name": "stdout",
     "output_type": "stream",
     "text": [
      "Fitting 5 folds for each of 10 candidates, totalling 50 fits\n"
     ]
    }
   ],
   "source": [
    "score_measure = \"recall\"\n",
    "kfolds = 5\n",
    "\n",
    "# defining parameter range\n",
    "param_grid_svm = {\n",
    "    'C': np.arange(1,25),\n",
    "    'gamma': [1, 0.1, 0.01, 0.001, 0.0001],\n",
    "    'kernel': ['linear', 'rbf','poly'],\n",
    "} \n",
    "\n",
    "\n",
    "best_random_search_model = RandomizedSearchCV(SVC(), param_distributions=param_grid_svm, cv=kfolds, \n",
    "                           scoring=score_measure, verbose=1, n_jobs=-1, \n",
    "                           return_train_score=True)\n",
    "\n",
    "_ = best_random_search_model.fit(X_train, np.ravel(y_train))\n"
   ]
  },
  {
   "cell_type": "code",
   "execution_count": 13,
   "id": "1595d6cf-06eb-4781-b477-1598b3dc0f9b",
   "metadata": {
    "tags": []
   },
   "outputs": [
    {
     "name": "stdout",
     "output_type": "stream",
     "text": [
      "Best parameters found:  {'kernel': 'rbf', 'gamma': 0.1, 'C': 9}\n"
     ]
    }
   ],
   "source": [
    "random_search_best_params = best_random_search_model.best_params_\n",
    "print('Best parameters found: ', random_search_best_params)"
   ]
  },
  {
   "cell_type": "markdown",
   "id": "0629d6ba-b230-48bd-9e18-bf3919dcf57f",
   "metadata": {},
   "source": [
    "### 4.2 SVM Grid Search Hyperparameter tunning (Close to Randome Search Value)"
   ]
  },
  {
   "cell_type": "code",
   "execution_count": 14,
   "id": "d31528ec-f4d5-4a07-ac10-bf5571366d73",
   "metadata": {
    "tags": []
   },
   "outputs": [
    {
     "name": "stdout",
     "output_type": "stream",
     "text": [
      "Fitting 5 folds for each of 16 candidates, totalling 80 fits\n",
      "The best recall score is 0.885428413488115\n",
      "... with parameters: {'C': 7, 'gamma': 0.08, 'kernel': 'rbf'}\n"
     ]
    }
   ],
   "source": [
    "score_measure = \"recall\"\n",
    "kfolds = 5\n",
    "\n",
    "# defining parameter range\n",
    "param_grid_svm = {\n",
    "    'C': np.arange(7,11,1),\n",
    "    'gamma': np.arange(0.080,0.12,0.01),\n",
    "    'kernel': ['rbf']\n",
    "} \n",
    "\n",
    "grid_search_svm = GridSearchCV(SVC(), param_grid=param_grid_svm, cv=kfolds, \n",
    "                           scoring=score_measure, verbose=1, n_jobs=-1, \n",
    "                           return_train_score=True)\n",
    "\n",
    "_ = grid_search_svm.fit(X_train, np.ravel(y_train))\n",
    "\n",
    "print(f\"The best {score_measure} score is {grid_search_svm.best_score_}\")\n",
    "print(f\"... with parameters: {grid_search_svm.best_params_}\")"
   ]
  },
  {
   "cell_type": "code",
   "execution_count": 15,
   "id": "325d1221-b216-4aa2-87e5-195bb81ed94b",
   "metadata": {
    "tags": []
   },
   "outputs": [],
   "source": [
    "c_matrix_svm = confusion_matrix(y_test, grid_search_svm.predict(X_test))\n",
    "TP = c_matrix_svm[1][1]\n",
    "TN = c_matrix_svm[0][0]\n",
    "FP = c_matrix_svm[0][1]\n",
    "FN = c_matrix_svm[1][0]\n",
    "performance = pd.concat([performance, pd.DataFrame({'model':\"SVM Grid_Search\", \n",
    "                                                    'Accuracy': [(TP+TN)/(TP+TN+FP+FN)], \n",
    "                                                    'Precision': [TP/(TP+FP)], \n",
    "                                                    'Recall': [TP/(TP+FN)], \n",
    "                                                    'F1': [2*TP/(2*TP+FP+FN)]\n",
    "                                                     }, index=[0])])"
   ]
  },
  {
   "cell_type": "markdown",
   "id": "7022f64c-24c1-4dd2-a883-a4da07278a1e",
   "metadata": {},
   "source": [
    "# 5.0 Logistic Regression"
   ]
  },
  {
   "cell_type": "markdown",
   "id": "50f23da1-f1da-416a-aa37-486d2189ae92",
   "metadata": {},
   "source": [
    "### 5.1 Logistic Regression Random Search Hyperparameter Tunning"
   ]
  },
  {
   "cell_type": "code",
   "execution_count": 16,
   "id": "3e6d9e54-7409-4e38-9339-fc823e5d17c8",
   "metadata": {
    "tags": []
   },
   "outputs": [
    {
     "name": "stdout",
     "output_type": "stream",
     "text": [
      "Fitting 5 folds for each of 10 candidates, totalling 50 fits\n",
      "The best recall score is 0.802089552238806\n",
      "... with parameters: {'solver': 'liblinear', 'penalty': 'l1', 'C': 4.281332398719396}\n"
     ]
    }
   ],
   "source": [
    "score_measure = \"recall\"\n",
    "kfolds = 5\n",
    "\n",
    "# defining parameter range\n",
    "param_grid_log = {\n",
    "    'penalty' : ['none', 'l1', 'l2', 'elasticnet'],\n",
    "    'C' : np.logspace(-4, 4, 20),\n",
    "    'solver' : ['newton-cg', 'lbfgs', 'liblinear']\n",
    "} \n",
    "\n",
    "random_search_log = RandomizedSearchCV(LogisticRegression(), param_distributions=param_grid_log, cv=kfolds, \n",
    "                           scoring=score_measure, verbose=1, n_jobs=-1, \n",
    "                           return_train_score=True)\n",
    "\n",
    "_ = random_search_log.fit(X_train, np.ravel(y_train))\n",
    "\n",
    "print(f\"The best {score_measure} score is {random_search_log.best_score_}\")\n",
    "print(f\"... with parameters: {random_search_log.best_params_}\")"
   ]
  },
  {
   "cell_type": "markdown",
   "id": "8d299614-5e34-4d12-830e-0f468a843201",
   "metadata": {},
   "source": [
    "### 5.2 Logistic Regression Grid Search Hyperparameter Tunning (Very Close to Random search Values)"
   ]
  },
  {
   "cell_type": "code",
   "execution_count": 17,
   "id": "e8db6322-b888-4af4-b5e4-ca33314ee0ed",
   "metadata": {
    "tags": []
   },
   "outputs": [
    {
     "name": "stdout",
     "output_type": "stream",
     "text": [
      "Fitting 5 folds for each of 5 candidates, totalling 25 fits\n",
      "The best recall score is 0.802089552238806\n",
      "... with parameters: {'C': 2, 'penalty': 'l1', 'solver': 'liblinear'}\n"
     ]
    }
   ],
   "source": [
    "score_measure = \"recall\"\n",
    "kfolds = 5\n",
    "\n",
    "# defining parameter range\n",
    "param_grid_log = {\n",
    "    'penalty' : ['l1'],\n",
    "    'C' : np.arange(2,7,1),\n",
    "    'solver' : ['liblinear']\n",
    "} \n",
    "\n",
    "grid_search_log = GridSearchCV(LogisticRegression(), param_grid=param_grid_log, cv=kfolds, \n",
    "                           scoring=score_measure, verbose=1, n_jobs=-1, \n",
    "                           return_train_score=True)\n",
    "\n",
    "_ = grid_search_log.fit(X_train, np.ravel(y_train))\n",
    "\n",
    "print(f\"The best {score_measure} score is {grid_search_log.best_score_}\")\n",
    "print(f\"... with parameters: {grid_search_log.best_params_}\")"
   ]
  },
  {
   "cell_type": "code",
   "execution_count": 18,
   "id": "8a997868-444d-4c16-8a51-f34af887734e",
   "metadata": {
    "tags": []
   },
   "outputs": [],
   "source": [
    "c_matrix_log = confusion_matrix(y_test, grid_search_log.predict(X_test))\n",
    "TP = c_matrix_log[1][1]\n",
    "TN = c_matrix_log[0][0]\n",
    "FP = c_matrix_log[0][1]\n",
    "FN = c_matrix_log[1][0]\n",
    "performance = pd.concat([performance, pd.DataFrame({'model':\"Logistic Grid_Search\", \n",
    "                                                    'Accuracy': [(TP+TN)/(TP+TN+FP+FN)], \n",
    "                                                    'Precision': [TP/(TP+FP)], \n",
    "                                                    'Recall': [TP/(TP+FN)], \n",
    "                                                    'F1': [2*TP/(2*TP+FP+FN)]\n",
    "                                                     }, index=[0])])"
   ]
  },
  {
   "cell_type": "markdown",
   "id": "c4b890a0-e822-441a-b461-92148e126e9a",
   "metadata": {},
   "source": [
    "# 6.0 Neural Network"
   ]
  },
  {
   "cell_type": "markdown",
   "id": "e475db56-7a63-4ccf-9975-e0cca27d7dbe",
   "metadata": {},
   "source": [
    "### 6.1 Neural Network Random Search Hyperparameter Tunning"
   ]
  },
  {
   "cell_type": "code",
   "execution_count": 20,
   "id": "6133502b-50c7-4927-98ec-e5c701f92c59",
   "metadata": {},
   "outputs": [
    {
     "name": "stdout",
     "output_type": "stream",
     "text": [
      "Fitting 5 folds for each of 100 candidates, totalling 500 fits\n",
      "{'solver': 'sgd', 'max_iter': 5000, 'learning_rate_init': 0.2, 'learning_rate': 'adaptive', 'hidden_layer_sizes': (60, 40, 20), 'alpha': 0.7, 'activation': 'relu'}\n",
      "CPU times: total: 1.95 s\n",
      "Wall time: 2min 6s\n"
     ]
    }
   ],
   "source": [
    "%%time\n",
    "\n",
    "score_measure = \"recall\"\n",
    "kfolds = 5\n",
    "\n",
    "param_grid = {\n",
    "    'hidden_layer_sizes': [ (50,), (70,),(50,30), (40,20), (60,40, 20), (70,50,40)],\n",
    "    'activation': ['logistic', 'tanh', 'relu'],\n",
    "    'solver': ['adam', 'sgd'],\n",
    "    'alpha': [0, .2, .5, .7, 1],\n",
    "    'learning_rate': ['constant', 'invscaling', 'adaptive'],\n",
    "    'learning_rate_init': [0.001, 0.01, 0.1, 0.2, 0.5],\n",
    "    'max_iter': [5000]\n",
    "}\n",
    "\n",
    "ann = MLPClassifier()\n",
    "grid_search_neural = RandomizedSearchCV(estimator = ann, param_distributions=param_grid, cv=kfolds, n_iter=100,\n",
    "                           scoring=score_measure, verbose=1, n_jobs=-1,  # n_jobs=-1 will utilize all available CPUs \n",
    "                           return_train_score=True)\n",
    "\n",
    "_ = grid_search_neural.fit(X_train, y_train)\n",
    "\n",
    "bestRecallTree = grid_search_neural.best_estimator_\n",
    "\n",
    "print(grid_search_neural.best_params_)"
   ]
  },
  {
   "cell_type": "markdown",
   "id": "53a09fb2-483c-4fa5-a4ae-bb69afbd4d3c",
   "metadata": {},
   "source": [
    "### 6.2 Neural Network Grid Search Hyperparameter Tunning (Very Close to Random search Values)"
   ]
  },
  {
   "cell_type": "code",
   "execution_count": 21,
   "id": "11b69ff9-af21-43ac-996f-cd6b9d4c6729",
   "metadata": {},
   "outputs": [
    {
     "name": "stdout",
     "output_type": "stream",
     "text": [
      "Fitting 5 folds for each of 20 candidates, totalling 100 fits\n",
      "{'activation': 'relu', 'alpha': 0.7, 'hidden_layer_sizes': (60, 40, 20), 'learning_rate': 'adaptive', 'learning_rate_init': 0.18, 'max_iter': 5000, 'solver': 'sgd'}\n",
      "CPU times: total: 1.03 s\n",
      "Wall time: 48.1 s\n"
     ]
    }
   ],
   "source": [
    "%%time\n",
    "\n",
    "score_measure = \"recall\"\n",
    "kfolds = 5\n",
    "\n",
    "param_grid = {\n",
    "    'hidden_layer_sizes': [ (60,40, 20)],\n",
    "    'activation': ['relu'],\n",
    "    'solver': ['sgd'],\n",
    "    'alpha': np.arange(0.5,0.9,0.1),\n",
    "    'learning_rate': ['adaptive'],\n",
    "    'learning_rate_init': np.arange(0.18,0.22,0.01),\n",
    "    'max_iter': [5000]\n",
    "}\n",
    "\n",
    "ann = MLPClassifier()\n",
    "grid_search_nn = GridSearchCV(estimator = ann, param_grid=param_grid, cv=kfolds, \n",
    "                           scoring=score_measure, verbose=1, n_jobs=-1,  # n_jobs=-1 will utilize all available CPUs \n",
    "                           return_train_score=True)\n",
    "\n",
    "_ = grid_search_nn.fit(X_train, y_train)\n",
    "\n",
    "bestRecallTree = grid_search_nn.best_estimator_\n",
    "\n",
    "print(grid_search_nn.best_params_)"
   ]
  },
  {
   "cell_type": "code",
   "execution_count": 22,
   "id": "f048d801-a8e9-45f0-921f-cf29e0a0b47d",
   "metadata": {
    "tags": []
   },
   "outputs": [],
   "source": [
    "c_matrix_log = confusion_matrix(y_test, grid_search_nn.predict(X_test))\n",
    "TP = c_matrix_log[1][1]\n",
    "TN = c_matrix_log[0][0]\n",
    "FP = c_matrix_log[0][1]\n",
    "FN = c_matrix_log[1][0]\n",
    "performance = pd.concat([performance, pd.DataFrame({'model':\"Neural Network Grid_Search\", \n",
    "                                                    'Accuracy': [(TP+TN)/(TP+TN+FP+FN)], \n",
    "                                                    'Precision': [TP/(TP+FP)], \n",
    "                                                    'Recall': [TP/(TP+FN)], \n",
    "                                                    'F1': [2*TP/(2*TP+FP+FN)]\n",
    "                                                     }, index=[0])])"
   ]
  },
  {
   "cell_type": "markdown",
   "id": "6b55bf09-8c1c-4e57-b578-92cf576b99ff",
   "metadata": {},
   "source": [
    "## 7.0 Performance Evaluation and Comparison of Models"
   ]
  },
  {
   "cell_type": "code",
   "execution_count": 23,
   "id": "a2f338e6-7a8a-437b-b528-07759a784d90",
   "metadata": {
    "tags": []
   },
   "outputs": [
    {
     "data": {
      "text/html": [
       "<div>\n",
       "<style scoped>\n",
       "    .dataframe tbody tr th:only-of-type {\n",
       "        vertical-align: middle;\n",
       "    }\n",
       "\n",
       "    .dataframe tbody tr th {\n",
       "        vertical-align: top;\n",
       "    }\n",
       "\n",
       "    .dataframe thead th {\n",
       "        text-align: right;\n",
       "    }\n",
       "</style>\n",
       "<table border=\"1\" class=\"dataframe\">\n",
       "  <thead>\n",
       "    <tr style=\"text-align: right;\">\n",
       "      <th></th>\n",
       "      <th>model</th>\n",
       "      <th>Accuracy</th>\n",
       "      <th>Precision</th>\n",
       "      <th>Recall</th>\n",
       "      <th>F1</th>\n",
       "    </tr>\n",
       "  </thead>\n",
       "  <tbody>\n",
       "    <tr>\n",
       "      <th>0</th>\n",
       "      <td>Decision Tree Grid_Search</td>\n",
       "      <td>0.827709</td>\n",
       "      <td>0.485207</td>\n",
       "      <td>0.891304</td>\n",
       "      <td>0.628352</td>\n",
       "    </tr>\n",
       "    <tr>\n",
       "      <th>0</th>\n",
       "      <td>SVM Grid_Search</td>\n",
       "      <td>0.839550</td>\n",
       "      <td>0.505071</td>\n",
       "      <td>0.902174</td>\n",
       "      <td>0.647594</td>\n",
       "    </tr>\n",
       "    <tr>\n",
       "      <th>0</th>\n",
       "      <td>Logistic Grid_Search</td>\n",
       "      <td>0.769686</td>\n",
       "      <td>0.397086</td>\n",
       "      <td>0.789855</td>\n",
       "      <td>0.528485</td>\n",
       "    </tr>\n",
       "    <tr>\n",
       "      <th>0</th>\n",
       "      <td>Neural Network Grid_Search</td>\n",
       "      <td>0.844287</td>\n",
       "      <td>0.513800</td>\n",
       "      <td>0.876812</td>\n",
       "      <td>0.647925</td>\n",
       "    </tr>\n",
       "  </tbody>\n",
       "</table>\n",
       "</div>"
      ],
      "text/plain": [
       "                        model  Accuracy  Precision    Recall        F1\n",
       "0   Decision Tree Grid_Search  0.827709   0.485207  0.891304  0.628352\n",
       "0             SVM Grid_Search  0.839550   0.505071  0.902174  0.647594\n",
       "0        Logistic Grid_Search  0.769686   0.397086  0.789855  0.528485\n",
       "0  Neural Network Grid_Search  0.844287   0.513800  0.876812  0.647925"
      ]
     },
     "execution_count": 23,
     "metadata": {},
     "output_type": "execute_result"
    }
   ],
   "source": [
    "performance"
   ]
  },
  {
   "cell_type": "markdown",
   "id": "bbc97355-5e3b-488b-b90c-1354c2254820",
   "metadata": {},
   "source": [
    "## 8.0 Confusion Matrix for cost evaluation of best model (SVM)"
   ]
  },
  {
   "cell_type": "code",
   "execution_count": 25,
   "id": "0de966ae-db12-4c78-b87f-c0f48af96fb1",
   "metadata": {
    "tags": []
   },
   "outputs": [
    {
     "data": {
      "text/plain": [
       "array([[1169,  244],\n",
       "       [  27,  249]], dtype=int64)"
      ]
     },
     "execution_count": 25,
     "metadata": {},
     "output_type": "execute_result"
    }
   ],
   "source": [
    "c_matrix_svm  ## Confusion matric of SVM model"
   ]
  },
  {
   "cell_type": "markdown",
   "id": "01113e89-8a8f-4487-8d12-b55c35baf536",
   "metadata": {},
   "source": [
    "#### 8.1 Discussion of Adding Neural Network classifcation to the existing model"
   ]
  },
  {
   "cell_type": "markdown",
   "id": "3949f3b4-5fa5-48d8-b466-5fef68d94b6d",
   "metadata": {},
   "source": [
    "Even adding Neural network classification to the model above, it produces Recall of 87.68% which is underperformed compared to SVM. Hence to solve our problem statement we will continue with SVM as our best model with recall of 90.21%.  "
   ]
  },
  {
   "cell_type": "markdown",
   "id": "2a668ba7-df4e-4115-929e-86fafe9b599c",
   "metadata": {},
   "source": [
    "#### 8.2 Discussion of Confusion Matrix for cost evaluation of best model (SVM)"
   ]
  },
  {
   "cell_type": "markdown",
   "id": "caf559b7-786d-407a-a4c1-bd9533512b76",
   "metadata": {},
   "source": [
    "The confusion matrix for the best model (reveals that there were 249 true positives (TP), 1169 true negatives (TN), 244 false positives (FP), and 27 false negatives (FN). The imbalanced target variable is a possible reason for such values.\n",
    "\n",
    "Let's now examine how this churn detection model can benefit the e-commerce business in financial terms. Let's assume that the business generates an average revenue of USD 100 per month per customer, with an average customer lifetime value of USD 1,000. If the churn detection model can accurately identify an additional 10 customers per month who are at risk of churning, and the business can retain these customers, it would result in an extra monthly revenue of USD 1,000 (USD 100 per customer * 10 customers) and an additional customer lifetime value of USD 10,000 (USD 1,000 per customer * 10 customers) over the lifetime of these customers.\n",
    "\n",
    "However, in our case from the confusion matrix there were 27 false negatives, meaning that the model predicted that these customers would not churn, whereas they actually churned. Based on the example values, the business would lose USD 2,700 per month (USD 100 per customer * 30 customers) and an additional customer lifetime value of USD 27,000 (USD 1,000 per customer * 30 customers) over the lifetime of these customers."
   ]
  },
  {
   "cell_type": "markdown",
   "id": "1c883c7f-6c1c-4014-a35f-506433ce7bd7",
   "metadata": {},
   "source": [
    "# Conclusion\n",
    "\n",
    "### Churn detection is a crucial aspect for e-commerce businesses as it can have a significant impact on various factors such as revenue, customer lifetime value, customer satisfaction, and competition. It helps identify customers who are likely to leave, enabling businesses to take proactive measures to retain them and prevent revenue loss. Out of the three evaluated models, the SVM model has the highest recall value of 90.21%, which is the most important metric for churn detection. Besides recall, accuracy is also crucial as it reduces the number of false negatives and focuses on true positive customers. With a recall score of 0.902, the model can correctly identify 90.2% of customers who are likely to churn, indicating its ability to identify a significant proportion of at-risk customers.\n",
    "\n"
   ]
  },
  {
   "cell_type": "code",
   "execution_count": null,
   "id": "40a53c20-a59c-4898-9803-c29ebf83f303",
   "metadata": {},
   "outputs": [],
   "source": []
  },
  {
   "cell_type": "code",
   "execution_count": null,
   "id": "0aa0d7a1-372f-4ac6-b7b3-028a7d855d0f",
   "metadata": {},
   "outputs": [],
   "source": []
  }
 ],
 "metadata": {
  "kernelspec": {
   "display_name": "Python 3 (ipykernel)",
   "language": "python",
   "name": "python3"
  },
  "language_info": {
   "codemirror_mode": {
    "name": "ipython",
    "version": 3
   },
   "file_extension": ".py",
   "mimetype": "text/x-python",
   "name": "python",
   "nbconvert_exporter": "python",
   "pygments_lexer": "ipython3",
   "version": "3.9.12"
  }
 },
 "nbformat": 4,
 "nbformat_minor": 5
}
