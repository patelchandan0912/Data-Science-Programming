{
 "cells": [
  {
   "attachments": {},
   "cell_type": "markdown",
   "metadata": {},
   "source": [
    "# Tutorial 1 - RNN Sequence classifier"
   ]
  },
  {
   "attachments": {},
   "cell_type": "markdown",
   "metadata": {},
   "source": [
    "In this notebook, we will predict the winner of a basketball game based on the scores observed in the first 3 quarters of the game. Each column represents the beginning of a minute during the game. (There are 12 minutes in each quarter. There are  3 quarters in the data, so we have 36 columns as input variables in chronological order.) The values captured in each column represent the score difference observed at that minute (home score minus away score)<br><br>\n",
    "\n",
    "The last column `W` represents whether the home team (1) or the away team (0) won the game. This is the target variable. <br><br>\n",
    "**Our unit of analysis is a single game.**"
   ]
  },
  {
   "cell_type": "code",
   "execution_count": 1,
   "metadata": {},
   "outputs": [],
   "source": [
    "# Common imports\n",
    "import numpy as np\n",
    "import tensorflow as tf\n",
    "from tensorflow import keras\n",
    "import pandas as pd\n",
    "\n",
    "np.random.seed(1)\n",
    "tf.random.set_seed(1)"
   ]
  },
  {
   "attachments": {},
   "cell_type": "markdown",
   "metadata": {},
   "source": [
    "## Get the data"
   ]
  },
  {
   "cell_type": "code",
   "execution_count": 3,
   "metadata": {},
   "outputs": [],
   "source": [
    "data = pd.read_csv(\"basketball.csv\")"
   ]
  },
  {
   "cell_type": "code",
   "execution_count": 4,
   "metadata": {},
   "outputs": [
    {
     "data": {
      "text/plain": [
       "(1230, 37)"
      ]
     },
     "execution_count": 4,
     "metadata": {},
     "output_type": "execute_result"
    }
   ],
   "source": [
    "data.shape"
   ]
  },
  {
   "cell_type": "code",
   "execution_count": 5,
   "metadata": {},
   "outputs": [
    {
     "data": {
      "text/html": [
       "<div>\n",
       "<style scoped>\n",
       "    .dataframe tbody tr th:only-of-type {\n",
       "        vertical-align: middle;\n",
       "    }\n",
       "\n",
       "    .dataframe tbody tr th {\n",
       "        vertical-align: top;\n",
       "    }\n",
       "\n",
       "    .dataframe thead th {\n",
       "        text-align: right;\n",
       "    }\n",
       "</style>\n",
       "<table border=\"1\" class=\"dataframe\">\n",
       "  <thead>\n",
       "    <tr style=\"text-align: right;\">\n",
       "      <th></th>\n",
       "      <th>M1</th>\n",
       "      <th>M2</th>\n",
       "      <th>M3</th>\n",
       "      <th>M4</th>\n",
       "      <th>M5</th>\n",
       "      <th>M6</th>\n",
       "      <th>M7</th>\n",
       "      <th>M8</th>\n",
       "      <th>M9</th>\n",
       "      <th>M10</th>\n",
       "      <th>...</th>\n",
       "      <th>M28</th>\n",
       "      <th>M29</th>\n",
       "      <th>M30</th>\n",
       "      <th>M31</th>\n",
       "      <th>M32</th>\n",
       "      <th>M33</th>\n",
       "      <th>M34</th>\n",
       "      <th>M35</th>\n",
       "      <th>M36</th>\n",
       "      <th>W</th>\n",
       "    </tr>\n",
       "  </thead>\n",
       "  <tbody>\n",
       "    <tr>\n",
       "      <th>0</th>\n",
       "      <td>-2</td>\n",
       "      <td>-1</td>\n",
       "      <td>1</td>\n",
       "      <td>1</td>\n",
       "      <td>-1</td>\n",
       "      <td>-3</td>\n",
       "      <td>-1</td>\n",
       "      <td>0</td>\n",
       "      <td>3</td>\n",
       "      <td>6</td>\n",
       "      <td>...</td>\n",
       "      <td>9</td>\n",
       "      <td>11</td>\n",
       "      <td>10</td>\n",
       "      <td>7</td>\n",
       "      <td>7</td>\n",
       "      <td>4</td>\n",
       "      <td>6</td>\n",
       "      <td>2</td>\n",
       "      <td>1</td>\n",
       "      <td>1</td>\n",
       "    </tr>\n",
       "    <tr>\n",
       "      <th>1</th>\n",
       "      <td>0</td>\n",
       "      <td>2</td>\n",
       "      <td>7</td>\n",
       "      <td>6</td>\n",
       "      <td>10</td>\n",
       "      <td>8</td>\n",
       "      <td>8</td>\n",
       "      <td>6</td>\n",
       "      <td>0</td>\n",
       "      <td>6</td>\n",
       "      <td>...</td>\n",
       "      <td>7</td>\n",
       "      <td>11</td>\n",
       "      <td>11</td>\n",
       "      <td>14</td>\n",
       "      <td>14</td>\n",
       "      <td>15</td>\n",
       "      <td>13</td>\n",
       "      <td>13</td>\n",
       "      <td>13</td>\n",
       "      <td>0</td>\n",
       "    </tr>\n",
       "    <tr>\n",
       "      <th>2</th>\n",
       "      <td>0</td>\n",
       "      <td>-2</td>\n",
       "      <td>2</td>\n",
       "      <td>0</td>\n",
       "      <td>5</td>\n",
       "      <td>4</td>\n",
       "      <td>5</td>\n",
       "      <td>3</td>\n",
       "      <td>5</td>\n",
       "      <td>3</td>\n",
       "      <td>...</td>\n",
       "      <td>9</td>\n",
       "      <td>11</td>\n",
       "      <td>13</td>\n",
       "      <td>13</td>\n",
       "      <td>12</td>\n",
       "      <td>17</td>\n",
       "      <td>15</td>\n",
       "      <td>15</td>\n",
       "      <td>12</td>\n",
       "      <td>1</td>\n",
       "    </tr>\n",
       "    <tr>\n",
       "      <th>3</th>\n",
       "      <td>0</td>\n",
       "      <td>2</td>\n",
       "      <td>0</td>\n",
       "      <td>3</td>\n",
       "      <td>4</td>\n",
       "      <td>3</td>\n",
       "      <td>5</td>\n",
       "      <td>4</td>\n",
       "      <td>3</td>\n",
       "      <td>1</td>\n",
       "      <td>...</td>\n",
       "      <td>10</td>\n",
       "      <td>6</td>\n",
       "      <td>7</td>\n",
       "      <td>7</td>\n",
       "      <td>8</td>\n",
       "      <td>8</td>\n",
       "      <td>8</td>\n",
       "      <td>8</td>\n",
       "      <td>8</td>\n",
       "      <td>1</td>\n",
       "    </tr>\n",
       "    <tr>\n",
       "      <th>4</th>\n",
       "      <td>0</td>\n",
       "      <td>-2</td>\n",
       "      <td>-2</td>\n",
       "      <td>0</td>\n",
       "      <td>3</td>\n",
       "      <td>-2</td>\n",
       "      <td>-7</td>\n",
       "      <td>-5</td>\n",
       "      <td>-7</td>\n",
       "      <td>-4</td>\n",
       "      <td>...</td>\n",
       "      <td>10</td>\n",
       "      <td>10</td>\n",
       "      <td>15</td>\n",
       "      <td>13</td>\n",
       "      <td>11</td>\n",
       "      <td>11</td>\n",
       "      <td>11</td>\n",
       "      <td>13</td>\n",
       "      <td>10</td>\n",
       "      <td>1</td>\n",
       "    </tr>\n",
       "  </tbody>\n",
       "</table>\n",
       "<p>5 rows × 37 columns</p>\n",
       "</div>"
      ],
      "text/plain": [
       "   M1  M2  M3  M4  M5  M6  M7  M8  M9  M10  ...  M28  M29  M30  M31  M32  M33  \\\n",
       "0  -2  -1   1   1  -1  -3  -1   0   3    6  ...    9   11   10    7    7    4   \n",
       "1   0   2   7   6  10   8   8   6   0    6  ...    7   11   11   14   14   15   \n",
       "2   0  -2   2   0   5   4   5   3   5    3  ...    9   11   13   13   12   17   \n",
       "3   0   2   0   3   4   3   5   4   3    1  ...   10    6    7    7    8    8   \n",
       "4   0  -2  -2   0   3  -2  -7  -5  -7   -4  ...   10   10   15   13   11   11   \n",
       "\n",
       "   M34  M35  M36  W  \n",
       "0    6    2    1  1  \n",
       "1   13   13   13  0  \n",
       "2   15   15   12  1  \n",
       "3    8    8    8  1  \n",
       "4   11   13   10  1  \n",
       "\n",
       "[5 rows x 37 columns]"
      ]
     },
     "execution_count": 5,
     "metadata": {},
     "output_type": "execute_result"
    }
   ],
   "source": [
    "data.head()"
   ]
  },
  {
   "cell_type": "code",
   "execution_count": 6,
   "metadata": {},
   "outputs": [],
   "source": [
    "y = data['W']\n",
    "X = data.drop('W', axis=1)"
   ]
  },
  {
   "attachments": {},
   "cell_type": "markdown",
   "metadata": {},
   "source": [
    "## Split the data"
   ]
  },
  {
   "cell_type": "code",
   "execution_count": 7,
   "metadata": {},
   "outputs": [],
   "source": [
    "from sklearn.model_selection import train_test_split\n",
    "\n",
    "X_train, X_test, y_train, y_test = train_test_split(X, y, test_size=0.3)"
   ]
  },
  {
   "attachments": {},
   "cell_type": "markdown",
   "metadata": {},
   "source": [
    "## Data Transformation"
   ]
  },
  {
   "cell_type": "code",
   "execution_count": 8,
   "metadata": {},
   "outputs": [],
   "source": [
    "#Target variables need to be an array with integer type\n",
    "y_train = np.array(y_train)\n",
    "y_test = np.array(y_test)\n",
    "\n",
    "y_train = y_train.astype(np.int32)\n",
    "y_test = y_test.astype(np.int32)"
   ]
  },
  {
   "cell_type": "code",
   "execution_count": 9,
   "metadata": {
    "scrolled": true
   },
   "outputs": [
    {
     "data": {
      "text/plain": [
       "array([0, 1, 1, 1, 1, 1, 0, 0, 0, 0])"
      ]
     },
     "execution_count": 9,
     "metadata": {},
     "output_type": "execute_result"
    }
   ],
   "source": [
    "#Check the first 10 values of the train_y data set\n",
    "y_train[0:10]"
   ]
  },
  {
   "cell_type": "code",
   "execution_count": 10,
   "metadata": {},
   "outputs": [],
   "source": [
    "#Convert input variables to a 2-D array with float data type\n",
    "X_train = np.array(X_train)\n",
    "X_test = np.array(X_test)\n",
    "\n",
    "X_train = X_train.astype(np.float32)\n",
    "X_test = X_test.astype(np.float32)"
   ]
  },
  {
   "cell_type": "code",
   "execution_count": 11,
   "metadata": {},
   "outputs": [
    {
     "data": {
      "text/plain": [
       "array([[ -3.,  -3.,  -2., ...,  -5.,  -3.,  -7.],\n",
       "       [  0.,   1.,  -1., ...,  10.,  12.,  15.],\n",
       "       [ -3.,  -2.,  -2., ...,  14.,  12.,  12.],\n",
       "       ...,\n",
       "       [  2.,   6.,   8., ...,  -2.,   1.,   0.],\n",
       "       [ -2.,   1.,  -1., ..., -19., -21., -14.],\n",
       "       [  2.,   1.,   3., ...,   0.,   2.,   4.]], dtype=float32)"
      ]
     },
     "execution_count": 11,
     "metadata": {},
     "output_type": "execute_result"
    }
   ],
   "source": [
    "X_train"
   ]
  },
  {
   "cell_type": "code",
   "execution_count": 12,
   "metadata": {},
   "outputs": [],
   "source": [
    "#Keras expects a different input format:\n",
    "#Data needs to have 3 dimensions\n",
    "\n",
    "X_train = np.reshape(X_train, (X_train.shape[0], X_train.shape[1], 1))\n",
    "X_test = np.reshape(X_test, (X_test.shape[0], X_test.shape[1], 1))"
   ]
  },
  {
   "cell_type": "code",
   "execution_count": 13,
   "metadata": {},
   "outputs": [
    {
     "data": {
      "text/plain": [
       "((861, 36, 1), (861,))"
      ]
     },
     "execution_count": 13,
     "metadata": {},
     "output_type": "execute_result"
    }
   ],
   "source": [
    "X_train.shape, y_train.shape"
   ]
  },
  {
   "cell_type": "code",
   "execution_count": 14,
   "metadata": {},
   "outputs": [
    {
     "data": {
      "text/plain": [
       "array([[[ -3.],\n",
       "        [ -3.],\n",
       "        [ -2.],\n",
       "        ...,\n",
       "        [ -5.],\n",
       "        [ -3.],\n",
       "        [ -7.]],\n",
       "\n",
       "       [[  0.],\n",
       "        [  1.],\n",
       "        [ -1.],\n",
       "        ...,\n",
       "        [ 10.],\n",
       "        [ 12.],\n",
       "        [ 15.]],\n",
       "\n",
       "       [[ -3.],\n",
       "        [ -2.],\n",
       "        [ -2.],\n",
       "        ...,\n",
       "        [ 14.],\n",
       "        [ 12.],\n",
       "        [ 12.]],\n",
       "\n",
       "       ...,\n",
       "\n",
       "       [[  2.],\n",
       "        [  6.],\n",
       "        [  8.],\n",
       "        ...,\n",
       "        [ -2.],\n",
       "        [  1.],\n",
       "        [  0.]],\n",
       "\n",
       "       [[ -2.],\n",
       "        [  1.],\n",
       "        [ -1.],\n",
       "        ...,\n",
       "        [-19.],\n",
       "        [-21.],\n",
       "        [-14.]],\n",
       "\n",
       "       [[  2.],\n",
       "        [  1.],\n",
       "        [  3.],\n",
       "        ...,\n",
       "        [  0.],\n",
       "        [  2.],\n",
       "        [  4.]]], dtype=float32)"
      ]
     },
     "execution_count": 14,
     "metadata": {},
     "output_type": "execute_result"
    }
   ],
   "source": [
    "X_train"
   ]
  },
  {
   "attachments": {},
   "cell_type": "markdown",
   "metadata": {},
   "source": [
    "# A normal (cross-sectional) NN\n",
    "\n",
    "This model assumes that the data is NOT a time-series data set. It treats the data as cross-sectional and the columns being independent of each other."
   ]
  },
  {
   "cell_type": "code",
   "execution_count": 15,
   "metadata": {},
   "outputs": [],
   "source": [
    "model = keras.models.Sequential([\n",
    "    \n",
    "    keras.layers.Flatten(input_shape=[36, 1]),\n",
    "    keras.layers.Dense(36, activation='relu'),\n",
    "    keras.layers.Dense(1, activation='sigmoid')\n",
    "    \n",
    "])"
   ]
  },
  {
   "cell_type": "code",
   "execution_count": 16,
   "metadata": {
    "scrolled": true
   },
   "outputs": [
    {
     "name": "stdout",
     "output_type": "stream",
     "text": [
      "Epoch 1/50\n",
      "27/27 [==============================] - 5s 22ms/step - loss: 0.8406 - accuracy: 0.7271 - val_loss: 0.5258 - val_accuracy: 0.7859\n",
      "Epoch 2/50\n",
      "27/27 [==============================] - 0s 5ms/step - loss: 0.5658 - accuracy: 0.7724 - val_loss: 0.5487 - val_accuracy: 0.7886\n",
      "Epoch 3/50\n",
      "27/27 [==============================] - 0s 6ms/step - loss: 0.4437 - accuracy: 0.7863 - val_loss: 0.4938 - val_accuracy: 0.8076\n",
      "Epoch 4/50\n",
      "27/27 [==============================] - 0s 6ms/step - loss: 0.4089 - accuracy: 0.8095 - val_loss: 0.4881 - val_accuracy: 0.8157\n",
      "Epoch 5/50\n",
      "27/27 [==============================] - 0s 6ms/step - loss: 0.3892 - accuracy: 0.8188 - val_loss: 0.4739 - val_accuracy: 0.7886\n",
      "Epoch 6/50\n",
      "27/27 [==============================] - 0s 6ms/step - loss: 0.4008 - accuracy: 0.8060 - val_loss: 0.5862 - val_accuracy: 0.7046\n",
      "Epoch 7/50\n",
      "27/27 [==============================] - 0s 6ms/step - loss: 0.3665 - accuracy: 0.8304 - val_loss: 0.5044 - val_accuracy: 0.7995\n",
      "Epoch 8/50\n",
      "27/27 [==============================] - 0s 6ms/step - loss: 0.3701 - accuracy: 0.8328 - val_loss: 0.4793 - val_accuracy: 0.8022\n",
      "Epoch 9/50\n",
      "27/27 [==============================] - 0s 6ms/step - loss: 0.3457 - accuracy: 0.8502 - val_loss: 0.4761 - val_accuracy: 0.7913\n",
      "Epoch 10/50\n",
      "27/27 [==============================] - 0s 5ms/step - loss: 0.3477 - accuracy: 0.8513 - val_loss: 0.4892 - val_accuracy: 0.8157\n",
      "Epoch 11/50\n",
      "27/27 [==============================] - 0s 6ms/step - loss: 0.3327 - accuracy: 0.8513 - val_loss: 0.5150 - val_accuracy: 0.8103\n",
      "Epoch 12/50\n",
      "27/27 [==============================] - 0s 6ms/step - loss: 0.3291 - accuracy: 0.8618 - val_loss: 0.4794 - val_accuracy: 0.7805\n",
      "Epoch 13/50\n",
      "27/27 [==============================] - 0s 6ms/step - loss: 0.3387 - accuracy: 0.8618 - val_loss: 0.5116 - val_accuracy: 0.8049\n",
      "Epoch 14/50\n",
      "27/27 [==============================] - 0s 6ms/step - loss: 0.3547 - accuracy: 0.8537 - val_loss: 0.5666 - val_accuracy: 0.7642\n",
      "Epoch 15/50\n",
      "27/27 [==============================] - 0s 5ms/step - loss: 0.3438 - accuracy: 0.8571 - val_loss: 0.6117 - val_accuracy: 0.7480\n",
      "Epoch 16/50\n",
      "27/27 [==============================] - 0s 5ms/step - loss: 0.3480 - accuracy: 0.8479 - val_loss: 0.5264 - val_accuracy: 0.7995\n",
      "Epoch 17/50\n",
      "27/27 [==============================] - 0s 5ms/step - loss: 0.3092 - accuracy: 0.8711 - val_loss: 0.5270 - val_accuracy: 0.7696\n",
      "Epoch 18/50\n",
      "27/27 [==============================] - 0s 6ms/step - loss: 0.3050 - accuracy: 0.8711 - val_loss: 0.5067 - val_accuracy: 0.7995\n",
      "Epoch 19/50\n",
      "27/27 [==============================] - 0s 6ms/step - loss: 0.3304 - accuracy: 0.8595 - val_loss: 0.5858 - val_accuracy: 0.7615\n",
      "Epoch 20/50\n",
      "27/27 [==============================] - 0s 6ms/step - loss: 0.3129 - accuracy: 0.8618 - val_loss: 0.5538 - val_accuracy: 0.7669\n",
      "Epoch 21/50\n",
      "27/27 [==============================] - 0s 6ms/step - loss: 0.3002 - accuracy: 0.8746 - val_loss: 0.5200 - val_accuracy: 0.7805\n",
      "Epoch 22/50\n",
      "27/27 [==============================] - 0s 6ms/step - loss: 0.3138 - accuracy: 0.8606 - val_loss: 0.5489 - val_accuracy: 0.7940\n",
      "Epoch 23/50\n",
      "27/27 [==============================] - 0s 5ms/step - loss: 0.3081 - accuracy: 0.8780 - val_loss: 0.5186 - val_accuracy: 0.7913\n",
      "Epoch 24/50\n",
      "27/27 [==============================] - 0s 5ms/step - loss: 0.2797 - accuracy: 0.8850 - val_loss: 0.5575 - val_accuracy: 0.7778\n",
      "Epoch 25/50\n",
      "27/27 [==============================] - 0s 5ms/step - loss: 0.2968 - accuracy: 0.8618 - val_loss: 0.5414 - val_accuracy: 0.7967\n",
      "Epoch 26/50\n",
      "27/27 [==============================] - 0s 5ms/step - loss: 0.2622 - accuracy: 0.8990 - val_loss: 0.5834 - val_accuracy: 0.7805\n",
      "Epoch 27/50\n",
      "27/27 [==============================] - 0s 6ms/step - loss: 0.2621 - accuracy: 0.9094 - val_loss: 0.5605 - val_accuracy: 0.7778\n",
      "Epoch 28/50\n",
      "27/27 [==============================] - 0s 5ms/step - loss: 0.2425 - accuracy: 0.8931 - val_loss: 0.5908 - val_accuracy: 0.7940\n",
      "Epoch 29/50\n",
      "27/27 [==============================] - 0s 6ms/step - loss: 0.2555 - accuracy: 0.8908 - val_loss: 0.6237 - val_accuracy: 0.7453\n",
      "Epoch 30/50\n",
      "27/27 [==============================] - 0s 6ms/step - loss: 0.2890 - accuracy: 0.8943 - val_loss: 0.6238 - val_accuracy: 0.7913\n",
      "Epoch 31/50\n",
      "27/27 [==============================] - 0s 5ms/step - loss: 0.2849 - accuracy: 0.8850 - val_loss: 0.6021 - val_accuracy: 0.7696\n",
      "Epoch 32/50\n",
      "27/27 [==============================] - 0s 5ms/step - loss: 0.2780 - accuracy: 0.8955 - val_loss: 0.6572 - val_accuracy: 0.8157\n",
      "Epoch 33/50\n",
      "27/27 [==============================] - 0s 6ms/step - loss: 0.2456 - accuracy: 0.8931 - val_loss: 0.6335 - val_accuracy: 0.7642\n",
      "Epoch 34/50\n",
      "27/27 [==============================] - 0s 5ms/step - loss: 0.2420 - accuracy: 0.9048 - val_loss: 0.6135 - val_accuracy: 0.7886\n",
      "Epoch 35/50\n",
      "27/27 [==============================] - 0s 5ms/step - loss: 0.2558 - accuracy: 0.9082 - val_loss: 0.7057 - val_accuracy: 0.7940\n",
      "Epoch 36/50\n",
      "27/27 [==============================] - 0s 6ms/step - loss: 0.2494 - accuracy: 0.8897 - val_loss: 0.6450 - val_accuracy: 0.7995\n",
      "Epoch 37/50\n",
      "27/27 [==============================] - 0s 6ms/step - loss: 0.2355 - accuracy: 0.9048 - val_loss: 0.6319 - val_accuracy: 0.7425\n",
      "Epoch 38/50\n",
      "27/27 [==============================] - 0s 6ms/step - loss: 0.2513 - accuracy: 0.8897 - val_loss: 0.6598 - val_accuracy: 0.7913\n",
      "Epoch 39/50\n",
      "27/27 [==============================] - 0s 6ms/step - loss: 0.2468 - accuracy: 0.9001 - val_loss: 0.6939 - val_accuracy: 0.7480\n",
      "Epoch 40/50\n",
      "27/27 [==============================] - 0s 6ms/step - loss: 0.2523 - accuracy: 0.8873 - val_loss: 0.6693 - val_accuracy: 0.7940\n",
      "Epoch 41/50\n",
      "27/27 [==============================] - 0s 6ms/step - loss: 0.2421 - accuracy: 0.9117 - val_loss: 0.6905 - val_accuracy: 0.8049\n",
      "Epoch 42/50\n",
      "27/27 [==============================] - 0s 5ms/step - loss: 0.2185 - accuracy: 0.9117 - val_loss: 0.7017 - val_accuracy: 0.7696\n",
      "Epoch 43/50\n",
      "27/27 [==============================] - 0s 5ms/step - loss: 0.2179 - accuracy: 0.9152 - val_loss: 0.7089 - val_accuracy: 0.7859\n",
      "Epoch 44/50\n",
      "27/27 [==============================] - 0s 5ms/step - loss: 0.2141 - accuracy: 0.9129 - val_loss: 0.7254 - val_accuracy: 0.7913\n",
      "Epoch 45/50\n",
      "27/27 [==============================] - 0s 5ms/step - loss: 0.2041 - accuracy: 0.9117 - val_loss: 0.7131 - val_accuracy: 0.7805\n",
      "Epoch 46/50\n",
      "27/27 [==============================] - 0s 5ms/step - loss: 0.2164 - accuracy: 0.9141 - val_loss: 0.7543 - val_accuracy: 0.7886\n",
      "Epoch 47/50\n",
      "27/27 [==============================] - 0s 6ms/step - loss: 0.2520 - accuracy: 0.9117 - val_loss: 0.7911 - val_accuracy: 0.7344\n",
      "Epoch 48/50\n",
      "27/27 [==============================] - 0s 6ms/step - loss: 0.2667 - accuracy: 0.9071 - val_loss: 0.7293 - val_accuracy: 0.7913\n",
      "Epoch 49/50\n",
      "27/27 [==============================] - 0s 6ms/step - loss: 0.1990 - accuracy: 0.9199 - val_loss: 0.7719 - val_accuracy: 0.7290\n",
      "Epoch 50/50\n",
      "27/27 [==============================] - 0s 6ms/step - loss: 0.2129 - accuracy: 0.9164 - val_loss: 0.7698 - val_accuracy: 0.7886\n"
     ]
    }
   ],
   "source": [
    "np.random.seed(42)\n",
    "tf.random.set_seed(42)\n",
    "\n",
    "optimizer = tf.keras.optimizers.Nadam(learning_rate=0.01)\n",
    "\n",
    "# If multiclass, use \"sparse_categorical_crossentropy\" as the loss function\n",
    "model.compile(loss=\"binary_crossentropy\", optimizer=optimizer, metrics=['accuracy'])\n",
    "\n",
    "\n",
    "history = model.fit(X_train, y_train, epochs=50,\n",
    "                    validation_data=(X_test, y_test))"
   ]
  },
  {
   "cell_type": "code",
   "execution_count": 17,
   "metadata": {},
   "outputs": [
    {
     "data": {
      "text/plain": [
       "[0.7698073387145996, 0.7886179089546204]"
      ]
     },
     "execution_count": 17,
     "metadata": {},
     "output_type": "execute_result"
    }
   ],
   "source": [
    "# evaluate the model\n",
    "\n",
    "scores = model.evaluate(X_test, y_test, verbose=0)\n",
    "\n",
    "scores\n",
    "\n",
    "# In results, first is loss, second is accuracy"
   ]
  },
  {
   "cell_type": "code",
   "execution_count": 18,
   "metadata": {},
   "outputs": [
    {
     "name": "stdout",
     "output_type": "stream",
     "text": [
      "loss: 0.77\n",
      "accuracy: 78.86%\n"
     ]
    }
   ],
   "source": [
    "# extract the accuracy from model.evaluate\n",
    "\n",
    "print(\"%s: %.2f\" % (model.metrics_names[0], scores[0]))\n",
    "print(\"%s: %.2f%%\" % (model.metrics_names[1], scores[1]*100))\n"
   ]
  },
  {
   "attachments": {},
   "cell_type": "markdown",
   "metadata": {},
   "source": [
    "# Simple RNN with one layer"
   ]
  },
  {
   "cell_type": "code",
   "execution_count": 19,
   "metadata": {},
   "outputs": [],
   "source": [
    "n_steps = 36\n",
    "n_inputs = 1\n",
    "\n",
    "model = keras.models.Sequential([\n",
    "    keras.layers.SimpleRNN(32, input_shape=[n_steps, n_inputs]),\n",
    "    keras.layers.Dense(1, activation='sigmoid')\n",
    "])"
   ]
  },
  {
   "cell_type": "code",
   "execution_count": 20,
   "metadata": {
    "scrolled": true
   },
   "outputs": [
    {
     "name": "stdout",
     "output_type": "stream",
     "text": [
      "Epoch 1/50\n",
      "27/27 [==============================] - 4s 37ms/step - loss: 0.4336 - accuracy: 0.8072 - val_loss: 0.3965 - val_accuracy: 0.8238\n",
      "Epoch 2/50\n",
      "27/27 [==============================] - 0s 15ms/step - loss: 0.4139 - accuracy: 0.8037 - val_loss: 0.4102 - val_accuracy: 0.7995\n",
      "Epoch 3/50\n",
      "27/27 [==============================] - 0s 15ms/step - loss: 0.4073 - accuracy: 0.8002 - val_loss: 0.4058 - val_accuracy: 0.8076\n",
      "Epoch 4/50\n",
      "27/27 [==============================] - 0s 15ms/step - loss: 0.4054 - accuracy: 0.8026 - val_loss: 0.3941 - val_accuracy: 0.8266\n",
      "Epoch 5/50\n",
      "27/27 [==============================] - 0s 15ms/step - loss: 0.3975 - accuracy: 0.8211 - val_loss: 0.3947 - val_accuracy: 0.8076\n",
      "Epoch 6/50\n",
      "27/27 [==============================] - 0s 15ms/step - loss: 0.3878 - accuracy: 0.8153 - val_loss: 0.4024 - val_accuracy: 0.8049\n",
      "Epoch 7/50\n",
      "27/27 [==============================] - 0s 16ms/step - loss: 0.3888 - accuracy: 0.8153 - val_loss: 0.3966 - val_accuracy: 0.8184\n",
      "Epoch 8/50\n",
      "27/27 [==============================] - 0s 16ms/step - loss: 0.3886 - accuracy: 0.8118 - val_loss: 0.4099 - val_accuracy: 0.7995\n",
      "Epoch 9/50\n",
      "27/27 [==============================] - 0s 14ms/step - loss: 0.3759 - accuracy: 0.8200 - val_loss: 0.4084 - val_accuracy: 0.8076\n",
      "Epoch 9: early stopping\n"
     ]
    }
   ],
   "source": [
    "from tensorflow.keras.callbacks import EarlyStopping\n",
    "\n",
    "optimizer = tf.keras.optimizers.Nadam(learning_rate=0.01)\n",
    "\n",
    "# If multiclass, use \"sparse_categorical_crossentropy\" as the loss function\n",
    "model.compile(loss=\"binary_crossentropy\", optimizer=optimizer, metrics=['accuracy'])\n",
    "\n",
    "early_stop = EarlyStopping(monitor='val_loss', patience=5, verbose=1, mode='auto')\n",
    "\n",
    "history = model.fit(\n",
    "    X_train, \n",
    "    y_train, \n",
    "    epochs=50,\n",
    "    validation_data=(X_test, y_test), \n",
    "    callbacks=[early_stop]\n",
    ")"
   ]
  },
  {
   "cell_type": "code",
   "execution_count": 21,
   "metadata": {},
   "outputs": [
    {
     "data": {
      "text/plain": [
       "[0.40837013721466064, 0.8075881004333496]"
      ]
     },
     "execution_count": 21,
     "metadata": {},
     "output_type": "execute_result"
    }
   ],
   "source": [
    "# evaluate the model\n",
    "scores = model.evaluate(X_test, y_test, verbose=0)\n",
    "\n",
    "scores\n",
    "\n",
    "# In results, first is loss, second is accuracy"
   ]
  },
  {
   "cell_type": "code",
   "execution_count": 22,
   "metadata": {},
   "outputs": [
    {
     "name": "stdout",
     "output_type": "stream",
     "text": [
      "loss: 0.41\n",
      "accuracy: 80.76\n"
     ]
    }
   ],
   "source": [
    "# extract the accuracy from model.evaluate\n",
    "print(f\"{model.metrics_names[0]:s}: {scores[0]:.2f}\")\n",
    "print(f\"{model.metrics_names[1]:s}: {scores[1]*100:.2f}\")"
   ]
  },
  {
   "cell_type": "code",
   "execution_count": 23,
   "metadata": {},
   "outputs": [
    {
     "name": "stdout",
     "output_type": "stream",
     "text": [
      "12/12 [==============================] - 0s 5ms/step\n"
     ]
    }
   ],
   "source": [
    "# Predictions are probabilities.\n",
    "\n",
    "predictions = model.predict(X_test)"
   ]
  },
  {
   "cell_type": "code",
   "execution_count": 24,
   "metadata": {},
   "outputs": [
    {
     "data": {
      "text/plain": [
       "array([[0.],\n",
       "       [1.],\n",
       "       [0.],\n",
       "       [0.],\n",
       "       [1.],\n",
       "       [1.],\n",
       "       [1.],\n",
       "       [1.],\n",
       "       [0.],\n",
       "       [1.]], dtype=float32)"
      ]
     },
     "execution_count": 24,
     "metadata": {},
     "output_type": "execute_result"
    }
   ],
   "source": [
    "# Rounding the probabilities determines 1 or 0\n",
    "\n",
    "np.round(predictions)[:10] # show first 10 predictions"
   ]
  },
  {
   "cell_type": "code",
   "execution_count": 25,
   "metadata": {},
   "outputs": [
    {
     "data": {
      "text/plain": [
       "array([[129,  38],\n",
       "       [ 33, 169]], dtype=int64)"
      ]
     },
     "execution_count": 25,
     "metadata": {},
     "output_type": "execute_result"
    }
   ],
   "source": [
    "from sklearn.metrics import confusion_matrix\n",
    "\n",
    "confusion_matrix(y_test, np.round(predictions))"
   ]
  },
  {
   "attachments": {},
   "cell_type": "markdown",
   "metadata": {},
   "source": [
    "# Deep RNN\n",
    "\n",
    "**Be careful: when stacking RNN layers, you have to set \"return_sequences\" to True. This enables the layer to send a \"sequence\" of values to the next layer -- jut like how it uses a sequence of values for training.**\n",
    "\n",
    "**Since the last layer is DENSE, it can't take sequence data. Therefore, you CANNOT return sequences from the previous layer. So, remove** `return_sequences` **from previous layer.**"
   ]
  },
  {
   "cell_type": "code",
   "execution_count": 26,
   "metadata": {},
   "outputs": [],
   "source": [
    "n_steps = 36\n",
    "n_inputs = 1\n",
    "\n",
    "model = keras.models.Sequential([\n",
    "    keras.layers.SimpleRNN(32, return_sequences=True, input_shape=[n_steps, n_inputs] ),\n",
    "    keras.layers.SimpleRNN(32, return_sequences=True),\n",
    "    keras.layers.SimpleRNN(32), \n",
    "    keras.layers.Dense(1, activation='sigmoid')\n",
    "])"
   ]
  },
  {
   "cell_type": "code",
   "execution_count": 28,
   "metadata": {
    "scrolled": true
   },
   "outputs": [
    {
     "name": "stdout",
     "output_type": "stream",
     "text": [
      "Epoch 1/20\n",
      "27/27 [==============================] - 9s 68ms/step - loss: 0.4145 - accuracy: 0.8084 - val_loss: 0.4017 - val_accuracy: 0.8238\n",
      "Epoch 2/20\n",
      "27/27 [==============================] - 1s 35ms/step - loss: 0.4032 - accuracy: 0.8049 - val_loss: 0.4144 - val_accuracy: 0.7995\n",
      "Epoch 3/20\n",
      "27/27 [==============================] - 1s 34ms/step - loss: 0.4110 - accuracy: 0.7967 - val_loss: 0.4057 - val_accuracy: 0.8049\n",
      "Epoch 4/20\n",
      "27/27 [==============================] - 1s 31ms/step - loss: 0.3873 - accuracy: 0.8118 - val_loss: 0.4001 - val_accuracy: 0.8293\n",
      "Epoch 5/20\n",
      "27/27 [==============================] - 1s 35ms/step - loss: 0.3804 - accuracy: 0.8153 - val_loss: 0.4054 - val_accuracy: 0.7995\n",
      "Epoch 6/20\n",
      "27/27 [==============================] - 1s 35ms/step - loss: 0.3775 - accuracy: 0.8153 - val_loss: 0.4216 - val_accuracy: 0.7967\n",
      "Epoch 7/20\n",
      "27/27 [==============================] - 1s 36ms/step - loss: 0.3695 - accuracy: 0.8200 - val_loss: 0.3998 - val_accuracy: 0.8266\n",
      "Epoch 8/20\n",
      "27/27 [==============================] - 1s 36ms/step - loss: 0.3715 - accuracy: 0.8118 - val_loss: 0.4355 - val_accuracy: 0.7805\n",
      "Epoch 9/20\n",
      "27/27 [==============================] - 1s 36ms/step - loss: 0.3462 - accuracy: 0.8386 - val_loss: 0.4511 - val_accuracy: 0.7778\n",
      "Epoch 10/20\n",
      "27/27 [==============================] - 1s 34ms/step - loss: 0.3472 - accuracy: 0.8362 - val_loss: 0.4228 - val_accuracy: 0.7967\n",
      "Epoch 11/20\n",
      "27/27 [==============================] - 1s 31ms/step - loss: 0.4073 - accuracy: 0.7956 - val_loss: 0.4243 - val_accuracy: 0.7751\n",
      "Epoch 12/20\n",
      "27/27 [==============================] - 1s 32ms/step - loss: 0.3887 - accuracy: 0.8118 - val_loss: 0.4916 - val_accuracy: 0.7344\n",
      "Epoch 12: early stopping\n"
     ]
    }
   ],
   "source": [
    "np.random.seed(42)\n",
    "tf.random.set_seed(42)\n",
    "\n",
    "optimizer = keras.optimizers.Nadam(learning_rate=0.01)\n",
    "\n",
    "model.compile(loss=\"binary_crossentropy\", optimizer=optimizer, metrics=['accuracy'])\n",
    "\n",
    "history = model.fit(\n",
    "    X_train, \n",
    "    y_train, \n",
    "    epochs=20,\n",
    "    validation_data = (X_test, y_test), \n",
    "    callbacks=[early_stop])  # we defined this early_stop callback function earlier"
   ]
  },
  {
   "cell_type": "code",
   "execution_count": 29,
   "metadata": {},
   "outputs": [
    {
     "data": {
      "text/plain": [
       "[0.49157360196113586, 0.7344173192977905]"
      ]
     },
     "execution_count": 29,
     "metadata": {},
     "output_type": "execute_result"
    }
   ],
   "source": [
    "# evaluate the model\n",
    "\n",
    "scores = model.evaluate(X_test, y_test, verbose=0)\n",
    "\n",
    "scores\n",
    "# In results, first is loss, second is accuracy"
   ]
  },
  {
   "cell_type": "code",
   "execution_count": 30,
   "metadata": {
    "scrolled": true
   },
   "outputs": [
    {
     "name": "stdout",
     "output_type": "stream",
     "text": [
      "loss: 0.49\n",
      "accuracy: 73.44\n"
     ]
    }
   ],
   "source": [
    "# extract the accuracy from model.evaluate\n",
    "print(f\"{model.metrics_names[0]:s}: {scores[0]:.2f}\")\n",
    "print(f\"{model.metrics_names[1]:s}: {scores[1]*100:.2f}\")"
   ]
  },
  {
   "attachments": {},
   "cell_type": "markdown",
   "metadata": {},
   "source": [
    "# LSTM with one layer"
   ]
  },
  {
   "cell_type": "code",
   "execution_count": 31,
   "metadata": {},
   "outputs": [],
   "source": [
    "n_steps = 36\n",
    "n_inputs = 1\n",
    "\n",
    "model = keras.models.Sequential([\n",
    "    keras.layers.LSTM(32, input_shape=[n_steps, n_inputs]),\n",
    "    keras.layers.Dense(1, activation='sigmoid')\n",
    "])"
   ]
  },
  {
   "cell_type": "code",
   "execution_count": 32,
   "metadata": {
    "scrolled": true
   },
   "outputs": [
    {
     "name": "stdout",
     "output_type": "stream",
     "text": [
      "Epoch 1/20\n",
      "27/27 [==============================] - 7s 71ms/step - loss: 0.4579 - accuracy: 0.7851 - val_loss: 0.3890 - val_accuracy: 0.8320\n",
      "Epoch 2/20\n",
      "27/27 [==============================] - 1s 27ms/step - loss: 0.4167 - accuracy: 0.8014 - val_loss: 0.4066 - val_accuracy: 0.8103\n",
      "Epoch 3/20\n",
      "27/27 [==============================] - 1s 27ms/step - loss: 0.4136 - accuracy: 0.8026 - val_loss: 0.3934 - val_accuracy: 0.8238\n",
      "Epoch 4/20\n",
      "27/27 [==============================] - 1s 27ms/step - loss: 0.4096 - accuracy: 0.8049 - val_loss: 0.3910 - val_accuracy: 0.8320\n",
      "Epoch 5/20\n",
      "27/27 [==============================] - 1s 27ms/step - loss: 0.4039 - accuracy: 0.8130 - val_loss: 0.3988 - val_accuracy: 0.8401\n",
      "Epoch 6/20\n",
      "27/27 [==============================] - 1s 27ms/step - loss: 0.3984 - accuracy: 0.8049 - val_loss: 0.4004 - val_accuracy: 0.8211\n",
      "Epoch 6: early stopping\n"
     ]
    }
   ],
   "source": [
    "np.random.seed(42)\n",
    "tf.random.set_seed(42)\n",
    "\n",
    "optimizer = keras.optimizers.Nadam(learning_rate=0.01)\n",
    "\n",
    "model.compile(loss=\"binary_crossentropy\", optimizer=optimizer, metrics=['accuracy'])\n",
    "\n",
    "history = model.fit(\n",
    "    X_train, \n",
    "    y_train, \n",
    "    epochs=20,\n",
    "    validation_data=(X_test, y_test),\n",
    "    callbacks=[early_stop]) # we defined this early_stop callback function earlier"
   ]
  },
  {
   "cell_type": "code",
   "execution_count": 33,
   "metadata": {},
   "outputs": [
    {
     "data": {
      "text/plain": [
       "[0.4003751873970032, 0.8211382031440735]"
      ]
     },
     "execution_count": 33,
     "metadata": {},
     "output_type": "execute_result"
    }
   ],
   "source": [
    "# evaluate the model\n",
    "\n",
    "scores = model.evaluate(X_test, y_test, verbose=0)\n",
    "scores\n",
    "\n",
    "# In results, first is loss, second is accuracy"
   ]
  },
  {
   "cell_type": "code",
   "execution_count": 34,
   "metadata": {
    "scrolled": true
   },
   "outputs": [
    {
     "name": "stdout",
     "output_type": "stream",
     "text": [
      "loss: 0.40\n",
      "accuracy: 82.11\n"
     ]
    }
   ],
   "source": [
    "# extract the accuracy from model.evaluate\n",
    "print(f\"{model.metrics_names[0]:s}: {scores[0]:.2f}\")\n",
    "print(f\"{model.metrics_names[1]:s}: {scores[1]*100:.2f}\")"
   ]
  },
  {
   "attachments": {},
   "cell_type": "markdown",
   "metadata": {},
   "source": [
    "# LSTM with more layers"
   ]
  },
  {
   "cell_type": "code",
   "execution_count": 35,
   "metadata": {},
   "outputs": [],
   "source": [
    "n_steps = 36\n",
    "n_inputs = 1\n",
    "\n",
    "model = keras.models.Sequential([\n",
    "    keras.layers.LSTM(32, return_sequences=True, input_shape=[n_steps, n_inputs]),\n",
    "    keras.layers.LSTM(32, return_sequences=True),\n",
    "    keras.layers.LSTM(32),\n",
    "    keras.layers.Dense(1, activation='sigmoid')\n",
    "])"
   ]
  },
  {
   "cell_type": "code",
   "execution_count": 36,
   "metadata": {
    "scrolled": true
   },
   "outputs": [
    {
     "name": "stdout",
     "output_type": "stream",
     "text": [
      "Epoch 1/20\n",
      "27/27 [==============================] - 17s 162ms/step - loss: 0.5060 - accuracy: 0.7619 - val_loss: 0.4156 - val_accuracy: 0.8238\n",
      "Epoch 2/20\n",
      "27/27 [==============================] - 2s 73ms/step - loss: 0.4383 - accuracy: 0.7921 - val_loss: 0.4210 - val_accuracy: 0.8022\n",
      "Epoch 3/20\n",
      "27/27 [==============================] - 2s 74ms/step - loss: 0.4233 - accuracy: 0.7944 - val_loss: 0.4132 - val_accuracy: 0.8022\n",
      "Epoch 4/20\n",
      "27/27 [==============================] - 2s 71ms/step - loss: 0.4137 - accuracy: 0.7991 - val_loss: 0.3955 - val_accuracy: 0.8238\n",
      "Epoch 5/20\n",
      "27/27 [==============================] - 2s 71ms/step - loss: 0.4152 - accuracy: 0.8026 - val_loss: 0.4226 - val_accuracy: 0.7967\n",
      "Epoch 6/20\n",
      "27/27 [==============================] - 2s 73ms/step - loss: 0.4095 - accuracy: 0.7991 - val_loss: 0.4097 - val_accuracy: 0.8211\n",
      "Epoch 7/20\n",
      "27/27 [==============================] - 2s 73ms/step - loss: 0.3989 - accuracy: 0.7816 - val_loss: 0.4296 - val_accuracy: 0.7967\n",
      "Epoch 8/20\n",
      "27/27 [==============================] - 2s 73ms/step - loss: 0.4047 - accuracy: 0.7944 - val_loss: 0.4361 - val_accuracy: 0.8049\n",
      "Epoch 9/20\n",
      "27/27 [==============================] - 2s 71ms/step - loss: 0.3951 - accuracy: 0.8002 - val_loss: 0.4477 - val_accuracy: 0.7940\n",
      "Epoch 9: early stopping\n"
     ]
    }
   ],
   "source": [
    "np.random.seed(42)\n",
    "tf.random.set_seed(42)\n",
    "\n",
    "optimizer = keras.optimizers.Nadam(learning_rate=0.01)\n",
    "\n",
    "model.compile(loss=\"binary_crossentropy\", optimizer=optimizer, metrics=['accuracy'])\n",
    "\n",
    "history = model.fit(\n",
    "    X_train, \n",
    "    y_train, \n",
    "    epochs=20,\n",
    "    validation_data=(X_test, y_test), \n",
    "    callbacks=[early_stop] # we defined this early_stop callback function earlier\n",
    ")"
   ]
  },
  {
   "cell_type": "code",
   "execution_count": 37,
   "metadata": {},
   "outputs": [
    {
     "data": {
      "text/plain": [
       "[0.4477121829986572, 0.794037938117981]"
      ]
     },
     "execution_count": 37,
     "metadata": {},
     "output_type": "execute_result"
    }
   ],
   "source": [
    "# evaluate the model\n",
    "\n",
    "scores = model.evaluate(X_test, y_test, verbose=0)\n",
    "scores\n",
    "\n",
    "# In results, first is loss, second is accuracy"
   ]
  },
  {
   "cell_type": "code",
   "execution_count": 38,
   "metadata": {
    "scrolled": true
   },
   "outputs": [
    {
     "name": "stdout",
     "output_type": "stream",
     "text": [
      "loss: 0.45\n",
      "accuracy: 79.40%\n"
     ]
    }
   ],
   "source": [
    "# extract the accuracy from model.evaluate\n",
    "\n",
    "print(\"%s: %.2f\" % (model.metrics_names[0], scores[0]))\n",
    "print(\"%s: %.2f%%\" % (model.metrics_names[1], scores[1]*100))\n"
   ]
  },
  {
   "attachments": {},
   "cell_type": "markdown",
   "metadata": {},
   "source": [
    "# GRU with one layer"
   ]
  },
  {
   "cell_type": "code",
   "execution_count": 39,
   "metadata": {},
   "outputs": [],
   "source": [
    "n_steps = 36\n",
    "n_inputs = 1\n",
    "\n",
    "model = keras.models.Sequential([\n",
    "    keras.layers.GRU(32, input_shape=[n_steps, n_inputs]),\n",
    "    keras.layers.Dense(1, activation='sigmoid')\n",
    "])"
   ]
  },
  {
   "cell_type": "code",
   "execution_count": 40,
   "metadata": {
    "scrolled": true
   },
   "outputs": [
    {
     "name": "stdout",
     "output_type": "stream",
     "text": [
      "Epoch 1/20\n",
      "27/27 [==============================] - 7s 64ms/step - loss: 0.4654 - accuracy: 0.7782 - val_loss: 0.3886 - val_accuracy: 0.8266\n",
      "Epoch 2/20\n",
      "27/27 [==============================] - 1s 29ms/step - loss: 0.4159 - accuracy: 0.7979 - val_loss: 0.4055 - val_accuracy: 0.8130\n",
      "Epoch 3/20\n",
      "27/27 [==============================] - 1s 29ms/step - loss: 0.4183 - accuracy: 0.8037 - val_loss: 0.3906 - val_accuracy: 0.8320\n",
      "Epoch 4/20\n",
      "27/27 [==============================] - 1s 28ms/step - loss: 0.4104 - accuracy: 0.7944 - val_loss: 0.3884 - val_accuracy: 0.8238\n",
      "Epoch 5/20\n",
      "27/27 [==============================] - 1s 28ms/step - loss: 0.4077 - accuracy: 0.8037 - val_loss: 0.3951 - val_accuracy: 0.8320\n",
      "Epoch 6/20\n",
      "27/27 [==============================] - 1s 26ms/step - loss: 0.4038 - accuracy: 0.7967 - val_loss: 0.4000 - val_accuracy: 0.8266\n",
      "Epoch 7/20\n",
      "27/27 [==============================] - 1s 28ms/step - loss: 0.4008 - accuracy: 0.7991 - val_loss: 0.3986 - val_accuracy: 0.8266\n",
      "Epoch 8/20\n",
      "27/27 [==============================] - 1s 28ms/step - loss: 0.4048 - accuracy: 0.8072 - val_loss: 0.4112 - val_accuracy: 0.8211\n",
      "Epoch 9/20\n",
      "27/27 [==============================] - 1s 28ms/step - loss: 0.3962 - accuracy: 0.8084 - val_loss: 0.4066 - val_accuracy: 0.8103\n",
      "Epoch 9: early stopping\n"
     ]
    }
   ],
   "source": [
    "np.random.seed(42)\n",
    "tf.random.set_seed(42)\n",
    "\n",
    "optimizer = keras.optimizers.Nadam(learning_rate=0.01)\n",
    "\n",
    "model.compile(loss=\"binary_crossentropy\", optimizer=optimizer, metrics=['accuracy'])\n",
    "\n",
    "history = model.fit(\n",
    "    X_train, \n",
    "    y_train, \n",
    "    epochs=20,\n",
    "    validation_data=(X_test, y_test),\n",
    "    callbacks=[early_stop] # we defined this early_stop callback function earlier\n",
    ")"
   ]
  },
  {
   "cell_type": "code",
   "execution_count": 41,
   "metadata": {},
   "outputs": [
    {
     "data": {
      "text/plain": [
       "[0.40662381052970886, 0.8102980852127075]"
      ]
     },
     "execution_count": 41,
     "metadata": {},
     "output_type": "execute_result"
    }
   ],
   "source": [
    "# evaluate the model\n",
    "\n",
    "scores = model.evaluate(X_test, y_test, verbose=0)\n",
    "scores\n",
    "\n",
    "# In results, first is loss, second is accuracy"
   ]
  },
  {
   "cell_type": "code",
   "execution_count": 42,
   "metadata": {
    "scrolled": false
   },
   "outputs": [
    {
     "name": "stdout",
     "output_type": "stream",
     "text": [
      "loss: 0.41\n",
      "accuracy: 81.03\n"
     ]
    }
   ],
   "source": [
    "# extract the accuracy from model.evaluate\n",
    "print(f\"{model.metrics_names[0]:s}: {scores[0]:.2f}\")\n",
    "print(f\"{model.metrics_names[1]:s}: {scores[1]*100:.2f}\")"
   ]
  },
  {
   "attachments": {},
   "cell_type": "markdown",
   "metadata": {},
   "source": [
    "# GRU with more layers"
   ]
  },
  {
   "cell_type": "code",
   "execution_count": 43,
   "metadata": {},
   "outputs": [],
   "source": [
    "n_steps = 36\n",
    "n_inputs = 1\n",
    "\n",
    "model = keras.models.Sequential([\n",
    "    keras.layers.GRU(32, return_sequences=True, input_shape=[n_steps, n_inputs]),\n",
    "    keras.layers.GRU(32, return_sequences=True),\n",
    "    keras.layers.GRU(32),\n",
    "    keras.layers.Dense(1, activation='sigmoid')\n",
    "])"
   ]
  },
  {
   "cell_type": "code",
   "execution_count": 44,
   "metadata": {
    "scrolled": true
   },
   "outputs": [
    {
     "name": "stdout",
     "output_type": "stream",
     "text": [
      "Epoch 1/20\n",
      "27/27 [==============================] - 17s 162ms/step - loss: 0.4543 - accuracy: 0.7933 - val_loss: 0.3890 - val_accuracy: 0.8211\n",
      "Epoch 2/20\n",
      "27/27 [==============================] - 2s 80ms/step - loss: 0.4204 - accuracy: 0.7898 - val_loss: 0.4030 - val_accuracy: 0.8157\n",
      "Epoch 3/20\n",
      "27/27 [==============================] - 2s 80ms/step - loss: 0.4199 - accuracy: 0.7991 - val_loss: 0.4047 - val_accuracy: 0.8184\n",
      "Epoch 4/20\n",
      "27/27 [==============================] - 2s 76ms/step - loss: 0.4120 - accuracy: 0.7921 - val_loss: 0.3907 - val_accuracy: 0.8157\n",
      "Epoch 5/20\n",
      "27/27 [==============================] - 2s 80ms/step - loss: 0.4164 - accuracy: 0.7956 - val_loss: 0.4076 - val_accuracy: 0.8130\n",
      "Epoch 6/20\n",
      "27/27 [==============================] - 2s 80ms/step - loss: 0.4119 - accuracy: 0.7944 - val_loss: 0.4112 - val_accuracy: 0.8266\n",
      "Epoch 6: early stopping\n"
     ]
    }
   ],
   "source": [
    "np.random.seed(42)\n",
    "tf.random.set_seed(42)\n",
    "\n",
    "optimizer = keras.optimizers.Nadam(learning_rate=0.01)\n",
    "\n",
    "model.compile(loss=\"binary_crossentropy\", optimizer=optimizer, metrics=['accuracy'])\n",
    "\n",
    "history = model.fit(\n",
    "    X_train, \n",
    "    y_train, \n",
    "    epochs=20,\n",
    "    validation_data=(X_test, y_test), \n",
    "    callbacks=[early_stop] # we defined this early_stop callback function earlier\n",
    ")"
   ]
  },
  {
   "cell_type": "code",
   "execution_count": 45,
   "metadata": {},
   "outputs": [
    {
     "data": {
      "text/plain": [
       "[0.4112195670604706, 0.8265582919120789]"
      ]
     },
     "execution_count": 45,
     "metadata": {},
     "output_type": "execute_result"
    }
   ],
   "source": [
    "# evaluate the model\n",
    "\n",
    "scores = model.evaluate(X_test, y_test, verbose=0)\n",
    "scores\n",
    "\n",
    "# In results, first is loss, second is accuracy"
   ]
  },
  {
   "cell_type": "code",
   "execution_count": 46,
   "metadata": {
    "scrolled": false
   },
   "outputs": [
    {
     "name": "stdout",
     "output_type": "stream",
     "text": [
      "loss: 0.41\n",
      "accuracy: 82.66%\n"
     ]
    }
   ],
   "source": [
    "# extract the accuracy from model.evaluate\n",
    "\n",
    "print(\"%s: %.2f\" % (model.metrics_names[0], scores[0]))\n",
    "print(\"%s: %.2f%%\" % (model.metrics_names[1], scores[1]*100))\n"
   ]
  },
  {
   "attachments": {},
   "cell_type": "markdown",
   "metadata": {},
   "source": [
    "# Conv1D"
   ]
  },
  {
   "cell_type": "code",
   "execution_count": 47,
   "metadata": {},
   "outputs": [
    {
     "name": "stdout",
     "output_type": "stream",
     "text": [
      "Model: \"sequential_7\"\n",
      "_________________________________________________________________\n",
      " Layer (type)                Output Shape              Param #   \n",
      "=================================================================\n",
      " conv1d (Conv1D)             (None, 17, 10)            40        \n",
      "                                                                 \n",
      " conv1d_1 (Conv1D)           (None, 13, 20)            620       \n",
      "                                                                 \n",
      " lstm_4 (LSTM)               (None, 13, 32)            6784      \n",
      "                                                                 \n",
      " lstm_5 (LSTM)               (None, 32)                8320      \n",
      "                                                                 \n",
      " dense_8 (Dense)             (None, 1)                 33        \n",
      "                                                                 \n",
      "=================================================================\n",
      "Total params: 15,797\n",
      "Trainable params: 15,797\n",
      "Non-trainable params: 0\n",
      "_________________________________________________________________\n"
     ]
    }
   ],
   "source": [
    "n_steps = 36\n",
    "n_inputs = 1\n",
    "\n",
    "model = keras.models.Sequential([\n",
    "    keras.layers.Conv1D(filters=10, kernel_size=3, strides=2, padding=\"valid\", input_shape=[n_steps, n_inputs]),\n",
    "    keras.layers.Conv1D(filters=20, kernel_size=3, strides=1, padding=\"valid\", dilation_rate=2),\n",
    "    keras.layers.LSTM(32, return_sequences=True),\n",
    "    keras.layers.LSTM(32),\n",
    "    keras.layers.Dense(1, activation='sigmoid')\n",
    "])\n",
    "\n",
    "model.summary()"
   ]
  },
  {
   "cell_type": "code",
   "execution_count": 48,
   "metadata": {
    "scrolled": true
   },
   "outputs": [
    {
     "name": "stdout",
     "output_type": "stream",
     "text": [
      "Epoch 1/20\n",
      "27/27 [==============================] - 13s 90ms/step - loss: 0.5281 - accuracy: 0.7282 - val_loss: 0.4299 - val_accuracy: 0.8238\n",
      "Epoch 2/20\n",
      "27/27 [==============================] - 1s 27ms/step - loss: 0.4503 - accuracy: 0.7782 - val_loss: 0.4259 - val_accuracy: 0.8157\n",
      "Epoch 3/20\n",
      "27/27 [==============================] - 1s 27ms/step - loss: 0.4321 - accuracy: 0.7875 - val_loss: 0.4115 - val_accuracy: 0.7995\n",
      "Epoch 4/20\n",
      "27/27 [==============================] - 1s 27ms/step - loss: 0.4208 - accuracy: 0.8026 - val_loss: 0.4073 - val_accuracy: 0.8184\n",
      "Epoch 5/20\n",
      "27/27 [==============================] - 1s 27ms/step - loss: 0.4172 - accuracy: 0.7944 - val_loss: 0.4369 - val_accuracy: 0.7859\n",
      "Epoch 6/20\n",
      "27/27 [==============================] - 1s 27ms/step - loss: 0.4114 - accuracy: 0.7933 - val_loss: 0.4437 - val_accuracy: 0.7886\n",
      "Epoch 7/20\n",
      "27/27 [==============================] - 1s 27ms/step - loss: 0.3956 - accuracy: 0.8177 - val_loss: 0.4369 - val_accuracy: 0.8049\n",
      "Epoch 8/20\n",
      "27/27 [==============================] - 1s 27ms/step - loss: 0.3926 - accuracy: 0.8188 - val_loss: 0.4656 - val_accuracy: 0.7913\n",
      "Epoch 9/20\n",
      "27/27 [==============================] - 1s 27ms/step - loss: 0.3673 - accuracy: 0.8374 - val_loss: 0.4573 - val_accuracy: 0.7669\n",
      "Epoch 9: early stopping\n"
     ]
    }
   ],
   "source": [
    "np.random.seed(42)\n",
    "tf.random.set_seed(42)\n",
    "\n",
    "optimizer = keras.optimizers.Nadam(learning_rate=0.01)\n",
    "\n",
    "model.compile(loss=\"binary_crossentropy\", optimizer=optimizer, metrics=['accuracy'])\n",
    "\n",
    "history = model.fit(\n",
    "    X_train, \n",
    "    y_train, \n",
    "    epochs=20,\n",
    "    validation_data=(X_test, y_test), \n",
    "    callbacks=[early_stop] # we defined this early_stop callback function earlier\n",
    ")"
   ]
  },
  {
   "cell_type": "code",
   "execution_count": 49,
   "metadata": {},
   "outputs": [
    {
     "data": {
      "text/plain": [
       "[0.4573154151439667, 0.7669376730918884]"
      ]
     },
     "execution_count": 49,
     "metadata": {},
     "output_type": "execute_result"
    }
   ],
   "source": [
    "# evaluate the model\n",
    "\n",
    "scores = model.evaluate(X_test, y_test, verbose=0)\n",
    "scores\n",
    "\n",
    "# In results, first is loss, second is accuracy"
   ]
  },
  {
   "cell_type": "code",
   "execution_count": 50,
   "metadata": {
    "scrolled": false
   },
   "outputs": [
    {
     "name": "stdout",
     "output_type": "stream",
     "text": [
      "loss: 0.46\n",
      "accuracy: 76.69\n"
     ]
    }
   ],
   "source": [
    "# extract the accuracy from model.evaluate\n",
    "print(f\"{model.metrics_names[0]:s}: {scores[0]:.2f}\")\n",
    "print(f\"{model.metrics_names[1]:s}: {scores[1]*100:.2f}\")"
   ]
  },
  {
   "cell_type": "code",
   "execution_count": null,
   "metadata": {},
   "outputs": [],
   "source": []
  },
  {
   "cell_type": "code",
   "execution_count": null,
   "metadata": {},
   "outputs": [],
   "source": []
  }
 ],
 "metadata": {
  "kernelspec": {
   "display_name": "Python 3 (ipykernel)",
   "language": "python",
   "name": "python3"
  },
  "language_info": {
   "codemirror_mode": {
    "name": "ipython",
    "version": 3
   },
   "file_extension": ".py",
   "mimetype": "text/x-python",
   "name": "python",
   "nbconvert_exporter": "python",
   "pygments_lexer": "ipython3",
   "version": "3.10.10"
  },
  "nav_menu": {},
  "toc": {
   "base_numbering": 1,
   "nav_menu": {},
   "number_sections": false,
   "sideBar": true,
   "skip_h1_title": false,
   "title_cell": "Table of Contents",
   "title_sidebar": "Contents",
   "toc_cell": false,
   "toc_position": {
    "height": "calc(100% - 180px)",
    "left": "10px",
    "top": "150px",
    "width": "288px"
   },
   "toc_section_display": "block",
   "toc_window_display": true
  },
  "varInspector": {
   "cols": {
    "lenName": 16,
    "lenType": 16,
    "lenVar": 40
   },
   "kernels_config": {
    "python": {
     "delete_cmd_postfix": "",
     "delete_cmd_prefix": "del ",
     "library": "var_list.py",
     "varRefreshCmd": "print(var_dic_list())"
    },
    "r": {
     "delete_cmd_postfix": ") ",
     "delete_cmd_prefix": "rm(",
     "library": "var_list.r",
     "varRefreshCmd": "cat(var_dic_list()) "
    }
   },
   "types_to_exclude": [
    "module",
    "function",
    "builtin_function_or_method",
    "instance",
    "_Feature"
   ],
   "window_display": false
  }
 },
 "nbformat": 4,
 "nbformat_minor": 1
}
