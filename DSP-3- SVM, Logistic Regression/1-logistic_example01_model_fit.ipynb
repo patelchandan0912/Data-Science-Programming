{
 "cells": [
  {
   "cell_type": "markdown",
   "metadata": {},
   "source": [
    "# Logistic Regression Demonstration\n",
    "\n",
    "In this tutorial we will demonstrate how to use the `LogisticRegression` class in `scikit-learn` to perform logistic regression on a dataset. We will also demonstrate `predict_proba`. "
   ]
  },
  {
   "cell_type": "markdown",
   "metadata": {},
   "source": [
    "Import modules"
   ]
  },
  {
   "cell_type": "code",
   "execution_count": 2,
   "metadata": {},
   "outputs": [],
   "source": [
    "import pandas as pd\n",
    "from sklearn.linear_model import LogisticRegression\n",
    "from matplotlib import pyplot as plt\n",
    "import numpy as np\n",
    "\n",
    "np.random.seed(1)"
   ]
  },
  {
   "cell_type": "markdown",
   "metadata": {},
   "source": [
    "Load data (it's already cleaned and preprocessed)"
   ]
  },
  {
   "cell_type": "code",
   "execution_count": 3,
   "metadata": {},
   "outputs": [],
   "source": [
    "# Uncomment the following snippet of code to debug problems with finding the .csv file path\n",
    "# This snippet of code will exit the program and print the current working directory.\n",
    "#import os\n",
    "#print(os.getcwd())"
   ]
  },
  {
   "cell_type": "code",
   "execution_count": 4,
   "metadata": {},
   "outputs": [
    {
     "data": {
      "text/html": [
       "<div>\n",
       "<style scoped>\n",
       "    .dataframe tbody tr th:only-of-type {\n",
       "        vertical-align: middle;\n",
       "    }\n",
       "\n",
       "    .dataframe tbody tr th {\n",
       "        vertical-align: top;\n",
       "    }\n",
       "\n",
       "    .dataframe thead th {\n",
       "        text-align: right;\n",
       "    }\n",
       "</style>\n",
       "<table border=\"1\" class=\"dataframe\">\n",
       "  <thead>\n",
       "    <tr style=\"text-align: right;\">\n",
       "      <th></th>\n",
       "      <th>kgs_smoked</th>\n",
       "      <th>cancer</th>\n",
       "    </tr>\n",
       "  </thead>\n",
       "  <tbody>\n",
       "    <tr>\n",
       "      <th>0</th>\n",
       "      <td>-0.659560</td>\n",
       "      <td>0</td>\n",
       "    </tr>\n",
       "    <tr>\n",
       "      <th>1</th>\n",
       "      <td>5.781490</td>\n",
       "      <td>0</td>\n",
       "    </tr>\n",
       "    <tr>\n",
       "      <th>2</th>\n",
       "      <td>-8.247713</td>\n",
       "      <td>0</td>\n",
       "    </tr>\n",
       "  </tbody>\n",
       "</table>\n",
       "</div>"
      ],
      "text/plain": [
       "   kgs_smoked  cancer\n",
       "0   -0.659560       0\n",
       "1    5.781490       0\n",
       "2   -8.247713       0"
      ]
     },
     "execution_count": 4,
     "metadata": {},
     "output_type": "execute_result"
    }
   ],
   "source": [
    "df = pd.read_csv('logistic_example01.csv')\n",
    "df.head(3)"
   ]
  },
  {
   "cell_type": "code",
   "execution_count": 5,
   "metadata": {},
   "outputs": [],
   "source": [
    "X = df[['kgs_smoked']]\n",
    "y = df[['cancer']]"
   ]
  },
  {
   "cell_type": "markdown",
   "metadata": {},
   "source": [
    "Fit a logistic regression model"
   ]
  },
  {
   "cell_type": "code",
   "execution_count": 6,
   "metadata": {},
   "outputs": [],
   "source": [
    "log_reg = LogisticRegression().fit(X, np.ravel(y))\n"
   ]
  },
  {
   "cell_type": "markdown",
   "metadata": {},
   "source": [
    "Add a column to the dataframe with the predicted values"
   ]
  },
  {
   "cell_type": "code",
   "execution_count": 7,
   "metadata": {},
   "outputs": [
    {
     "data": {
      "text/html": [
       "<div>\n",
       "<style scoped>\n",
       "    .dataframe tbody tr th:only-of-type {\n",
       "        vertical-align: middle;\n",
       "    }\n",
       "\n",
       "    .dataframe tbody tr th {\n",
       "        vertical-align: top;\n",
       "    }\n",
       "\n",
       "    .dataframe thead th {\n",
       "        text-align: right;\n",
       "    }\n",
       "</style>\n",
       "<table border=\"1\" class=\"dataframe\">\n",
       "  <thead>\n",
       "    <tr style=\"text-align: right;\">\n",
       "      <th></th>\n",
       "      <th>kgs_smoked</th>\n",
       "      <th>cancer</th>\n",
       "      <th>predicted</th>\n",
       "    </tr>\n",
       "  </thead>\n",
       "  <tbody>\n",
       "    <tr>\n",
       "      <th>0</th>\n",
       "      <td>-0.659560</td>\n",
       "      <td>0</td>\n",
       "      <td>0</td>\n",
       "    </tr>\n",
       "    <tr>\n",
       "      <th>1</th>\n",
       "      <td>5.781490</td>\n",
       "      <td>0</td>\n",
       "      <td>1</td>\n",
       "    </tr>\n",
       "    <tr>\n",
       "      <th>2</th>\n",
       "      <td>-8.247713</td>\n",
       "      <td>0</td>\n",
       "      <td>0</td>\n",
       "    </tr>\n",
       "  </tbody>\n",
       "</table>\n",
       "</div>"
      ],
      "text/plain": [
       "   kgs_smoked  cancer  predicted\n",
       "0   -0.659560       0          0\n",
       "1    5.781490       0          1\n",
       "2   -8.247713       0          0"
      ]
     },
     "execution_count": 7,
     "metadata": {},
     "output_type": "execute_result"
    }
   ],
   "source": [
    "df['predicted'] = log_reg.predict(X)\n",
    "df.head(3)"
   ]
  },
  {
   "cell_type": "markdown",
   "metadata": {},
   "source": [
    "Add a column of the probabilities of being a 1"
   ]
  },
  {
   "cell_type": "code",
   "execution_count": 8,
   "metadata": {},
   "outputs": [
    {
     "data": {
      "text/html": [
       "<div>\n",
       "<style scoped>\n",
       "    .dataframe tbody tr th:only-of-type {\n",
       "        vertical-align: middle;\n",
       "    }\n",
       "\n",
       "    .dataframe tbody tr th {\n",
       "        vertical-align: top;\n",
       "    }\n",
       "\n",
       "    .dataframe thead th {\n",
       "        text-align: right;\n",
       "    }\n",
       "</style>\n",
       "<table border=\"1\" class=\"dataframe\">\n",
       "  <thead>\n",
       "    <tr style=\"text-align: right;\">\n",
       "      <th></th>\n",
       "      <th>kgs_smoked</th>\n",
       "      <th>cancer</th>\n",
       "      <th>predicted</th>\n",
       "      <th>pred_prob</th>\n",
       "    </tr>\n",
       "  </thead>\n",
       "  <tbody>\n",
       "    <tr>\n",
       "      <th>0</th>\n",
       "      <td>-0.659560</td>\n",
       "      <td>0</td>\n",
       "      <td>0</td>\n",
       "      <td>0.304901</td>\n",
       "    </tr>\n",
       "    <tr>\n",
       "      <th>1</th>\n",
       "      <td>5.781490</td>\n",
       "      <td>0</td>\n",
       "      <td>1</td>\n",
       "      <td>0.715810</td>\n",
       "    </tr>\n",
       "    <tr>\n",
       "      <th>2</th>\n",
       "      <td>-8.247713</td>\n",
       "      <td>0</td>\n",
       "      <td>0</td>\n",
       "      <td>0.052991</td>\n",
       "    </tr>\n",
       "    <tr>\n",
       "      <th>3</th>\n",
       "      <td>-1.828349</td>\n",
       "      <td>0</td>\n",
       "      <td>0</td>\n",
       "      <td>0.242095</td>\n",
       "    </tr>\n",
       "    <tr>\n",
       "      <th>4</th>\n",
       "      <td>-4.564882</td>\n",
       "      <td>0</td>\n",
       "      <td>0</td>\n",
       "      <td>0.131952</td>\n",
       "    </tr>\n",
       "    <tr>\n",
       "      <th>5</th>\n",
       "      <td>-5.278228</td>\n",
       "      <td>0</td>\n",
       "      <td>0</td>\n",
       "      <td>0.111314</td>\n",
       "    </tr>\n",
       "    <tr>\n",
       "      <th>6</th>\n",
       "      <td>-3.024796</td>\n",
       "      <td>0</td>\n",
       "      <td>0</td>\n",
       "      <td>0.187567</td>\n",
       "    </tr>\n",
       "    <tr>\n",
       "      <th>7</th>\n",
       "      <td>0.536215</td>\n",
       "      <td>0</td>\n",
       "      <td>0</td>\n",
       "      <td>0.377639</td>\n",
       "    </tr>\n",
       "    <tr>\n",
       "      <th>8</th>\n",
       "      <td>1.935349</td>\n",
       "      <td>0</td>\n",
       "      <td>0</td>\n",
       "      <td>0.470057</td>\n",
       "    </tr>\n",
       "    <tr>\n",
       "      <th>9</th>\n",
       "      <td>5.151335</td>\n",
       "      <td>0</td>\n",
       "      <td>1</td>\n",
       "      <td>0.679783</td>\n",
       "    </tr>\n",
       "  </tbody>\n",
       "</table>\n",
       "</div>"
      ],
      "text/plain": [
       "   kgs_smoked  cancer  predicted  pred_prob\n",
       "0   -0.659560       0          0   0.304901\n",
       "1    5.781490       0          1   0.715810\n",
       "2   -8.247713       0          0   0.052991\n",
       "3   -1.828349       0          0   0.242095\n",
       "4   -4.564882       0          0   0.131952\n",
       "5   -5.278228       0          0   0.111314\n",
       "6   -3.024796       0          0   0.187567\n",
       "7    0.536215       0          0   0.377639\n",
       "8    1.935349       0          0   0.470057\n",
       "9    5.151335       0          1   0.679783"
      ]
     },
     "execution_count": 8,
     "metadata": {},
     "output_type": "execute_result"
    }
   ],
   "source": [
    "df['pred_prob'] = log_reg.predict_proba(X)[:,1]\n",
    "df.head(10)"
   ]
  },
  {
   "cell_type": "markdown",
   "metadata": {},
   "source": [
    "Display the probabilities and the predicted values"
   ]
  },
  {
   "cell_type": "code",
   "execution_count": 9,
   "metadata": {},
   "outputs": [
    {
     "data": {
      "image/png": "[encoded data removed]",
      "text/plain": [
       "<Figure size 640x480 with 1 Axes>"
      ]
     },
     "metadata": {},
     "output_type": "display_data"
    }
   ],
   "source": [
    "fig = plt.figure()\n",
    "ax = fig.add_subplot()\n",
    "#ax.scatter(X, y, c=y.iloc[:,0])\n",
    "colors = np.array([\"blue\", \"red\"])\n",
    "ax.scatter(X, y, c=colors[np.ravel(y)])\n",
    "ax.scatter(X, df['pred_prob'], c=colors[np.ravel(y)], alpha=0.4)\n",
    "plt.axhline(.5, color=\"black\", label=\"cutoff\", linestyle='--', alpha=.5)\n",
    "ax.set_xlabel('kgs tabacco smoked')\n",
    "ax.set_ylabel('positive for cancer')\n",
    "ax.set_title('Logistic Regression')\n",
    "plt.show()"
   ]
  },
  {
   "cell_type": "markdown",
   "metadata": {},
   "source": [
    "Identify the coefficients and intercept."
   ]
  },
  {
   "cell_type": "code",
   "execution_count": 10,
   "metadata": {},
   "outputs": [
    {
     "name": "stdout",
     "output_type": "stream",
     "text": [
      "Y = -0.65 + 0.27x1\n",
      "R^2: 0.720\n"
     ]
    }
   ],
   "source": [
    "log_reg.coef_\n",
    "b0 = log_reg.intercept_[0]\n",
    "b1 = log_reg.coef_[0][0]\n",
    "r2 = log_reg.score(X, y)\n",
    "\n",
    "print(f\"Y = {b0:.2f} + {b1:.2f}x1\")\n",
    "print(f\"R^2: {r2:.3f}\")"
   ]
  },
  {
   "cell_type": "markdown",
   "metadata": {},
   "source": [
    "## Save the model to disk\n",
    "\n",
    "Once you train a model, you want to reused it in other notebooks or applications. You can save the model to disk using the `pickle` module."
   ]
  },
  {
   "cell_type": "code",
   "execution_count": 11,
   "metadata": {},
   "outputs": [],
   "source": [
    "import pickle\n",
    "\n",
    "# save model\n",
    "pickle.dump(log_reg, open('logistic_model_example01.pkl', \"wb\"))  ## log_reg is my model name and pickle file name will be 'logistic_model....\n",
    "\n",
    "# If you wish to load this model later, simply use pickle.load method\n",
    "#loaded_model = pickle.load(open('logistic_model_example01.pkl', \"rb\"))"
   ]
  },
  {
   "cell_type": "markdown",
   "metadata": {},
   "source": [
    "## But how do we interpret the coefficients of a logistic regression model?\n",
    "\n",
    "> NOTE: This section is advanced. I will not test you on this, I only offer this to those who are interested in learning more about the math behind logistic regression.\n",
    "\n",
    "The b1 coefficient is the change in the log odds of being a 1 for a 1 unit increase in the predictor variable. \n",
    "\n",
    "The log odds function is the natural log of the odds. It's also known as the logit function."
   ]
  },
  {
   "cell_type": "markdown",
   "metadata": {},
   "source": [
    "> $\\log \\left(\\frac{p}{1-p}\\right)=\\operatorname{logit}(p)$"
   ]
  },
  {
   "cell_type": "markdown",
   "metadata": {},
   "source": [
    "Based on the results from our logistic regression above, we can see that the coefficient for `kgs smoked` is 0.27. This means that for a 1 unit increase in kgs smoked, the log odds of being a 1 increases by 0.0.27.\n",
    ">NOTE: The $\\beta_0$ and $\\beta_1$ used here are from a specific dataset. If you experiment with other datasets, you will get different values for the coefficients and intercept than you see here. Whatever the new values, the following explanation will still apply.\n"
   ]
  },
  {
   "cell_type": "markdown",
   "metadata": {},
   "source": [
    "$\\operatorname{logit}(p)=\\log \\left(\\frac{p}{1-p}\\right)=1.31+0.27x$"
   ]
  },
  {
   "cell_type": "markdown",
   "metadata": {},
   "source": [
    "But how to we find the probability of being a 1? We can use the inverse logit function (aka, logistic function)."
   ]
  },
  {
   "cell_type": "code",
   "execution_count": 12,
   "metadata": {},
   "outputs": [],
   "source": [
    "## Derive the predicted probability from the logistic model"
   ]
  },
  {
   "cell_type": "markdown",
   "metadata": {},
   "source": [
    "\n",
    "The logit function is defined as\n",
    "\n",
    "$\\operatorname{logit}(p)=\\log \\left(\\frac{p}{1-p}\\right)$\n",
    "\n",
    "The logistic function, is defined as \n",
    "\n",
    "$\\operatorname{logistic}(p)=\\frac{1}{e^{\\beta_0+\\beta_1x}}$\n"
   ]
  },
  {
   "cell_type": "markdown",
   "metadata": {},
   "source": [
    "When we use logistic regression (just as in regular regression), we are trying to find the best values for $\\beta_0$ and $\\beta_1$ that minimize the error between the predicted values and the actual values. But the interpretation of the coefficients is different."
   ]
  },
  {
   "cell_type": "markdown",
   "metadata": {},
   "source": [
    "$\\operatorname{logit}(p)=\\log \\left(\\frac{p}{1-p}\\right)=\\beta_0+\\beta_1x$"
   ]
  },
  {
   "cell_type": "markdown",
   "metadata": {},
   "source": [
    "### Let's take this relationship and derive the function for the probability of being a 1."
   ]
  },
  {
   "cell_type": "markdown",
   "metadata": {},
   "source": [
    "Exponentiate and take the multiplicative inverse of both sides, and we get the odds ratio."
   ]
  },
  {
   "cell_type": "markdown",
   "metadata": {},
   "source": [
    "$\\frac{1-p}{p}=\\frac{1}{e^{\\beta_0+\\beta_1x}}$"
   ]
  },
  {
   "cell_type": "markdown",
   "metadata": {},
   "source": [
    "Partial out the fraction on the left-hand side of the equation and add one to both sides,"
   ]
  },
  {
   "cell_type": "markdown",
   "metadata": {},
   "source": [
    "$\\frac{1}{p}=1+\\frac{1}{e^{\\beta_0+\\beta_1x}}$"
   ]
  },
  {
   "cell_type": "markdown",
   "metadata": {},
   "source": [
    "Change 1 to a common denominator"
   ]
  },
  {
   "cell_type": "markdown",
   "metadata": {},
   "source": [
    "$\\frac{1}{p}=\\frac{e^{\\beta_0+\\beta_1 x}+1}{e^{\\beta_0+\\beta_1 x}}$\n"
   ]
  },
  {
   "cell_type": "markdown",
   "metadata": {},
   "source": [
    "Finally, take the multiplicative inverse again to obtain the formula for the probability P(cancer=1)"
   ]
  },
  {
   "cell_type": "markdown",
   "metadata": {},
   "source": [
    "$p=\\frac{e^{\\beta_0+\\beta_1 x}}{1+e^{\\beta_0+\\beta_1 x}}$\n"
   ]
  },
  {
   "cell_type": "markdown",
   "metadata": {},
   "source": [
    "Now, let's apply our derived formular to the coefficients we obtained from the model. This will result in the probability of being a 1 for a given value of the predictor variable."
   ]
  },
  {
   "cell_type": "code",
   "execution_count": 13,
   "metadata": {},
   "outputs": [
    {
     "data": {
      "text/html": [
       "<div>\n",
       "<style scoped>\n",
       "    .dataframe tbody tr th:only-of-type {\n",
       "        vertical-align: middle;\n",
       "    }\n",
       "\n",
       "    .dataframe tbody tr th {\n",
       "        vertical-align: top;\n",
       "    }\n",
       "\n",
       "    .dataframe thead th {\n",
       "        text-align: right;\n",
       "    }\n",
       "</style>\n",
       "<table border=\"1\" class=\"dataframe\">\n",
       "  <thead>\n",
       "    <tr style=\"text-align: right;\">\n",
       "      <th></th>\n",
       "      <th>kgs_smoked</th>\n",
       "    </tr>\n",
       "  </thead>\n",
       "  <tbody>\n",
       "    <tr>\n",
       "      <th>0</th>\n",
       "      <td>0.304901</td>\n",
       "    </tr>\n",
       "    <tr>\n",
       "      <th>1</th>\n",
       "      <td>0.715810</td>\n",
       "    </tr>\n",
       "    <tr>\n",
       "      <th>2</th>\n",
       "      <td>0.052991</td>\n",
       "    </tr>\n",
       "    <tr>\n",
       "      <th>3</th>\n",
       "      <td>0.242095</td>\n",
       "    </tr>\n",
       "    <tr>\n",
       "      <th>4</th>\n",
       "      <td>0.131952</td>\n",
       "    </tr>\n",
       "    <tr>\n",
       "      <th>5</th>\n",
       "      <td>0.111314</td>\n",
       "    </tr>\n",
       "    <tr>\n",
       "      <th>6</th>\n",
       "      <td>0.187567</td>\n",
       "    </tr>\n",
       "    <tr>\n",
       "      <th>7</th>\n",
       "      <td>0.377639</td>\n",
       "    </tr>\n",
       "    <tr>\n",
       "      <th>8</th>\n",
       "      <td>0.470057</td>\n",
       "    </tr>\n",
       "    <tr>\n",
       "      <th>9</th>\n",
       "      <td>0.679783</td>\n",
       "    </tr>\n",
       "    <tr>\n",
       "      <th>10</th>\n",
       "      <td>0.551151</td>\n",
       "    </tr>\n",
       "    <tr>\n",
       "      <th>11</th>\n",
       "      <td>0.852060</td>\n",
       "    </tr>\n",
       "    <tr>\n",
       "      <th>12</th>\n",
       "      <td>0.319384</td>\n",
       "    </tr>\n",
       "    <tr>\n",
       "      <th>13</th>\n",
       "      <td>0.952631</td>\n",
       "    </tr>\n",
       "    <tr>\n",
       "      <th>14</th>\n",
       "      <td>0.180340</td>\n",
       "    </tr>\n",
       "    <tr>\n",
       "      <th>15</th>\n",
       "      <td>0.888729</td>\n",
       "    </tr>\n",
       "    <tr>\n",
       "      <th>16</th>\n",
       "      <td>0.691176</td>\n",
       "    </tr>\n",
       "    <tr>\n",
       "      <th>17</th>\n",
       "      <td>0.842202</td>\n",
       "    </tr>\n",
       "    <tr>\n",
       "      <th>18</th>\n",
       "      <td>0.379013</td>\n",
       "    </tr>\n",
       "    <tr>\n",
       "      <th>19</th>\n",
       "      <td>0.480322</td>\n",
       "    </tr>\n",
       "    <tr>\n",
       "      <th>20</th>\n",
       "      <td>0.964211</td>\n",
       "    </tr>\n",
       "    <tr>\n",
       "      <th>21</th>\n",
       "      <td>0.986673</td>\n",
       "    </tr>\n",
       "    <tr>\n",
       "      <th>22</th>\n",
       "      <td>0.701071</td>\n",
       "    </tr>\n",
       "    <tr>\n",
       "      <th>23</th>\n",
       "      <td>0.953047</td>\n",
       "    </tr>\n",
       "    <tr>\n",
       "      <th>24</th>\n",
       "      <td>0.983877</td>\n",
       "    </tr>\n",
       "  </tbody>\n",
       "</table>\n",
       "</div>"
      ],
      "text/plain": [
       "    kgs_smoked\n",
       "0     0.304901\n",
       "1     0.715810\n",
       "2     0.052991\n",
       "3     0.242095\n",
       "4     0.131952\n",
       "5     0.111314\n",
       "6     0.187567\n",
       "7     0.377639\n",
       "8     0.470057\n",
       "9     0.679783\n",
       "10    0.551151\n",
       "11    0.852060\n",
       "12    0.319384\n",
       "13    0.952631\n",
       "14    0.180340\n",
       "15    0.888729\n",
       "16    0.691176\n",
       "17    0.842202\n",
       "18    0.379013\n",
       "19    0.480322\n",
       "20    0.964211\n",
       "21    0.986673\n",
       "22    0.701071\n",
       "23    0.953047\n",
       "24    0.983877"
      ]
     },
     "execution_count": 13,
     "metadata": {},
     "output_type": "execute_result"
    }
   ],
   "source": [
    "p_y_eq_1 = np.exp(b0 + b1 * X) / (1+ np.exp(b0 + b1 * X))\n",
    "p_y_eq_1"
   ]
  },
  {
   "cell_type": "markdown",
   "metadata": {},
   "source": [
    "Notice that these values are the same as the ones produced by the `predict_proba` method."
   ]
  },
  {
   "cell_type": "code",
   "execution_count": 14,
   "metadata": {
    "tags": []
   },
   "outputs": [
    {
     "data": {
      "text/plain": [
       "0     0.304901\n",
       "1     0.715810\n",
       "2     0.052991\n",
       "3     0.242095\n",
       "4     0.131952\n",
       "5     0.111314\n",
       "6     0.187567\n",
       "7     0.377639\n",
       "8     0.470057\n",
       "9     0.679783\n",
       "10    0.551151\n",
       "11    0.852060\n",
       "12    0.319384\n",
       "13    0.952631\n",
       "14    0.180340\n",
       "15    0.888729\n",
       "16    0.691176\n",
       "17    0.842202\n",
       "18    0.379013\n",
       "19    0.480322\n",
       "20    0.964211\n",
       "21    0.986673\n",
       "22    0.701071\n",
       "23    0.953047\n",
       "24    0.983877\n",
       "Name: pred_prob, dtype: float64"
      ]
     },
     "execution_count": 14,
     "metadata": {},
     "output_type": "execute_result"
    }
   ],
   "source": [
    "df.pred_prob"
   ]
  },
  {
   "cell_type": "code",
   "execution_count": null,
   "metadata": {},
   "outputs": [],
   "source": []
  }
 ],
 "metadata": {
  "kernelspec": {
   "display_name": "Python 3 (ipykernel)",
   "language": "python",
   "name": "python3"
  },
  "language_info": {
   "codemirror_mode": {
    "name": "ipython",
    "version": 3
   },
   "file_extension": ".py",
   "mimetype": "text/x-python",
   "name": "python",
   "nbconvert_exporter": "python",
   "pygments_lexer": "ipython3",
   "version": "3.10.10"
  },
  "vscode": {
   "interpreter": {
    "hash": "b056086e24cb5602cbcb82122035cd3d6ee2ccbf5df29c16e348c108b0f83be3"
   }
  }
 },
 "nbformat": 4,
 "nbformat_minor": 4
}
