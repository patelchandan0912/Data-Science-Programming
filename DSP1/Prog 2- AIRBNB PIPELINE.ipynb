{
 "cells": [
  {
   "attachments": {},
   "cell_type": "markdown",
   "metadata": {},
   "source": [
    "#AIRBNB - PIPELINE\n",
    "\n",
    "**Our unit of analysis is an AIRBNB LISTING**\n",
    "\n",
    "We will see how we can transform the input variables. We won't do any predictions in this notebook!"
   ]
  },
  {
   "cell_type": "markdown",
   "metadata": {},
   "source": [
    "# Setup"
   ]
  },
  {
   "cell_type": "code",
   "execution_count": 1,
   "metadata": {},
   "outputs": [],
   "source": [
    "# Common imports\n",
    "import numpy as np\n",
    "import pandas as pd\n",
    "\n",
    "np.random.seed(42)\n"
   ]
  },
  {
   "cell_type": "markdown",
   "metadata": {},
   "source": [
    "# Get the data"
   ]
  },
  {
   "cell_type": "code",
   "execution_count": 2,
   "metadata": {},
   "outputs": [
    {
     "data": {
      "text/html": [
       "<div>\n",
       "<style scoped>\n",
       "    .dataframe tbody tr th:only-of-type {\n",
       "        vertical-align: middle;\n",
       "    }\n",
       "\n",
       "    .dataframe tbody tr th {\n",
       "        vertical-align: top;\n",
       "    }\n",
       "\n",
       "    .dataframe thead th {\n",
       "        text-align: right;\n",
       "    }\n",
       "</style>\n",
       "<table border=\"1\" class=\"dataframe\">\n",
       "  <thead>\n",
       "    <tr style=\"text-align: right;\">\n",
       "      <th></th>\n",
       "      <th>host_is_superhost</th>\n",
       "      <th>host_identity_verified</th>\n",
       "      <th>neighbourhood_cleansed</th>\n",
       "      <th>latitude</th>\n",
       "      <th>longitude</th>\n",
       "      <th>property_type</th>\n",
       "      <th>room_type</th>\n",
       "      <th>accommodates</th>\n",
       "      <th>bathrooms</th>\n",
       "      <th>bedrooms</th>\n",
       "      <th>...</th>\n",
       "      <th>guests_included</th>\n",
       "      <th>price_per_extra_person</th>\n",
       "      <th>minimum_nights</th>\n",
       "      <th>number_of_reviews</th>\n",
       "      <th>number_days_btw_first_last_review</th>\n",
       "      <th>review_scores_rating</th>\n",
       "      <th>cancellation_policy</th>\n",
       "      <th>price</th>\n",
       "      <th>price_gte_150</th>\n",
       "      <th>price_category</th>\n",
       "    </tr>\n",
       "  </thead>\n",
       "  <tbody>\n",
       "    <tr>\n",
       "      <th>0</th>\n",
       "      <td>0</td>\n",
       "      <td>0</td>\n",
       "      <td>Roslindale</td>\n",
       "      <td>42.282619</td>\n",
       "      <td>-71.133068</td>\n",
       "      <td>House</td>\n",
       "      <td>Entire home/apt</td>\n",
       "      <td>4</td>\n",
       "      <td>1.5</td>\n",
       "      <td>2.0</td>\n",
       "      <td>...</td>\n",
       "      <td>1</td>\n",
       "      <td>0</td>\n",
       "      <td>2</td>\n",
       "      <td>0</td>\n",
       "      <td>0</td>\n",
       "      <td>NaN</td>\n",
       "      <td>moderate</td>\n",
       "      <td>250</td>\n",
       "      <td>1</td>\n",
       "      <td>gte_226</td>\n",
       "    </tr>\n",
       "    <tr>\n",
       "      <th>1</th>\n",
       "      <td>0</td>\n",
       "      <td>1</td>\n",
       "      <td>Roslindale</td>\n",
       "      <td>42.286241</td>\n",
       "      <td>-71.134374</td>\n",
       "      <td>Apartment</td>\n",
       "      <td>Private room</td>\n",
       "      <td>2</td>\n",
       "      <td>1.0</td>\n",
       "      <td>1.0</td>\n",
       "      <td>...</td>\n",
       "      <td>0</td>\n",
       "      <td>0</td>\n",
       "      <td>2</td>\n",
       "      <td>36</td>\n",
       "      <td>804</td>\n",
       "      <td>94.0</td>\n",
       "      <td>moderate</td>\n",
       "      <td>65</td>\n",
       "      <td>0</td>\n",
       "      <td>lte_$75</td>\n",
       "    </tr>\n",
       "    <tr>\n",
       "      <th>2</th>\n",
       "      <td>1</td>\n",
       "      <td>1</td>\n",
       "      <td>Roslindale</td>\n",
       "      <td>42.292438</td>\n",
       "      <td>-71.135765</td>\n",
       "      <td>Apartment</td>\n",
       "      <td>Private room</td>\n",
       "      <td>2</td>\n",
       "      <td>1.0</td>\n",
       "      <td>1.0</td>\n",
       "      <td>...</td>\n",
       "      <td>1</td>\n",
       "      <td>20</td>\n",
       "      <td>3</td>\n",
       "      <td>41</td>\n",
       "      <td>2574</td>\n",
       "      <td>98.0</td>\n",
       "      <td>moderate</td>\n",
       "      <td>65</td>\n",
       "      <td>0</td>\n",
       "      <td>lte_$75</td>\n",
       "    </tr>\n",
       "    <tr>\n",
       "      <th>3</th>\n",
       "      <td>0</td>\n",
       "      <td>0</td>\n",
       "      <td>Roslindale</td>\n",
       "      <td>42.281106</td>\n",
       "      <td>-71.121021</td>\n",
       "      <td>House</td>\n",
       "      <td>Private room</td>\n",
       "      <td>4</td>\n",
       "      <td>1.0</td>\n",
       "      <td>1.0</td>\n",
       "      <td>...</td>\n",
       "      <td>2</td>\n",
       "      <td>25</td>\n",
       "      <td>1</td>\n",
       "      <td>1</td>\n",
       "      <td>0</td>\n",
       "      <td>100.0</td>\n",
       "      <td>moderate</td>\n",
       "      <td>75</td>\n",
       "      <td>0</td>\n",
       "      <td>lte_$75</td>\n",
       "    </tr>\n",
       "    <tr>\n",
       "      <th>4</th>\n",
       "      <td>1</td>\n",
       "      <td>1</td>\n",
       "      <td>Roslindale</td>\n",
       "      <td>42.284512</td>\n",
       "      <td>-71.136258</td>\n",
       "      <td>House</td>\n",
       "      <td>Private room</td>\n",
       "      <td>2</td>\n",
       "      <td>1.5</td>\n",
       "      <td>1.0</td>\n",
       "      <td>...</td>\n",
       "      <td>1</td>\n",
       "      <td>0</td>\n",
       "      <td>2</td>\n",
       "      <td>29</td>\n",
       "      <td>380</td>\n",
       "      <td>99.0</td>\n",
       "      <td>flexible</td>\n",
       "      <td>79</td>\n",
       "      <td>0</td>\n",
       "      <td>btw_$75-$150</td>\n",
       "    </tr>\n",
       "  </tbody>\n",
       "</table>\n",
       "<p>5 rows × 23 columns</p>\n",
       "</div>"
      ],
      "text/plain": [
       "   host_is_superhost  host_identity_verified neighbourhood_cleansed  \\\n",
       "0                  0                       0             Roslindale   \n",
       "1                  0                       1             Roslindale   \n",
       "2                  1                       1             Roslindale   \n",
       "3                  0                       0             Roslindale   \n",
       "4                  1                       1             Roslindale   \n",
       "\n",
       "    latitude  longitude property_type        room_type  accommodates  \\\n",
       "0  42.282619 -71.133068         House  Entire home/apt             4   \n",
       "1  42.286241 -71.134374     Apartment     Private room             2   \n",
       "2  42.292438 -71.135765     Apartment     Private room             2   \n",
       "3  42.281106 -71.121021         House     Private room             4   \n",
       "4  42.284512 -71.136258         House     Private room             2   \n",
       "\n",
       "   bathrooms  bedrooms  ...  guests_included price_per_extra_person  \\\n",
       "0        1.5       2.0  ...                1                      0   \n",
       "1        1.0       1.0  ...                0                      0   \n",
       "2        1.0       1.0  ...                1                     20   \n",
       "3        1.0       1.0  ...                2                     25   \n",
       "4        1.5       1.0  ...                1                      0   \n",
       "\n",
       "   minimum_nights  number_of_reviews  number_days_btw_first_last_review  \\\n",
       "0               2                  0                                  0   \n",
       "1               2                 36                                804   \n",
       "2               3                 41                               2574   \n",
       "3               1                  1                                  0   \n",
       "4               2                 29                                380   \n",
       "\n",
       "   review_scores_rating  cancellation_policy  price  price_gte_150  \\\n",
       "0                   NaN             moderate    250              1   \n",
       "1                  94.0             moderate     65              0   \n",
       "2                  98.0             moderate     65              0   \n",
       "3                 100.0             moderate     75              0   \n",
       "4                  99.0             flexible     79              0   \n",
       "\n",
       "  price_category  \n",
       "0        gte_226  \n",
       "1        lte_$75  \n",
       "2        lte_$75  \n",
       "3        lte_$75  \n",
       "4   btw_$75-$150  \n",
       "\n",
       "[5 rows x 23 columns]"
      ]
     },
     "execution_count": 2,
     "metadata": {},
     "output_type": "execute_result"
    }
   ],
   "source": [
    "#We will predict the \"median_house_value\" value in the data set:\n",
    "\n",
    "airbnb = pd.read_csv(\"airbnb.csv\")\n",
    "airbnb.head()"
   ]
  },
  {
   "cell_type": "code",
   "execution_count": 3,
   "metadata": {},
   "outputs": [
    {
     "data": {
      "text/plain": [
       "(3555, 23)"
      ]
     },
     "execution_count": 3,
     "metadata": {},
     "output_type": "execute_result"
    }
   ],
   "source": [
    "# Find the total number of rows\n",
    "\n",
    "airbnb.shape"
   ]
  },
  {
   "cell_type": "markdown",
   "metadata": {},
   "source": [
    "# Split the data into train and test"
   ]
  },
  {
   "cell_type": "code",
   "execution_count": 4,
   "metadata": {},
   "outputs": [],
   "source": [
    "from sklearn.model_selection import train_test_split\n",
    "\n",
    "train, test = train_test_split(airbnb, test_size=0.3)"
   ]
  },
  {
   "cell_type": "markdown",
   "metadata": {},
   "source": [
    "### Be careful: we haven't seperated the target column yet"
   ]
  },
  {
   "cell_type": "markdown",
   "metadata": {},
   "source": [
    "## Check the missing values"
   ]
  },
  {
   "cell_type": "code",
   "execution_count": 5,
   "metadata": {},
   "outputs": [
    {
     "data": {
      "text/plain": [
       "host_is_superhost                      0\n",
       "host_identity_verified                 0\n",
       "neighbourhood_cleansed                 0\n",
       "latitude                               0\n",
       "longitude                              0\n",
       "property_type                          2\n",
       "room_type                              0\n",
       "accommodates                           0\n",
       "bathrooms                             10\n",
       "bedrooms                               8\n",
       "beds                                   6\n",
       "bed_type                               0\n",
       "Number of amenities                    0\n",
       "guests_included                        0\n",
       "price_per_extra_person                 0\n",
       "minimum_nights                         0\n",
       "number_of_reviews                      0\n",
       "number_days_btw_first_last_review      0\n",
       "review_scores_rating                 556\n",
       "cancellation_policy                    0\n",
       "price                                  0\n",
       "price_gte_150                          0\n",
       "price_category                         0\n",
       "dtype: int64"
      ]
     },
     "execution_count": 5,
     "metadata": {},
     "output_type": "execute_result"
    }
   ],
   "source": [
    "train.isna().sum()"
   ]
  },
  {
   "cell_type": "code",
   "execution_count": 6,
   "metadata": {},
   "outputs": [
    {
     "data": {
      "text/plain": [
       "host_is_superhost                      0\n",
       "host_identity_verified                 0\n",
       "neighbourhood_cleansed                 0\n",
       "latitude                               0\n",
       "longitude                              0\n",
       "property_type                          1\n",
       "room_type                              0\n",
       "accommodates                           0\n",
       "bathrooms                              4\n",
       "bedrooms                               2\n",
       "beds                                   3\n",
       "bed_type                               0\n",
       "Number of amenities                    0\n",
       "guests_included                        0\n",
       "price_per_extra_person                 0\n",
       "minimum_nights                         0\n",
       "number_of_reviews                      0\n",
       "number_days_btw_first_last_review      0\n",
       "review_scores_rating                 244\n",
       "cancellation_policy                    0\n",
       "price                                  0\n",
       "price_gte_150                          0\n",
       "price_category                         0\n",
       "dtype: int64"
      ]
     },
     "execution_count": 6,
     "metadata": {},
     "output_type": "execute_result"
    }
   ],
   "source": [
    "test.isna().sum()"
   ]
  },
  {
   "cell_type": "markdown",
   "metadata": {},
   "source": [
    "# Data Prep"
   ]
  },
  {
   "cell_type": "code",
   "execution_count": 7,
   "metadata": {
    "scrolled": true
   },
   "outputs": [],
   "source": [
    "from sklearn.compose import ColumnTransformer\n",
    "from sklearn.pipeline import Pipeline\n",
    "from sklearn.impute import SimpleImputer\n",
    "from sklearn.preprocessing import StandardScaler\n",
    "from sklearn.preprocessing import OneHotEncoder"
   ]
  },
  {
   "cell_type": "markdown",
   "metadata": {},
   "source": [
    "## Separate the POTENTIAL target variables (we don't want to transform them)"
   ]
  },
  {
   "cell_type": "code",
   "execution_count": 8,
   "metadata": {},
   "outputs": [],
   "source": [
    "train_targets = train[['price', 'price_gte_150', 'price_category']]\n",
    "test_targets = test[['price', 'price_gte_150', 'price_category']]\n",
    "\n",
    "train_inputs = train.drop(['price', 'price_gte_150', 'price_category'], axis=1)\n",
    "test_inputs = test.drop(['price', 'price_gte_150', 'price_category'], axis=1)"
   ]
  },
  {
   "cell_type": "markdown",
   "metadata": {},
   "source": [
    "##  Identify the numerical and categorical columns"
   ]
  },
  {
   "cell_type": "markdown",
   "metadata": {},
   "source": [
    "### Option 1: Manually"
   ]
  },
  {
   "cell_type": "code",
   "execution_count": 9,
   "metadata": {},
   "outputs": [],
   "source": [
    "numeric_columns = ['latitude', 'longitude', 'accommodates', \n",
    "                   'bathrooms', 'bedrooms', 'beds', \n",
    "                   'Number of amenities', 'guests_included', \n",
    "                   'price_per_extra_person', 'minimum_nights', \n",
    "                   'number_of_reviews', 'number_days_btw_first_last_review', \n",
    "                   'review_scores_rating']\n",
    " \n",
    "binary_columns = ['host_is_superhost', 'host_identity_verified']\n",
    " \n",
    "categorical_columns = ['neighbourhood_cleansed', 'property_type', \n",
    "                       'room_type', 'bed_type', 'cancellation_policy']"
   ]
  },
  {
   "cell_type": "markdown",
   "metadata": {},
   "source": [
    "### Option 2: Programmatically"
   ]
  },
  {
   "cell_type": "raw",
   "metadata": {},
   "source": [
    "train_inputs.dtypes"
   ]
  },
  {
   "cell_type": "raw",
   "metadata": {},
   "source": [
    "# Identify the numerical columns\n",
    "numeric_columns = train_inputs.select_dtypes(include=[np.number]).columns.to_list()\n",
    "\n",
    "# Identify the categorical columns\n",
    "categorical_columns = train_inputs.select_dtypes('object').columns.to_list()"
   ]
  },
  {
   "cell_type": "raw",
   "metadata": {},
   "source": [
    "# Identify the binary columns so we can pass them through without transforming\n",
    "binary_columns = ['host_is_superhost', 'host_identity_verified']"
   ]
  },
  {
   "cell_type": "raw",
   "metadata": {},
   "source": [
    "# Be careful: numerical columns already includes the binary columns,\n",
    "# So, we need to remove the binary columns from numerical columns.\n",
    "\n",
    "for col in binary_columns:\n",
    "    numeric_columns.remove(col)"
   ]
  },
  {
   "cell_type": "code",
   "execution_count": 10,
   "metadata": {},
   "outputs": [
    {
     "data": {
      "text/plain": [
       "['host_is_superhost', 'host_identity_verified']"
      ]
     },
     "execution_count": 10,
     "metadata": {},
     "output_type": "execute_result"
    }
   ],
   "source": [
    "binary_columns"
   ]
  },
  {
   "cell_type": "code",
   "execution_count": 11,
   "metadata": {},
   "outputs": [
    {
     "data": {
      "text/plain": [
       "['latitude',\n",
       " 'longitude',\n",
       " 'accommodates',\n",
       " 'bathrooms',\n",
       " 'bedrooms',\n",
       " 'beds',\n",
       " 'Number of amenities',\n",
       " 'guests_included',\n",
       " 'price_per_extra_person',\n",
       " 'minimum_nights',\n",
       " 'number_of_reviews',\n",
       " 'number_days_btw_first_last_review',\n",
       " 'review_scores_rating']"
      ]
     },
     "execution_count": 11,
     "metadata": {},
     "output_type": "execute_result"
    }
   ],
   "source": [
    "numeric_columns"
   ]
  },
  {
   "cell_type": "code",
   "execution_count": 12,
   "metadata": {},
   "outputs": [
    {
     "data": {
      "text/plain": [
       "['neighbourhood_cleansed',\n",
       " 'property_type',\n",
       " 'room_type',\n",
       " 'bed_type',\n",
       " 'cancellation_policy']"
      ]
     },
     "execution_count": 12,
     "metadata": {},
     "output_type": "execute_result"
    }
   ],
   "source": [
    "categorical_columns"
   ]
  },
  {
   "cell_type": "markdown",
   "metadata": {},
   "source": [
    "# Pipeline"
   ]
  },
  {
   "cell_type": "code",
   "execution_count": 23,
   "metadata": {},
   "outputs": [],
   "source": [
    "Pipeline?\n"
   ]
  },
  {
   "cell_type": "code",
   "execution_count": 13,
   "metadata": {},
   "outputs": [],
   "source": [
    "numeric_transformer = Pipeline(steps=[\n",
    "                ('imputer', SimpleImputer(strategy='median')),\n",
    "                ('scaler', StandardScaler())])"
   ]
  },
  {
   "cell_type": "code",
   "execution_count": 14,
   "metadata": {},
   "outputs": [],
   "source": [
    "categorical_transformer = Pipeline(steps=[\n",
    "    ('imputer', SimpleImputer(strategy='constant', fill_value='unknown')),\n",
    "    ('onehot', OneHotEncoder(handle_unknown='ignore'))])"
   ]
  },
  {
   "cell_type": "code",
   "execution_count": 15,
   "metadata": {},
   "outputs": [],
   "source": [
    "binary_transformer = Pipeline(steps=[\n",
    "    ('imputer', SimpleImputer(strategy='most_frequent'))])"
   ]
  },
  {
   "cell_type": "code",
   "execution_count": 30,
   "metadata": {},
   "outputs": [],
   "source": [
    "preprocessor = ColumnTransformer([\n",
    "        ('num', numeric_transformer, numeric_columns),\n",
    "        ('cat', categorical_transformer, categorical_columns),\n",
    "        ('binary', binary_transformer, binary_columns)],\n",
    "        remainder='passthrough')\n",
    "\n",
    "#passtrough is an optional step. You don't have to use it."
   ]
  },
  {
   "cell_type": "code",
   "execution_count": 40,
   "metadata": {},
   "outputs": [
    {
     "data": {
      "text/html": [
       "<style>#sk-container-id-8 {color: black;background-color: white;}#sk-container-id-8 pre{padding: 0;}#sk-container-id-8 div.sk-toggleable {background-color: white;}#sk-container-id-8 label.sk-toggleable__label {cursor: pointer;display: block;width: 100%;margin-bottom: 0;padding: 0.3em;box-sizing: border-box;text-align: center;}#sk-container-id-8 label.sk-toggleable__label-arrow:before {content: \"▸\";float: left;margin-right: 0.25em;color: #696969;}#sk-container-id-8 label.sk-toggleable__label-arrow:hover:before {color: black;}#sk-container-id-8 div.sk-estimator:hover label.sk-toggleable__label-arrow:before {color: black;}#sk-container-id-8 div.sk-toggleable__content {max-height: 0;max-width: 0;overflow: hidden;text-align: left;background-color: #f0f8ff;}#sk-container-id-8 div.sk-toggleable__content pre {margin: 0.2em;color: black;border-radius: 0.25em;background-color: #f0f8ff;}#sk-container-id-8 input.sk-toggleable__control:checked~div.sk-toggleable__content {max-height: 200px;max-width: 100%;overflow: auto;}#sk-container-id-8 input.sk-toggleable__control:checked~label.sk-toggleable__label-arrow:before {content: \"▾\";}#sk-container-id-8 div.sk-estimator input.sk-toggleable__control:checked~label.sk-toggleable__label {background-color: #d4ebff;}#sk-container-id-8 div.sk-label input.sk-toggleable__control:checked~label.sk-toggleable__label {background-color: #d4ebff;}#sk-container-id-8 input.sk-hidden--visually {border: 0;clip: rect(1px 1px 1px 1px);clip: rect(1px, 1px, 1px, 1px);height: 1px;margin: -1px;overflow: hidden;padding: 0;position: absolute;width: 1px;}#sk-container-id-8 div.sk-estimator {font-family: monospace;background-color: #f0f8ff;border: 1px dotted black;border-radius: 0.25em;box-sizing: border-box;margin-bottom: 0.5em;}#sk-container-id-8 div.sk-estimator:hover {background-color: #d4ebff;}#sk-container-id-8 div.sk-parallel-item::after {content: \"\";width: 100%;border-bottom: 1px solid gray;flex-grow: 1;}#sk-container-id-8 div.sk-label:hover label.sk-toggleable__label {background-color: #d4ebff;}#sk-container-id-8 div.sk-serial::before {content: \"\";position: absolute;border-left: 1px solid gray;box-sizing: border-box;top: 0;bottom: 0;left: 50%;z-index: 0;}#sk-container-id-8 div.sk-serial {display: flex;flex-direction: column;align-items: center;background-color: white;padding-right: 0.2em;padding-left: 0.2em;position: relative;}#sk-container-id-8 div.sk-item {position: relative;z-index: 1;}#sk-container-id-8 div.sk-parallel {display: flex;align-items: stretch;justify-content: center;background-color: white;position: relative;}#sk-container-id-8 div.sk-item::before, #sk-container-id-8 div.sk-parallel-item::before {content: \"\";position: absolute;border-left: 1px solid gray;box-sizing: border-box;top: 0;bottom: 0;left: 50%;z-index: -1;}#sk-container-id-8 div.sk-parallel-item {display: flex;flex-direction: column;z-index: 1;position: relative;background-color: white;}#sk-container-id-8 div.sk-parallel-item:first-child::after {align-self: flex-end;width: 50%;}#sk-container-id-8 div.sk-parallel-item:last-child::after {align-self: flex-start;width: 50%;}#sk-container-id-8 div.sk-parallel-item:only-child::after {width: 0;}#sk-container-id-8 div.sk-dashed-wrapped {border: 1px dashed gray;margin: 0 0.4em 0.5em 0.4em;box-sizing: border-box;padding-bottom: 0.4em;background-color: white;}#sk-container-id-8 div.sk-label label {font-family: monospace;font-weight: bold;display: inline-block;line-height: 1.2em;}#sk-container-id-8 div.sk-label-container {text-align: center;}#sk-container-id-8 div.sk-container {/* jupyter's `normalize.less` sets `[hidden] { display: none; }` but bootstrap.min.css set `[hidden] { display: none !important; }` so we also need the `!important` here to be able to override the default hidden behavior on the sphinx rendered scikit-learn.org. See: https://github.com/scikit-learn/scikit-learn/issues/21755 */display: inline-block !important;position: relative;}#sk-container-id-8 div.sk-text-repr-fallback {display: none;}</style><div id=\"sk-container-id-8\" class=\"sk-top-container\"><div class=\"sk-text-repr-fallback\"><pre>ColumnTransformer(remainder=&#x27;passthrough&#x27;,\n",
       "                  transformers=[(&#x27;num&#x27;,\n",
       "                                 Pipeline(steps=[(&#x27;imputer&#x27;,\n",
       "                                                  SimpleImputer(strategy=&#x27;median&#x27;)),\n",
       "                                                 (&#x27;scaler&#x27;, StandardScaler())]),\n",
       "                                 [&#x27;latitude&#x27;, &#x27;longitude&#x27;, &#x27;accommodates&#x27;,\n",
       "                                  &#x27;bathrooms&#x27;, &#x27;bedrooms&#x27;, &#x27;beds&#x27;,\n",
       "                                  &#x27;Number of amenities&#x27;, &#x27;guests_included&#x27;,\n",
       "                                  &#x27;price_per_extra_person&#x27;, &#x27;minimum_nights&#x27;,\n",
       "                                  &#x27;number_of_reviews&#x27;,\n",
       "                                  &#x27;number_days_btw_first_last...\n",
       "                                 Pipeline(steps=[(&#x27;imputer&#x27;,\n",
       "                                                  SimpleImputer(fill_value=&#x27;unknown&#x27;,\n",
       "                                                                strategy=&#x27;constant&#x27;)),\n",
       "                                                 (&#x27;onehot&#x27;,\n",
       "                                                  OneHotEncoder(handle_unknown=&#x27;ignore&#x27;))]),\n",
       "                                 [&#x27;neighbourhood_cleansed&#x27;, &#x27;property_type&#x27;,\n",
       "                                  &#x27;room_type&#x27;, &#x27;bed_type&#x27;,\n",
       "                                  &#x27;cancellation_policy&#x27;]),\n",
       "                                (&#x27;binary&#x27;,\n",
       "                                 Pipeline(steps=[(&#x27;imputer&#x27;,\n",
       "                                                  SimpleImputer(strategy=&#x27;most_frequent&#x27;))]),\n",
       "                                 [&#x27;host_is_superhost&#x27;,\n",
       "                                  &#x27;host_identity_verified&#x27;])])</pre><b>In a Jupyter environment, please rerun this cell to show the HTML representation or trust the notebook. <br />On GitHub, the HTML representation is unable to render, please try loading this page with nbviewer.org.</b></div><div class=\"sk-container\" hidden><div class=\"sk-item sk-dashed-wrapped\"><div class=\"sk-label-container\"><div class=\"sk-label sk-toggleable\"><input class=\"sk-toggleable__control sk-hidden--visually\" id=\"sk-estimator-id-10\" type=\"checkbox\" ><label for=\"sk-estimator-id-10\" class=\"sk-toggleable__label sk-toggleable__label-arrow\">ColumnTransformer</label><div class=\"sk-toggleable__content\"><pre>ColumnTransformer(remainder=&#x27;passthrough&#x27;,\n",
       "                  transformers=[(&#x27;num&#x27;,\n",
       "                                 Pipeline(steps=[(&#x27;imputer&#x27;,\n",
       "                                                  SimpleImputer(strategy=&#x27;median&#x27;)),\n",
       "                                                 (&#x27;scaler&#x27;, StandardScaler())]),\n",
       "                                 [&#x27;latitude&#x27;, &#x27;longitude&#x27;, &#x27;accommodates&#x27;,\n",
       "                                  &#x27;bathrooms&#x27;, &#x27;bedrooms&#x27;, &#x27;beds&#x27;,\n",
       "                                  &#x27;Number of amenities&#x27;, &#x27;guests_included&#x27;,\n",
       "                                  &#x27;price_per_extra_person&#x27;, &#x27;minimum_nights&#x27;,\n",
       "                                  &#x27;number_of_reviews&#x27;,\n",
       "                                  &#x27;number_days_btw_first_last...\n",
       "                                 Pipeline(steps=[(&#x27;imputer&#x27;,\n",
       "                                                  SimpleImputer(fill_value=&#x27;unknown&#x27;,\n",
       "                                                                strategy=&#x27;constant&#x27;)),\n",
       "                                                 (&#x27;onehot&#x27;,\n",
       "                                                  OneHotEncoder(handle_unknown=&#x27;ignore&#x27;))]),\n",
       "                                 [&#x27;neighbourhood_cleansed&#x27;, &#x27;property_type&#x27;,\n",
       "                                  &#x27;room_type&#x27;, &#x27;bed_type&#x27;,\n",
       "                                  &#x27;cancellation_policy&#x27;]),\n",
       "                                (&#x27;binary&#x27;,\n",
       "                                 Pipeline(steps=[(&#x27;imputer&#x27;,\n",
       "                                                  SimpleImputer(strategy=&#x27;most_frequent&#x27;))]),\n",
       "                                 [&#x27;host_is_superhost&#x27;,\n",
       "                                  &#x27;host_identity_verified&#x27;])])</pre></div></div></div><div class=\"sk-parallel\"><div class=\"sk-parallel-item\"><div class=\"sk-item\"><div class=\"sk-label-container\"><div class=\"sk-label sk-toggleable\"><input class=\"sk-toggleable__control sk-hidden--visually\" id=\"sk-estimator-id-11\" type=\"checkbox\" ><label for=\"sk-estimator-id-11\" class=\"sk-toggleable__label sk-toggleable__label-arrow\">num</label><div class=\"sk-toggleable__content\"><pre>[&#x27;latitude&#x27;, &#x27;longitude&#x27;, &#x27;accommodates&#x27;, &#x27;bathrooms&#x27;, &#x27;bedrooms&#x27;, &#x27;beds&#x27;, &#x27;Number of amenities&#x27;, &#x27;guests_included&#x27;, &#x27;price_per_extra_person&#x27;, &#x27;minimum_nights&#x27;, &#x27;number_of_reviews&#x27;, &#x27;number_days_btw_first_last_review&#x27;, &#x27;review_scores_rating&#x27;]</pre></div></div></div><div class=\"sk-serial\"><div class=\"sk-item\"><div class=\"sk-serial\"><div class=\"sk-item\"><div class=\"sk-estimator sk-toggleable\"><input class=\"sk-toggleable__control sk-hidden--visually\" id=\"sk-estimator-id-12\" type=\"checkbox\" ><label for=\"sk-estimator-id-12\" class=\"sk-toggleable__label sk-toggleable__label-arrow\">SimpleImputer</label><div class=\"sk-toggleable__content\"><pre>SimpleImputer(strategy=&#x27;median&#x27;)</pre></div></div></div><div class=\"sk-item\"><div class=\"sk-estimator sk-toggleable\"><input class=\"sk-toggleable__control sk-hidden--visually\" id=\"sk-estimator-id-13\" type=\"checkbox\" ><label for=\"sk-estimator-id-13\" class=\"sk-toggleable__label sk-toggleable__label-arrow\">StandardScaler</label><div class=\"sk-toggleable__content\"><pre>StandardScaler()</pre></div></div></div></div></div></div></div></div><div class=\"sk-parallel-item\"><div class=\"sk-item\"><div class=\"sk-label-container\"><div class=\"sk-label sk-toggleable\"><input class=\"sk-toggleable__control sk-hidden--visually\" id=\"sk-estimator-id-14\" type=\"checkbox\" ><label for=\"sk-estimator-id-14\" class=\"sk-toggleable__label sk-toggleable__label-arrow\">cat</label><div class=\"sk-toggleable__content\"><pre>[&#x27;neighbourhood_cleansed&#x27;, &#x27;property_type&#x27;, &#x27;room_type&#x27;, &#x27;bed_type&#x27;, &#x27;cancellation_policy&#x27;]</pre></div></div></div><div class=\"sk-serial\"><div class=\"sk-item\"><div class=\"sk-serial\"><div class=\"sk-item\"><div class=\"sk-estimator sk-toggleable\"><input class=\"sk-toggleable__control sk-hidden--visually\" id=\"sk-estimator-id-15\" type=\"checkbox\" ><label for=\"sk-estimator-id-15\" class=\"sk-toggleable__label sk-toggleable__label-arrow\">SimpleImputer</label><div class=\"sk-toggleable__content\"><pre>SimpleImputer(fill_value=&#x27;unknown&#x27;, strategy=&#x27;constant&#x27;)</pre></div></div></div><div class=\"sk-item\"><div class=\"sk-estimator sk-toggleable\"><input class=\"sk-toggleable__control sk-hidden--visually\" id=\"sk-estimator-id-16\" type=\"checkbox\" ><label for=\"sk-estimator-id-16\" class=\"sk-toggleable__label sk-toggleable__label-arrow\">OneHotEncoder</label><div class=\"sk-toggleable__content\"><pre>OneHotEncoder(handle_unknown=&#x27;ignore&#x27;)</pre></div></div></div></div></div></div></div></div><div class=\"sk-parallel-item\"><div class=\"sk-item\"><div class=\"sk-label-container\"><div class=\"sk-label sk-toggleable\"><input class=\"sk-toggleable__control sk-hidden--visually\" id=\"sk-estimator-id-17\" type=\"checkbox\" ><label for=\"sk-estimator-id-17\" class=\"sk-toggleable__label sk-toggleable__label-arrow\">binary</label><div class=\"sk-toggleable__content\"><pre>[&#x27;host_is_superhost&#x27;, &#x27;host_identity_verified&#x27;]</pre></div></div></div><div class=\"sk-serial\"><div class=\"sk-item\"><div class=\"sk-serial\"><div class=\"sk-item\"><div class=\"sk-estimator sk-toggleable\"><input class=\"sk-toggleable__control sk-hidden--visually\" id=\"sk-estimator-id-18\" type=\"checkbox\" ><label for=\"sk-estimator-id-18\" class=\"sk-toggleable__label sk-toggleable__label-arrow\">SimpleImputer</label><div class=\"sk-toggleable__content\"><pre>SimpleImputer(strategy=&#x27;most_frequent&#x27;)</pre></div></div></div></div></div></div></div></div><div class=\"sk-parallel-item\"><div class=\"sk-item\"><div class=\"sk-label-container\"><div class=\"sk-label sk-toggleable\"><input class=\"sk-toggleable__control sk-hidden--visually\" id=\"sk-estimator-id-19\" type=\"checkbox\" ><label for=\"sk-estimator-id-19\" class=\"sk-toggleable__label sk-toggleable__label-arrow\">remainder</label><div class=\"sk-toggleable__content\"><pre></pre></div></div></div><div class=\"sk-serial\"><div class=\"sk-item\"><div class=\"sk-estimator sk-toggleable\"><input class=\"sk-toggleable__control sk-hidden--visually\" id=\"sk-estimator-id-20\" type=\"checkbox\" ><label for=\"sk-estimator-id-20\" class=\"sk-toggleable__label sk-toggleable__label-arrow\">passthrough</label><div class=\"sk-toggleable__content\"><pre>passthrough</pre></div></div></div></div></div></div></div></div></div></div>"
      ],
      "text/plain": [
       "ColumnTransformer(remainder='passthrough',\n",
       "                  transformers=[('num',\n",
       "                                 Pipeline(steps=[('imputer',\n",
       "                                                  SimpleImputer(strategy='median')),\n",
       "                                                 ('scaler', StandardScaler())]),\n",
       "                                 ['latitude', 'longitude', 'accommodates',\n",
       "                                  'bathrooms', 'bedrooms', 'beds',\n",
       "                                  'Number of amenities', 'guests_included',\n",
       "                                  'price_per_extra_person', 'minimum_nights',\n",
       "                                  'number_of_reviews',\n",
       "                                  'number_days_btw_first_last...\n",
       "                                 Pipeline(steps=[('imputer',\n",
       "                                                  SimpleImputer(fill_value='unknown',\n",
       "                                                                strategy='constant')),\n",
       "                                                 ('onehot',\n",
       "                                                  OneHotEncoder(handle_unknown='ignore'))]),\n",
       "                                 ['neighbourhood_cleansed', 'property_type',\n",
       "                                  'room_type', 'bed_type',\n",
       "                                  'cancellation_policy']),\n",
       "                                ('binary',\n",
       "                                 Pipeline(steps=[('imputer',\n",
       "                                                  SimpleImputer(strategy='most_frequent'))]),\n",
       "                                 ['host_is_superhost',\n",
       "                                  'host_identity_verified'])])"
      ]
     },
     "metadata": {},
     "output_type": "display_data"
    }
   ],
   "source": [
    "from sklearn import set_config  ## optional self practice\n",
    "\n",
    "set_config(display=\"diagram\")\n",
    "display(preprocessor)\n"
   ]
  },
  {
   "cell_type": "code",
   "execution_count": 41,
   "metadata": {},
   "outputs": [
    {
     "data": {
      "text/html": [
       "<style>#sk-container-id-9 {color: black;background-color: white;}#sk-container-id-9 pre{padding: 0;}#sk-container-id-9 div.sk-toggleable {background-color: white;}#sk-container-id-9 label.sk-toggleable__label {cursor: pointer;display: block;width: 100%;margin-bottom: 0;padding: 0.3em;box-sizing: border-box;text-align: center;}#sk-container-id-9 label.sk-toggleable__label-arrow:before {content: \"▸\";float: left;margin-right: 0.25em;color: #696969;}#sk-container-id-9 label.sk-toggleable__label-arrow:hover:before {color: black;}#sk-container-id-9 div.sk-estimator:hover label.sk-toggleable__label-arrow:before {color: black;}#sk-container-id-9 div.sk-toggleable__content {max-height: 0;max-width: 0;overflow: hidden;text-align: left;background-color: #f0f8ff;}#sk-container-id-9 div.sk-toggleable__content pre {margin: 0.2em;color: black;border-radius: 0.25em;background-color: #f0f8ff;}#sk-container-id-9 input.sk-toggleable__control:checked~div.sk-toggleable__content {max-height: 200px;max-width: 100%;overflow: auto;}#sk-container-id-9 input.sk-toggleable__control:checked~label.sk-toggleable__label-arrow:before {content: \"▾\";}#sk-container-id-9 div.sk-estimator input.sk-toggleable__control:checked~label.sk-toggleable__label {background-color: #d4ebff;}#sk-container-id-9 div.sk-label input.sk-toggleable__control:checked~label.sk-toggleable__label {background-color: #d4ebff;}#sk-container-id-9 input.sk-hidden--visually {border: 0;clip: rect(1px 1px 1px 1px);clip: rect(1px, 1px, 1px, 1px);height: 1px;margin: -1px;overflow: hidden;padding: 0;position: absolute;width: 1px;}#sk-container-id-9 div.sk-estimator {font-family: monospace;background-color: #f0f8ff;border: 1px dotted black;border-radius: 0.25em;box-sizing: border-box;margin-bottom: 0.5em;}#sk-container-id-9 div.sk-estimator:hover {background-color: #d4ebff;}#sk-container-id-9 div.sk-parallel-item::after {content: \"\";width: 100%;border-bottom: 1px solid gray;flex-grow: 1;}#sk-container-id-9 div.sk-label:hover label.sk-toggleable__label {background-color: #d4ebff;}#sk-container-id-9 div.sk-serial::before {content: \"\";position: absolute;border-left: 1px solid gray;box-sizing: border-box;top: 0;bottom: 0;left: 50%;z-index: 0;}#sk-container-id-9 div.sk-serial {display: flex;flex-direction: column;align-items: center;background-color: white;padding-right: 0.2em;padding-left: 0.2em;position: relative;}#sk-container-id-9 div.sk-item {position: relative;z-index: 1;}#sk-container-id-9 div.sk-parallel {display: flex;align-items: stretch;justify-content: center;background-color: white;position: relative;}#sk-container-id-9 div.sk-item::before, #sk-container-id-9 div.sk-parallel-item::before {content: \"\";position: absolute;border-left: 1px solid gray;box-sizing: border-box;top: 0;bottom: 0;left: 50%;z-index: -1;}#sk-container-id-9 div.sk-parallel-item {display: flex;flex-direction: column;z-index: 1;position: relative;background-color: white;}#sk-container-id-9 div.sk-parallel-item:first-child::after {align-self: flex-end;width: 50%;}#sk-container-id-9 div.sk-parallel-item:last-child::after {align-self: flex-start;width: 50%;}#sk-container-id-9 div.sk-parallel-item:only-child::after {width: 0;}#sk-container-id-9 div.sk-dashed-wrapped {border: 1px dashed gray;margin: 0 0.4em 0.5em 0.4em;box-sizing: border-box;padding-bottom: 0.4em;background-color: white;}#sk-container-id-9 div.sk-label label {font-family: monospace;font-weight: bold;display: inline-block;line-height: 1.2em;}#sk-container-id-9 div.sk-label-container {text-align: center;}#sk-container-id-9 div.sk-container {/* jupyter's `normalize.less` sets `[hidden] { display: none; }` but bootstrap.min.css set `[hidden] { display: none !important; }` so we also need the `!important` here to be able to override the default hidden behavior on the sphinx rendered scikit-learn.org. See: https://github.com/scikit-learn/scikit-learn/issues/21755 */display: inline-block !important;position: relative;}#sk-container-id-9 div.sk-text-repr-fallback {display: none;}</style><div id=\"sk-container-id-9\" class=\"sk-top-container\"><div class=\"sk-text-repr-fallback\"><pre>Pipeline(steps=ColumnTransformer(remainder=&#x27;passthrough&#x27;,\n",
       "                                 transformers=[(&#x27;num&#x27;,\n",
       "                                                Pipeline(steps=[(&#x27;imputer&#x27;,\n",
       "                                                                 SimpleImputer(strategy=&#x27;median&#x27;)),\n",
       "                                                                (&#x27;scaler&#x27;,\n",
       "                                                                 StandardScaler())]),\n",
       "                                                [&#x27;latitude&#x27;, &#x27;longitude&#x27;,\n",
       "                                                 &#x27;accommodates&#x27;, &#x27;bathrooms&#x27;,\n",
       "                                                 &#x27;bedrooms&#x27;, &#x27;beds&#x27;,\n",
       "                                                 &#x27;Number of amenities&#x27;,\n",
       "                                                 &#x27;guests_included&#x27;,\n",
       "                                                 &#x27;price_per_extra_person&#x27;,\n",
       "                                                 &#x27;minimum_nights&#x27;,\n",
       "                                                 &#x27;number_of_reviews&#x27;,\n",
       "                                                 &#x27;number_days...\n",
       "                                                Pipeline(steps=[(&#x27;imputer&#x27;,\n",
       "                                                                 SimpleImputer(fill_value=&#x27;unknown&#x27;,\n",
       "                                                                               strategy=&#x27;constant&#x27;)),\n",
       "                                                                (&#x27;onehot&#x27;,\n",
       "                                                                 OneHotEncoder(handle_unknown=&#x27;ignore&#x27;))]),\n",
       "                                                [&#x27;neighbourhood_cleansed&#x27;,\n",
       "                                                 &#x27;property_type&#x27;, &#x27;room_type&#x27;,\n",
       "                                                 &#x27;bed_type&#x27;,\n",
       "                                                 &#x27;cancellation_policy&#x27;]),\n",
       "                                               (&#x27;binary&#x27;,\n",
       "                                                Pipeline(steps=[(&#x27;imputer&#x27;,\n",
       "                                                                 SimpleImputer(strategy=&#x27;most_frequent&#x27;))]),\n",
       "                                                [&#x27;host_is_superhost&#x27;,\n",
       "                                                 &#x27;host_identity_verified&#x27;])]))</pre><b>In a Jupyter environment, please rerun this cell to show the HTML representation or trust the notebook. <br />On GitHub, the HTML representation is unable to render, please try loading this page with nbviewer.org.</b></div><div class=\"sk-container\" hidden><div class=\"sk-item\"><div class=\"sk-estimator sk-toggleable\"><input class=\"sk-toggleable__control sk-hidden--visually\" id=\"sk-estimator-id-21\" type=\"checkbox\" checked><label for=\"sk-estimator-id-21\" class=\"sk-toggleable__label sk-toggleable__label-arrow\">Pipeline</label><div class=\"sk-toggleable__content\"><pre>Pipeline(steps=ColumnTransformer(remainder=&#x27;passthrough&#x27;,\n",
       "                                 transformers=[(&#x27;num&#x27;,\n",
       "                                                Pipeline(steps=[(&#x27;imputer&#x27;,\n",
       "                                                                 SimpleImputer(strategy=&#x27;median&#x27;)),\n",
       "                                                                (&#x27;scaler&#x27;,\n",
       "                                                                 StandardScaler())]),\n",
       "                                                [&#x27;latitude&#x27;, &#x27;longitude&#x27;,\n",
       "                                                 &#x27;accommodates&#x27;, &#x27;bathrooms&#x27;,\n",
       "                                                 &#x27;bedrooms&#x27;, &#x27;beds&#x27;,\n",
       "                                                 &#x27;Number of amenities&#x27;,\n",
       "                                                 &#x27;guests_included&#x27;,\n",
       "                                                 &#x27;price_per_extra_person&#x27;,\n",
       "                                                 &#x27;minimum_nights&#x27;,\n",
       "                                                 &#x27;number_of_reviews&#x27;,\n",
       "                                                 &#x27;number_days...\n",
       "                                                Pipeline(steps=[(&#x27;imputer&#x27;,\n",
       "                                                                 SimpleImputer(fill_value=&#x27;unknown&#x27;,\n",
       "                                                                               strategy=&#x27;constant&#x27;)),\n",
       "                                                                (&#x27;onehot&#x27;,\n",
       "                                                                 OneHotEncoder(handle_unknown=&#x27;ignore&#x27;))]),\n",
       "                                                [&#x27;neighbourhood_cleansed&#x27;,\n",
       "                                                 &#x27;property_type&#x27;, &#x27;room_type&#x27;,\n",
       "                                                 &#x27;bed_type&#x27;,\n",
       "                                                 &#x27;cancellation_policy&#x27;]),\n",
       "                                               (&#x27;binary&#x27;,\n",
       "                                                Pipeline(steps=[(&#x27;imputer&#x27;,\n",
       "                                                                 SimpleImputer(strategy=&#x27;most_frequent&#x27;))]),\n",
       "                                                [&#x27;host_is_superhost&#x27;,\n",
       "                                                 &#x27;host_identity_verified&#x27;])]))</pre></div></div></div></div></div>"
      ],
      "text/plain": [
       "Pipeline(steps=ColumnTransformer(remainder='passthrough',\n",
       "                                 transformers=[('num',\n",
       "                                                Pipeline(steps=[('imputer',\n",
       "                                                                 SimpleImputer(strategy='median')),\n",
       "                                                                ('scaler',\n",
       "                                                                 StandardScaler())]),\n",
       "                                                ['latitude', 'longitude',\n",
       "                                                 'accommodates', 'bathrooms',\n",
       "                                                 'bedrooms', 'beds',\n",
       "                                                 'Number of amenities',\n",
       "                                                 'guests_included',\n",
       "                                                 'price_per_extra_person',\n",
       "                                                 'minimum_nights',\n",
       "                                                 'number_of_reviews',\n",
       "                                                 'number_days...\n",
       "                                                Pipeline(steps=[('imputer',\n",
       "                                                                 SimpleImputer(fill_value='unknown',\n",
       "                                                                               strategy='constant')),\n",
       "                                                                ('onehot',\n",
       "                                                                 OneHotEncoder(handle_unknown='ignore'))]),\n",
       "                                                ['neighbourhood_cleansed',\n",
       "                                                 'property_type', 'room_type',\n",
       "                                                 'bed_type',\n",
       "                                                 'cancellation_policy']),\n",
       "                                               ('binary',\n",
       "                                                Pipeline(steps=[('imputer',\n",
       "                                                                 SimpleImputer(strategy='most_frequent'))]),\n",
       "                                                ['host_is_superhost',\n",
       "                                                 'host_identity_verified'])]))"
      ]
     },
     "execution_count": 41,
     "metadata": {},
     "output_type": "execute_result"
    }
   ],
   "source": [
    "pipe = Pipeline(preprocessor) ## self practice\n",
    "pipe"
   ]
  },
  {
   "cell_type": "markdown",
   "metadata": {},
   "source": [
    "# Transform: fit_transform() for TRAIN"
   ]
  },
  {
   "cell_type": "code",
   "execution_count": 17,
   "metadata": {},
   "outputs": [
    {
     "data": {
      "text/plain": [
       "array([[ 0.82254842,  0.69215829,  0.54753414, ...,  0.        ,\n",
       "         1.        ,  1.        ],\n",
       "       [ 0.55146572,  0.15729058,  0.54753414, ...,  0.        ,\n",
       "         0.        ,  1.        ],\n",
       "       [ 0.07311286, -1.97951247, -0.59100739, ...,  0.        ,\n",
       "         0.        ,  0.        ],\n",
       "       ...,\n",
       "       [-0.61093878, -0.07631528,  3.96315871, ...,  0.        ,\n",
       "         0.        ,  1.        ],\n",
       "       [ 1.17819153, -0.94575177, -1.16027815, ...,  0.        ,\n",
       "         0.        ,  0.        ],\n",
       "       [-0.33618088,  1.03587419, -0.59100739, ...,  0.        ,\n",
       "         0.        ,  1.        ]])"
      ]
     },
     "execution_count": 17,
     "metadata": {},
     "output_type": "execute_result"
    }
   ],
   "source": [
    "#Fit and transform the train data\n",
    "train_x = preprocessor.fit_transform(train_inputs)\n",
    "\n",
    "train_x"
   ]
  },
  {
   "cell_type": "code",
   "execution_count": 18,
   "metadata": {},
   "outputs": [
    {
     "data": {
      "text/plain": [
       "(2488, 66)"
      ]
     },
     "execution_count": 18,
     "metadata": {},
     "output_type": "execute_result"
    }
   ],
   "source": [
    "train_x.shape"
   ]
  },
  {
   "cell_type": "markdown",
   "metadata": {},
   "source": [
    "# Tranform: transform() for TEST"
   ]
  },
  {
   "cell_type": "code",
   "execution_count": 19,
   "metadata": {},
   "outputs": [
    {
     "data": {
      "text/plain": [
       "array([[-1.21269719, -1.20324989,  0.54753414, ...,  0.        ,\n",
       "         0.        ,  1.        ],\n",
       "       [-2.86419979, -2.67831359, -0.59100739, ...,  0.        ,\n",
       "         0.        ,  0.        ],\n",
       "       [-0.11443035,  1.26295963, -0.59100739, ...,  0.        ,\n",
       "         0.        ,  1.        ],\n",
       "       ...,\n",
       "       [ 0.47803436, -1.63486781, -0.59100739, ...,  0.        ,\n",
       "         1.        ,  1.        ],\n",
       "       [ 0.59928397,  0.34795157,  2.82461719, ...,  0.        ,\n",
       "         0.        ,  0.        ],\n",
       "       [ 0.19953968,  0.22845713, -0.59100739, ...,  0.        ,\n",
       "         0.        ,  1.        ]])"
      ]
     },
     "execution_count": 19,
     "metadata": {},
     "output_type": "execute_result"
    }
   ],
   "source": [
    "# Transform the test data\n",
    "test_x = preprocessor.transform(test_inputs)\n",
    "\n",
    "test_x"
   ]
  },
  {
   "cell_type": "code",
   "execution_count": 20,
   "metadata": {},
   "outputs": [
    {
     "data": {
      "text/plain": [
       "(1067, 66)"
      ]
     },
     "execution_count": 20,
     "metadata": {},
     "output_type": "execute_result"
    }
   ],
   "source": [
    "test_x.shape"
   ]
  },
  {
   "cell_type": "markdown",
   "metadata": {},
   "source": [
    "# Feature Names (optional)"
   ]
  },
  {
   "cell_type": "markdown",
   "metadata": {},
   "source": [
    "You can get the feature names if you are running the new version of Scikit-Learn.\n",
    "\n",
    "First, check your version of scikit-learn. If it is below 1.1.1, you might have to update it to the latest version as described below:"
   ]
  },
  {
   "cell_type": "code",
   "execution_count": 21,
   "metadata": {},
   "outputs": [
    {
     "data": {
      "text/plain": [
       "'1.2.1'"
      ]
     },
     "execution_count": 21,
     "metadata": {},
     "output_type": "execute_result"
    }
   ],
   "source": [
    "# Check if your scikit-learn version is below 1.1.1\n",
    "\n",
    "import sklearn\n",
    "\n",
    "sklearn.__version__"
   ]
  },
  {
   "cell_type": "raw",
   "metadata": {},
   "source": [
    "#If the above cell generates a version less than 1.1.1, then convert this cell to a \"code\" cell and execute it.\n",
    "\n",
    "!pip install --upgrade pip\n",
    "!pip install -U scikit-learn\n",
    "\n",
    "#Then, close the notebook. Exit out of Jupyter. Restart it, and run all cells above"
   ]
  },
  {
   "cell_type": "code",
   "execution_count": 22,
   "metadata": {},
   "outputs": [
    {
     "data": {
      "text/plain": [
       "array(['num__latitude', 'num__longitude', 'num__accommodates',\n",
       "       'num__bathrooms', 'num__bedrooms', 'num__beds',\n",
       "       'num__Number of amenities', 'num__guests_included',\n",
       "       'num__price_per_extra_person', 'num__minimum_nights',\n",
       "       'num__number_of_reviews', 'num__number_days_btw_first_last_review',\n",
       "       'num__review_scores_rating', 'cat__neighbourhood_cleansed_Allston',\n",
       "       'cat__neighbourhood_cleansed_Back Bay',\n",
       "       'cat__neighbourhood_cleansed_Bay Village',\n",
       "       'cat__neighbourhood_cleansed_Beacon Hill',\n",
       "       'cat__neighbourhood_cleansed_Brighton',\n",
       "       'cat__neighbourhood_cleansed_Charlestown',\n",
       "       'cat__neighbourhood_cleansed_Chinatown',\n",
       "       'cat__neighbourhood_cleansed_Dorchester',\n",
       "       'cat__neighbourhood_cleansed_Downtown',\n",
       "       'cat__neighbourhood_cleansed_East Boston',\n",
       "       'cat__neighbourhood_cleansed_Fenway',\n",
       "       'cat__neighbourhood_cleansed_Hyde Park',\n",
       "       'cat__neighbourhood_cleansed_Jamaica Plain',\n",
       "       'cat__neighbourhood_cleansed_Leather District',\n",
       "       'cat__neighbourhood_cleansed_Longwood Medical Area',\n",
       "       'cat__neighbourhood_cleansed_Mattapan',\n",
       "       'cat__neighbourhood_cleansed_Mission Hill',\n",
       "       'cat__neighbourhood_cleansed_North End',\n",
       "       'cat__neighbourhood_cleansed_Roslindale',\n",
       "       'cat__neighbourhood_cleansed_Roxbury',\n",
       "       'cat__neighbourhood_cleansed_South Boston',\n",
       "       'cat__neighbourhood_cleansed_South Boston Waterfront',\n",
       "       'cat__neighbourhood_cleansed_South End',\n",
       "       'cat__neighbourhood_cleansed_West End',\n",
       "       'cat__neighbourhood_cleansed_West Roxbury',\n",
       "       'cat__property_type_Apartment',\n",
       "       'cat__property_type_Bed & Breakfast', 'cat__property_type_Boat',\n",
       "       'cat__property_type_Camper/RV', 'cat__property_type_Condominium',\n",
       "       'cat__property_type_Dorm', 'cat__property_type_Entire Floor',\n",
       "       'cat__property_type_Guesthouse', 'cat__property_type_House',\n",
       "       'cat__property_type_Loft', 'cat__property_type_Other',\n",
       "       'cat__property_type_Townhouse', 'cat__property_type_Villa',\n",
       "       'cat__property_type_unknown', 'cat__room_type_Entire home/apt',\n",
       "       'cat__room_type_Private room', 'cat__room_type_Shared room',\n",
       "       'cat__bed_type_Airbed', 'cat__bed_type_Couch',\n",
       "       'cat__bed_type_Futon', 'cat__bed_type_Pull-out Sofa',\n",
       "       'cat__bed_type_Real Bed', 'cat__cancellation_policy_flexible',\n",
       "       'cat__cancellation_policy_moderate',\n",
       "       'cat__cancellation_policy_strict',\n",
       "       'cat__cancellation_policy_super_strict_30',\n",
       "       'binary__host_is_superhost', 'binary__host_identity_verified'],\n",
       "      dtype=object)"
      ]
     },
     "execution_count": 22,
     "metadata": {},
     "output_type": "execute_result"
    }
   ],
   "source": [
    "# Now we can retrieve the column names:\n",
    "\n",
    "preprocessor.get_feature_names_out()"
   ]
  },
  {
   "cell_type": "code",
   "execution_count": 23,
   "metadata": {},
   "outputs": [
    {
     "data": {
      "text/html": [
       "<div>\n",
       "<style scoped>\n",
       "    .dataframe tbody tr th:only-of-type {\n",
       "        vertical-align: middle;\n",
       "    }\n",
       "\n",
       "    .dataframe tbody tr th {\n",
       "        vertical-align: top;\n",
       "    }\n",
       "\n",
       "    .dataframe thead th {\n",
       "        text-align: right;\n",
       "    }\n",
       "</style>\n",
       "<table border=\"1\" class=\"dataframe\">\n",
       "  <thead>\n",
       "    <tr style=\"text-align: right;\">\n",
       "      <th></th>\n",
       "      <th>num__latitude</th>\n",
       "      <th>num__longitude</th>\n",
       "      <th>num__accommodates</th>\n",
       "      <th>num__bathrooms</th>\n",
       "      <th>num__bedrooms</th>\n",
       "      <th>num__beds</th>\n",
       "      <th>num__Number of amenities</th>\n",
       "      <th>num__guests_included</th>\n",
       "      <th>num__price_per_extra_person</th>\n",
       "      <th>num__minimum_nights</th>\n",
       "      <th>...</th>\n",
       "      <th>cat__bed_type_Couch</th>\n",
       "      <th>cat__bed_type_Futon</th>\n",
       "      <th>cat__bed_type_Pull-out Sofa</th>\n",
       "      <th>cat__bed_type_Real Bed</th>\n",
       "      <th>cat__cancellation_policy_flexible</th>\n",
       "      <th>cat__cancellation_policy_moderate</th>\n",
       "      <th>cat__cancellation_policy_strict</th>\n",
       "      <th>cat__cancellation_policy_super_strict_30</th>\n",
       "      <th>binary__host_is_superhost</th>\n",
       "      <th>binary__host_identity_verified</th>\n",
       "    </tr>\n",
       "  </thead>\n",
       "  <tbody>\n",
       "    <tr>\n",
       "      <th>0</th>\n",
       "      <td>0.822548</td>\n",
       "      <td>0.692158</td>\n",
       "      <td>0.547534</td>\n",
       "      <td>1.606727</td>\n",
       "      <td>1.014067</td>\n",
       "      <td>0.421337</td>\n",
       "      <td>1.048032</td>\n",
       "      <td>-0.403158</td>\n",
       "      <td>-0.559031</td>\n",
       "      <td>-0.140022</td>\n",
       "      <td>...</td>\n",
       "      <td>0.0</td>\n",
       "      <td>0.0</td>\n",
       "      <td>0.0</td>\n",
       "      <td>1.0</td>\n",
       "      <td>0.0</td>\n",
       "      <td>0.0</td>\n",
       "      <td>1.0</td>\n",
       "      <td>0.0</td>\n",
       "      <td>1.0</td>\n",
       "      <td>1.0</td>\n",
       "    </tr>\n",
       "    <tr>\n",
       "      <th>1</th>\n",
       "      <td>0.551466</td>\n",
       "      <td>0.157291</td>\n",
       "      <td>0.547534</td>\n",
       "      <td>-0.432312</td>\n",
       "      <td>-0.327240</td>\n",
       "      <td>-0.610441</td>\n",
       "      <td>0.636851</td>\n",
       "      <td>-0.403158</td>\n",
       "      <td>-0.559031</td>\n",
       "      <td>-0.140022</td>\n",
       "      <td>...</td>\n",
       "      <td>0.0</td>\n",
       "      <td>0.0</td>\n",
       "      <td>0.0</td>\n",
       "      <td>1.0</td>\n",
       "      <td>0.0</td>\n",
       "      <td>0.0</td>\n",
       "      <td>1.0</td>\n",
       "      <td>0.0</td>\n",
       "      <td>0.0</td>\n",
       "      <td>1.0</td>\n",
       "    </tr>\n",
       "    <tr>\n",
       "      <th>2</th>\n",
       "      <td>0.073113</td>\n",
       "      <td>-1.979512</td>\n",
       "      <td>-0.591007</td>\n",
       "      <td>0.587207</td>\n",
       "      <td>-0.327240</td>\n",
       "      <td>-0.610441</td>\n",
       "      <td>-1.624644</td>\n",
       "      <td>-0.403158</td>\n",
       "      <td>-0.559031</td>\n",
       "      <td>0.282250</td>\n",
       "      <td>...</td>\n",
       "      <td>0.0</td>\n",
       "      <td>0.0</td>\n",
       "      <td>0.0</td>\n",
       "      <td>1.0</td>\n",
       "      <td>1.0</td>\n",
       "      <td>0.0</td>\n",
       "      <td>0.0</td>\n",
       "      <td>0.0</td>\n",
       "      <td>0.0</td>\n",
       "      <td>0.0</td>\n",
       "    </tr>\n",
       "    <tr>\n",
       "      <th>3</th>\n",
       "      <td>-0.183786</td>\n",
       "      <td>0.305172</td>\n",
       "      <td>-1.160278</td>\n",
       "      <td>-0.432312</td>\n",
       "      <td>-0.327240</td>\n",
       "      <td>-0.610441</td>\n",
       "      <td>0.020080</td>\n",
       "      <td>-0.403158</td>\n",
       "      <td>0.201644</td>\n",
       "      <td>-0.280779</td>\n",
       "      <td>...</td>\n",
       "      <td>0.0</td>\n",
       "      <td>0.0</td>\n",
       "      <td>0.0</td>\n",
       "      <td>1.0</td>\n",
       "      <td>1.0</td>\n",
       "      <td>0.0</td>\n",
       "      <td>0.0</td>\n",
       "      <td>0.0</td>\n",
       "      <td>0.0</td>\n",
       "      <td>0.0</td>\n",
       "    </tr>\n",
       "    <tr>\n",
       "      <th>4</th>\n",
       "      <td>-1.244238</td>\n",
       "      <td>-0.580193</td>\n",
       "      <td>0.547534</td>\n",
       "      <td>-0.432312</td>\n",
       "      <td>1.014067</td>\n",
       "      <td>0.421337</td>\n",
       "      <td>-0.185511</td>\n",
       "      <td>0.530787</td>\n",
       "      <td>1.215877</td>\n",
       "      <td>-0.140022</td>\n",
       "      <td>...</td>\n",
       "      <td>0.0</td>\n",
       "      <td>0.0</td>\n",
       "      <td>0.0</td>\n",
       "      <td>1.0</td>\n",
       "      <td>1.0</td>\n",
       "      <td>0.0</td>\n",
       "      <td>0.0</td>\n",
       "      <td>0.0</td>\n",
       "      <td>0.0</td>\n",
       "      <td>1.0</td>\n",
       "    </tr>\n",
       "    <tr>\n",
       "      <th>...</th>\n",
       "      <td>...</td>\n",
       "      <td>...</td>\n",
       "      <td>...</td>\n",
       "      <td>...</td>\n",
       "      <td>...</td>\n",
       "      <td>...</td>\n",
       "      <td>...</td>\n",
       "      <td>...</td>\n",
       "      <td>...</td>\n",
       "      <td>...</td>\n",
       "      <td>...</td>\n",
       "      <td>...</td>\n",
       "      <td>...</td>\n",
       "      <td>...</td>\n",
       "      <td>...</td>\n",
       "      <td>...</td>\n",
       "      <td>...</td>\n",
       "      <td>...</td>\n",
       "      <td>...</td>\n",
       "      <td>...</td>\n",
       "      <td>...</td>\n",
       "    </tr>\n",
       "    <tr>\n",
       "      <th>2483</th>\n",
       "      <td>0.246338</td>\n",
       "      <td>0.313836</td>\n",
       "      <td>-1.160278</td>\n",
       "      <td>-0.432312</td>\n",
       "      <td>-0.327240</td>\n",
       "      <td>-0.610441</td>\n",
       "      <td>-2.241416</td>\n",
       "      <td>-0.403158</td>\n",
       "      <td>0.049509</td>\n",
       "      <td>-0.280779</td>\n",
       "      <td>...</td>\n",
       "      <td>0.0</td>\n",
       "      <td>0.0</td>\n",
       "      <td>0.0</td>\n",
       "      <td>1.0</td>\n",
       "      <td>0.0</td>\n",
       "      <td>1.0</td>\n",
       "      <td>0.0</td>\n",
       "      <td>0.0</td>\n",
       "      <td>0.0</td>\n",
       "      <td>1.0</td>\n",
       "    </tr>\n",
       "    <tr>\n",
       "      <th>2484</th>\n",
       "      <td>0.373761</td>\n",
       "      <td>0.196639</td>\n",
       "      <td>0.547534</td>\n",
       "      <td>-0.432312</td>\n",
       "      <td>-0.327240</td>\n",
       "      <td>0.421337</td>\n",
       "      <td>0.225670</td>\n",
       "      <td>0.530787</td>\n",
       "      <td>1.469436</td>\n",
       "      <td>0.282250</td>\n",
       "      <td>...</td>\n",
       "      <td>0.0</td>\n",
       "      <td>0.0</td>\n",
       "      <td>0.0</td>\n",
       "      <td>1.0</td>\n",
       "      <td>0.0</td>\n",
       "      <td>0.0</td>\n",
       "      <td>1.0</td>\n",
       "      <td>0.0</td>\n",
       "      <td>0.0</td>\n",
       "      <td>0.0</td>\n",
       "    </tr>\n",
       "    <tr>\n",
       "      <th>2485</th>\n",
       "      <td>-0.610939</td>\n",
       "      <td>-0.076315</td>\n",
       "      <td>3.963159</td>\n",
       "      <td>0.587207</td>\n",
       "      <td>2.355374</td>\n",
       "      <td>2.484891</td>\n",
       "      <td>0.636851</td>\n",
       "      <td>6.134455</td>\n",
       "      <td>-0.559031</td>\n",
       "      <td>-0.280779</td>\n",
       "      <td>...</td>\n",
       "      <td>0.0</td>\n",
       "      <td>0.0</td>\n",
       "      <td>0.0</td>\n",
       "      <td>1.0</td>\n",
       "      <td>0.0</td>\n",
       "      <td>1.0</td>\n",
       "      <td>0.0</td>\n",
       "      <td>0.0</td>\n",
       "      <td>0.0</td>\n",
       "      <td>1.0</td>\n",
       "    </tr>\n",
       "    <tr>\n",
       "      <th>2486</th>\n",
       "      <td>1.178192</td>\n",
       "      <td>-0.945752</td>\n",
       "      <td>-1.160278</td>\n",
       "      <td>-0.432312</td>\n",
       "      <td>-0.327240</td>\n",
       "      <td>-0.610441</td>\n",
       "      <td>0.020080</td>\n",
       "      <td>-0.403158</td>\n",
       "      <td>1.469436</td>\n",
       "      <td>-0.280779</td>\n",
       "      <td>...</td>\n",
       "      <td>0.0</td>\n",
       "      <td>0.0</td>\n",
       "      <td>0.0</td>\n",
       "      <td>1.0</td>\n",
       "      <td>0.0</td>\n",
       "      <td>0.0</td>\n",
       "      <td>1.0</td>\n",
       "      <td>0.0</td>\n",
       "      <td>0.0</td>\n",
       "      <td>0.0</td>\n",
       "    </tr>\n",
       "    <tr>\n",
       "      <th>2487</th>\n",
       "      <td>-0.336181</td>\n",
       "      <td>1.035874</td>\n",
       "      <td>-0.591007</td>\n",
       "      <td>-0.432312</td>\n",
       "      <td>-0.327240</td>\n",
       "      <td>-0.610441</td>\n",
       "      <td>-1.007873</td>\n",
       "      <td>-0.403158</td>\n",
       "      <td>-0.559031</td>\n",
       "      <td>-0.140022</td>\n",
       "      <td>...</td>\n",
       "      <td>0.0</td>\n",
       "      <td>0.0</td>\n",
       "      <td>0.0</td>\n",
       "      <td>1.0</td>\n",
       "      <td>0.0</td>\n",
       "      <td>1.0</td>\n",
       "      <td>0.0</td>\n",
       "      <td>0.0</td>\n",
       "      <td>0.0</td>\n",
       "      <td>1.0</td>\n",
       "    </tr>\n",
       "  </tbody>\n",
       "</table>\n",
       "<p>2488 rows × 66 columns</p>\n",
       "</div>"
      ],
      "text/plain": [
       "      num__latitude  num__longitude  num__accommodates  num__bathrooms  \\\n",
       "0          0.822548        0.692158           0.547534        1.606727   \n",
       "1          0.551466        0.157291           0.547534       -0.432312   \n",
       "2          0.073113       -1.979512          -0.591007        0.587207   \n",
       "3         -0.183786        0.305172          -1.160278       -0.432312   \n",
       "4         -1.244238       -0.580193           0.547534       -0.432312   \n",
       "...             ...             ...                ...             ...   \n",
       "2483       0.246338        0.313836          -1.160278       -0.432312   \n",
       "2484       0.373761        0.196639           0.547534       -0.432312   \n",
       "2485      -0.610939       -0.076315           3.963159        0.587207   \n",
       "2486       1.178192       -0.945752          -1.160278       -0.432312   \n",
       "2487      -0.336181        1.035874          -0.591007       -0.432312   \n",
       "\n",
       "      num__bedrooms  num__beds  num__Number of amenities  \\\n",
       "0          1.014067   0.421337                  1.048032   \n",
       "1         -0.327240  -0.610441                  0.636851   \n",
       "2         -0.327240  -0.610441                 -1.624644   \n",
       "3         -0.327240  -0.610441                  0.020080   \n",
       "4          1.014067   0.421337                 -0.185511   \n",
       "...             ...        ...                       ...   \n",
       "2483      -0.327240  -0.610441                 -2.241416   \n",
       "2484      -0.327240   0.421337                  0.225670   \n",
       "2485       2.355374   2.484891                  0.636851   \n",
       "2486      -0.327240  -0.610441                  0.020080   \n",
       "2487      -0.327240  -0.610441                 -1.007873   \n",
       "\n",
       "      num__guests_included  num__price_per_extra_person  num__minimum_nights  \\\n",
       "0                -0.403158                    -0.559031            -0.140022   \n",
       "1                -0.403158                    -0.559031            -0.140022   \n",
       "2                -0.403158                    -0.559031             0.282250   \n",
       "3                -0.403158                     0.201644            -0.280779   \n",
       "4                 0.530787                     1.215877            -0.140022   \n",
       "...                    ...                          ...                  ...   \n",
       "2483             -0.403158                     0.049509            -0.280779   \n",
       "2484              0.530787                     1.469436             0.282250   \n",
       "2485              6.134455                    -0.559031            -0.280779   \n",
       "2486             -0.403158                     1.469436            -0.280779   \n",
       "2487             -0.403158                    -0.559031            -0.140022   \n",
       "\n",
       "      ...  cat__bed_type_Couch  cat__bed_type_Futon  \\\n",
       "0     ...                  0.0                  0.0   \n",
       "1     ...                  0.0                  0.0   \n",
       "2     ...                  0.0                  0.0   \n",
       "3     ...                  0.0                  0.0   \n",
       "4     ...                  0.0                  0.0   \n",
       "...   ...                  ...                  ...   \n",
       "2483  ...                  0.0                  0.0   \n",
       "2484  ...                  0.0                  0.0   \n",
       "2485  ...                  0.0                  0.0   \n",
       "2486  ...                  0.0                  0.0   \n",
       "2487  ...                  0.0                  0.0   \n",
       "\n",
       "      cat__bed_type_Pull-out Sofa  cat__bed_type_Real Bed  \\\n",
       "0                             0.0                     1.0   \n",
       "1                             0.0                     1.0   \n",
       "2                             0.0                     1.0   \n",
       "3                             0.0                     1.0   \n",
       "4                             0.0                     1.0   \n",
       "...                           ...                     ...   \n",
       "2483                          0.0                     1.0   \n",
       "2484                          0.0                     1.0   \n",
       "2485                          0.0                     1.0   \n",
       "2486                          0.0                     1.0   \n",
       "2487                          0.0                     1.0   \n",
       "\n",
       "      cat__cancellation_policy_flexible  cat__cancellation_policy_moderate  \\\n",
       "0                                   0.0                                0.0   \n",
       "1                                   0.0                                0.0   \n",
       "2                                   1.0                                0.0   \n",
       "3                                   1.0                                0.0   \n",
       "4                                   1.0                                0.0   \n",
       "...                                 ...                                ...   \n",
       "2483                                0.0                                1.0   \n",
       "2484                                0.0                                0.0   \n",
       "2485                                0.0                                1.0   \n",
       "2486                                0.0                                0.0   \n",
       "2487                                0.0                                1.0   \n",
       "\n",
       "      cat__cancellation_policy_strict  \\\n",
       "0                                 1.0   \n",
       "1                                 1.0   \n",
       "2                                 0.0   \n",
       "3                                 0.0   \n",
       "4                                 0.0   \n",
       "...                               ...   \n",
       "2483                              0.0   \n",
       "2484                              1.0   \n",
       "2485                              0.0   \n",
       "2486                              1.0   \n",
       "2487                              0.0   \n",
       "\n",
       "      cat__cancellation_policy_super_strict_30  binary__host_is_superhost  \\\n",
       "0                                          0.0                        1.0   \n",
       "1                                          0.0                        0.0   \n",
       "2                                          0.0                        0.0   \n",
       "3                                          0.0                        0.0   \n",
       "4                                          0.0                        0.0   \n",
       "...                                        ...                        ...   \n",
       "2483                                       0.0                        0.0   \n",
       "2484                                       0.0                        0.0   \n",
       "2485                                       0.0                        0.0   \n",
       "2486                                       0.0                        0.0   \n",
       "2487                                       0.0                        0.0   \n",
       "\n",
       "      binary__host_identity_verified  \n",
       "0                                1.0  \n",
       "1                                1.0  \n",
       "2                                0.0  \n",
       "3                                0.0  \n",
       "4                                1.0  \n",
       "...                              ...  \n",
       "2483                             1.0  \n",
       "2484                             0.0  \n",
       "2485                             1.0  \n",
       "2486                             0.0  \n",
       "2487                             1.0  \n",
       "\n",
       "[2488 rows x 66 columns]"
      ]
     },
     "execution_count": 23,
     "metadata": {},
     "output_type": "execute_result"
    }
   ],
   "source": [
    "# If you wanted, you can recreate the data set in the processed format:\n",
    "\n",
    "airbnb_train_processed = pd.DataFrame(train_x, columns=preprocessor.get_feature_names_out())\n",
    "\n",
    "airbnb_train_processed"
   ]
  },
  {
   "cell_type": "code",
   "execution_count": null,
   "metadata": {},
   "outputs": [],
   "source": []
  }
 ],
 "metadata": {
  "kernelspec": {
   "display_name": "Python 3",
   "language": "python",
   "name": "python3"
  },
  "language_info": {
   "codemirror_mode": {
    "name": "ipython",
    "version": 3
   },
   "file_extension": ".py",
   "mimetype": "text/x-python",
   "name": "python",
   "nbconvert_exporter": "python",
   "pygments_lexer": "ipython3",
   "version": "3.10.9"
  },
  "nav_menu": {
   "height": "279px",
   "width": "309px"
  },
  "toc": {
   "base_numbering": 1,
   "nav_menu": {},
   "number_sections": false,
   "sideBar": true,
   "skip_h1_title": false,
   "title_cell": "Table of Contents",
   "title_sidebar": "Contents",
   "toc_cell": false,
   "toc_position": {},
   "toc_section_display": "block",
   "toc_window_display": false
  },
  "varInspector": {
   "cols": {
    "lenName": 16,
    "lenType": 16,
    "lenVar": 40
   },
   "kernels_config": {
    "python": {
     "delete_cmd_postfix": "",
     "delete_cmd_prefix": "del ",
     "library": "var_list.py",
     "varRefreshCmd": "print(var_dic_list())"
    },
    "r": {
     "delete_cmd_postfix": ") ",
     "delete_cmd_prefix": "rm(",
     "library": "var_list.r",
     "varRefreshCmd": "cat(var_dic_list()) "
    }
   },
   "types_to_exclude": [
    "module",
    "function",
    "builtin_function_or_method",
    "instance",
    "_Feature"
   ],
   "window_display": false
  },
  "vscode": {
   "interpreter": {
    "hash": "60d6ade46da10d861944f1dc19b949937240299674cad4ea5f02bea0a55efb55"
   }
  }
 },
 "nbformat": 4,
 "nbformat_minor": 1
}
